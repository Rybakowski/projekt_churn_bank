{
 "cells": [
  {
   "cell_type": "code",
   "execution_count": 1,
   "id": "c49d23d9-9d25-4876-8fa5-a41cd6afc0fc",
   "metadata": {
    "tags": []
   },
   "outputs": [],
   "source": [
    "import pandas as pd\n",
    "import numpy as np\n",
    "import os\n",
    "from matplotlib import pyplot as plt\n",
    "import seaborn as sns\n",
    "\n",
    "from sklearn.model_selection import train_test_split\n",
    "from sklearn import metrics\n",
    "from sklearn.metrics import f1_score\n",
    "from sklearn.metrics import recall_score\n",
    "\n",
    "from sklearn.linear_model import LogisticRegression\n",
    "from sklearn.tree import DecisionTreeClassifier\n",
    "from sklearn.ensemble import RandomForestClassifier\n",
    "from sklearn.ensemble import GradientBoostingClassifier\n",
    "import xgboost as xgb\n",
    "\n",
    "pd.set_option('display.max_columns', 500)\n",
    "import warnings\n",
    "warnings.filterwarnings('ignore')"
   ]
  },
  {
   "cell_type": "code",
   "execution_count": 7,
   "id": "e85c9e2f-f6f2-4c2f-b59d-e93f487cbc34",
   "metadata": {},
   "outputs": [],
   "source": [
    "#Base Directories\n",
    "os.chdir = r\"C:\\Users\\wikto\\OneDrive - SGH\\Documents\\SGH\\Data_science_II\""
   ]
  },
  {
   "cell_type": "code",
   "execution_count": 8,
   "id": "6c597399-d89d-4750-8d1b-f0d7ea7d0d83",
   "metadata": {},
   "outputs": [
    {
     "ename": "FileNotFoundError",
     "evalue": "[WinError 3] System nie może odnaleźć określonej ścieżki: './Telecommunications_Industry'",
     "output_type": "error",
     "traceback": [
      "\u001b[1;31m---------------------------------------------------------------------------\u001b[0m",
      "\u001b[1;31mFileNotFoundError\u001b[0m                         Traceback (most recent call last)",
      "Cell \u001b[1;32mIn[8], line 2\u001b[0m\n\u001b[0;32m      1\u001b[0m \u001b[38;5;66;03m#read all the available files / tables and create a set of all the unique columns available\u001b[39;00m\n\u001b[1;32m----> 2\u001b[0m list_of_files \u001b[38;5;241m=\u001b[39m \u001b[43mos\u001b[49m\u001b[38;5;241;43m.\u001b[39;49m\u001b[43mlistdir\u001b[49m\u001b[43m(\u001b[49m\u001b[38;5;124;43m'\u001b[39;49m\u001b[38;5;124;43m./Telecommunications_Industry\u001b[39;49m\u001b[38;5;124;43m'\u001b[39;49m\u001b[43m)\u001b[49m\n\u001b[0;32m      3\u001b[0m list_of_files\n",
      "\u001b[1;31mFileNotFoundError\u001b[0m: [WinError 3] System nie może odnaleźć określonej ścieżki: './Telecommunications_Industry'"
     ]
    }
   ],
   "source": [
    "#read all the available files / tables and create a set of all the unique columns available\n",
    "list_of_files = os.listdir('./Telecommunications_Industry')\n",
    "list_of_files"
   ]
  },
  {
   "cell_type": "code",
   "execution_count": 9,
   "id": "547a53d4-40fb-4220-83d3-9e594b50c0ae",
   "metadata": {},
   "outputs": [
    {
     "ename": "NameError",
     "evalue": "name 'list_of_files' is not defined",
     "output_type": "error",
     "traceback": [
      "\u001b[1;31m---------------------------------------------------------------------------\u001b[0m",
      "\u001b[1;31mNameError\u001b[0m                                 Traceback (most recent call last)",
      "Cell \u001b[1;32mIn[9], line 3\u001b[0m\n\u001b[0;32m      1\u001b[0m set_of_columns_available \u001b[38;5;241m=\u001b[39m \u001b[38;5;28mset\u001b[39m()\n\u001b[1;32m----> 3\u001b[0m \u001b[38;5;28;01mfor\u001b[39;00m file \u001b[38;5;129;01min\u001b[39;00m \u001b[43mlist_of_files\u001b[49m:\n\u001b[0;32m      4\u001b[0m     \u001b[38;5;28;01mif\u001b[39;00m \u001b[38;5;124m\"\u001b[39m\u001b[38;5;124m.xlsx\u001b[39m\u001b[38;5;124m\"\u001b[39m \u001b[38;5;129;01min\u001b[39;00m file:\n\u001b[0;32m      5\u001b[0m         df \u001b[38;5;241m=\u001b[39m pd\u001b[38;5;241m.\u001b[39mread_excel(\u001b[38;5;124m'\u001b[39m\u001b[38;5;124m./Telecommunications_Industry/\u001b[39m\u001b[38;5;124m'\u001b[39m \u001b[38;5;241m+\u001b[39m file)\n",
      "\u001b[1;31mNameError\u001b[0m: name 'list_of_files' is not defined"
     ]
    }
   ],
   "source": [
    "set_of_columns_available = set()\n",
    "\n",
    "for file in list_of_files:\n",
    "    if \".xlsx\" in file:\n",
    "        df = pd.read_excel('./Telecommunications_Industry/' + file)\n",
    "        cols_in_df = df.columns.tolist()\n",
    "        \n",
    "        set_of_columns_available.update(cols_in_df)\n",
    "        print(\"Columns in file:\", file, \"are\", cols_in_df)\n",
    "        print()\n",
    "        \n",
    "print(\"Total number of attributes / columns available :\", len(set_of_columns_available))\n",
    "print(set_of_columns_available)"
   ]
  },
  {
   "cell_type": "code",
   "execution_count": null,
   "id": "6024a7bc-d9a9-40e8-8640-a92d31996f1e",
   "metadata": {},
   "outputs": [],
   "source": [
    "# Combine multiple files using Customer ID as primary key\n",
    "# first read all the tables dataframes\n",
    "\n",
    "df = pd.read_excel('./Telecommunications_Industry/' + \"Telco_customer_churn.xlsx\")\n",
    "\n",
    "# There are two ways \"Customer ID\" is written in column names: one with and one without space \n",
    "# Fix column name to \"Customer ID\" in \"Telco_customer_churn.xlsx\" file\n",
    "df = df.rename(columns = {'CustomerID':'Customer ID'})\n",
    "\n",
    "list_of_xlsxs = ['CustomerChurn.xlsx', \n",
    "                'Telco_customer_churn_demographics.xlsx',\n",
    "                'Telco_customer_churn_location.xlsx',\n",
    "                'Telco_customer_churn_population.xlsx',\n",
    "                'Telco_customer_churn_services.xlsx',\n",
    "                'Telco_customer_churn_status.xlsx']\n",
    "\n",
    "for file in list_of_xlsxs:\n",
    "    temp = pd.read_excel('./Telecommunications_Industry/' + file)\n",
    "\n",
    "    if \"Customer ID\" in temp.columns.tolist():\n",
    "        df = pd.merge(df, temp, on = \"Customer ID\", how = \"left\", suffixes=('', '_remove'))\n",
    "        #df.join(temp.set_index(\"Customer ID\"), on = \"Customer ID\") \n",
    "    else:\n",
    "        df = pd.merge(df, temp, on = \"Zip Code\", how = \"left\", suffixes=('', '_remove'))\n",
    "            \n",
    "# remove the duplicate columns\n",
    "df.drop([i for i in df.columns if 'remove' in i], axis = 1, inplace = True)\n",
    "\n",
    "print(\"Total Number of columns : \", len(df.columns))\n",
    "print(\"List of columns :\", df.columns.tolist())"
   ]
  },
  {
   "cell_type": "code",
   "execution_count": null,
   "id": "92ba47ff-24b0-45b1-a0c9-3e1262135bc5",
   "metadata": {},
   "outputs": [],
   "source": [
    "df.head()"
   ]
  },
  {
   "cell_type": "code",
   "execution_count": null,
   "id": "efb9f7b0-d545-45f2-8988-38191d12f896",
   "metadata": {},
   "outputs": [],
   "source": [
    "df.info()"
   ]
  },
  {
   "cell_type": "code",
   "execution_count": null,
   "id": "b5f4d24a-7949-4a56-b8ba-ef47e5412ea5",
   "metadata": {},
   "outputs": [],
   "source": [
    "columns_with_null_values = [(col, df[col].isnull().sum()) for col in df.columns.tolist() if df[col].isnull().sum() > 0]\n",
    "columns_with_null_values"
   ]
  },
  {
   "cell_type": "code",
   "execution_count": null,
   "id": "495ff1e4-285f-4fd5-a8ed-3a79ad3c798f",
   "metadata": {},
   "outputs": [],
   "source": [
    "for i in columns_with_null_values:\n",
    "    # print(i[0])\n",
    "    print(i[0],'\\n', df[i[0]].unique(),'\\n')"
   ]
  },
  {
   "cell_type": "code",
   "execution_count": null,
   "id": "86970f4f-1775-4bd1-a79f-3f3bd622ce52",
   "metadata": {},
   "outputs": [],
   "source": [
    "# replacing na values in \"Churn Reason\" with \"Not Churned\"\n",
    "df[\"Churn Reason\"] = df[\"Churn Reason\"].fillna(\"Not Churned\")\n",
    "\n",
    "# replacing na values in \"Churn Category\" with \"Not Applicable\"\n",
    "df[\"Churn Category\"] = df[\"Churn Category\"].fillna(\"Not Applicable\")\n",
    "\n",
    "# replacing na values in \"Internet Type\" with \"Other\"\n",
    "df[\"Internet Type\"] = df[\"Internet Type\"].fillna(\"Other\")\n",
    "\n",
    "# replacing na values in \"Offer\" with \"Offer F\"\n",
    "df[\"Offer\"] = df[\"Offer\"].fillna(\"Offer F\")"
   ]
  },
  {
   "cell_type": "code",
   "execution_count": null,
   "id": "60a57782-1706-4423-a0af-a65332158326",
   "metadata": {},
   "outputs": [],
   "source": [
    "for i in df.columns:\n",
    "    print(i, df[i].unique())"
   ]
  },
  {
   "cell_type": "code",
   "execution_count": null,
   "id": "ac0ae46f-fe63-40e5-b4f7-0304b2b9ff7d",
   "metadata": {},
   "outputs": [],
   "source": [
    "df['Total Charges'].unique()"
   ]
  },
  {
   "cell_type": "code",
   "execution_count": null,
   "id": "d42909b9-5ad7-497e-9bcc-fe4ee537e1b1",
   "metadata": {},
   "outputs": [],
   "source": [
    "df['Total Charges'] = pd.to_numeric(df['Total Charges'], errors='coerce')"
   ]
  },
  {
   "cell_type": "code",
   "execution_count": null,
   "id": "3b1fe556-2203-42e3-bfcf-67fb5ba68a7d",
   "metadata": {},
   "outputs": [],
   "source": [
    "df['Total Charges'].info()"
   ]
  },
  {
   "cell_type": "code",
   "execution_count": null,
   "id": "4d87ad6a-04da-469e-b5c3-30b6e54810f1",
   "metadata": {},
   "outputs": [],
   "source": [
    "# Replace that with 0.0\n",
    "df[\"Total Charges\"] = np.where(df[\"Total Charges\"] == \" \", '0.0', df[\"Total Charges\"])"
   ]
  },
  {
   "cell_type": "code",
   "execution_count": null,
   "id": "1ff94d4f-d6da-487d-bb6a-11884bc30927",
   "metadata": {},
   "outputs": [],
   "source": [
    "df.describe()"
   ]
  },
  {
   "cell_type": "code",
   "execution_count": null,
   "id": "9d5180f2-4d89-4a33-be4a-7746de526aaf",
   "metadata": {},
   "outputs": [],
   "source": [
    "for col in df.columns.tolist():\n",
    "    print(col)\n",
    "    print(\"Number of unique values:\", df[col].nunique())\n",
    "    print(\"Unique Values:\", df[col].unique()[:10])\n",
    "    \n",
    "    if(df[col].dtype == 'int64' or df[col].dtype == 'float64'):\n",
    "        print(\"max :\", df[col].max())\n",
    "        print(\"min :\", df[col].min())\n",
    "\n",
    "    print()"
   ]
  },
  {
   "cell_type": "code",
   "execution_count": null,
   "id": "2c778eb8-2026-4a42-b66b-006c6d64d364",
   "metadata": {},
   "outputs": [],
   "source": [
    "#for \"Multiple Lines\" column\n",
    "df[\"Multiple Lines\"] = np.where(df[\"Multiple Lines\"] == \"No phone service\", \"No\", df[\"Multiple Lines\"])\n",
    "# df[\"Multiple Lines\"] = df[\"Multiple Lines\"].replace({\"No phone service\": \"No\"}) \n",
    "df[\"Multiple Lines\"].value_counts()"
   ]
  },
  {
   "cell_type": "code",
   "execution_count": null,
   "id": "57573aaa-3f2b-468a-ad6e-910f8536559f",
   "metadata": {},
   "outputs": [],
   "source": [
    "#columns in which we want to replace \"No internet service\" with \"No\"\n",
    "cols_to_change = [\"Online Security\", \"Online Backup\", \"Device Protection\", \"Tech Support\", \"Streaming TV\", \"Streaming Movies\"]\n",
    "df[cols_to_change] = np.where(df[cols_to_change] == \"No internet service\", \"No\", df[cols_to_change])"
   ]
  },
  {
   "cell_type": "code",
   "execution_count": null,
   "id": "7bd31fec-412e-460b-8d1f-b056ffd99bbe",
   "metadata": {},
   "outputs": [],
   "source": [
    "# group tnure into bins \n",
    "df[\"Tenure Bins\"] = pd.cut(df['Tenure in Months'], [0, 12, 24, 48, 60, 72])\n",
    "print(df.value_counts(\"Tenure Bins\"))\n",
    "df[\"Tenure Bins\"].value_counts()"
   ]
  },
  {
   "cell_type": "code",
   "execution_count": null,
   "id": "6f591855-c11a-426b-8ba6-9f6a2c078f01",
   "metadata": {},
   "outputs": [],
   "source": [
    "df['Population'] = df['Population'].astype(int)"
   ]
  },
  {
   "cell_type": "markdown",
   "id": "84cd9ccf-abc5-48f4-8fdf-ed597f3c550f",
   "metadata": {},
   "source": [
    "## Removing unnecessary columns"
   ]
  },
  {
   "cell_type": "code",
   "execution_count": null,
   "id": "962496ec-4431-4dfd-8e9a-10a5b9b4991a",
   "metadata": {},
   "outputs": [],
   "source": [
    "list_of_columns_to_drop = []"
   ]
  },
  {
   "cell_type": "code",
   "execution_count": null,
   "id": "a7f0ea13-4ef9-4d46-a98f-238b21e27e55",
   "metadata": {},
   "outputs": [],
   "source": [
    "for i in [\"Customer ID\"]:\n",
    "    print(i, df[i].head())\n",
    "    print(\"\\n Number of Unique Values: \", df[i].nunique())"
   ]
  },
  {
   "cell_type": "code",
   "execution_count": null,
   "id": "aa38faf3-687f-4eea-9682-5813dd1a438c",
   "metadata": {},
   "outputs": [],
   "source": [
    "for i in ['Count']:\n",
    "    print(i, df[i].head())\n",
    "    print(\"\\n Number of Unique Values: \", df[i].nunique())"
   ]
  },
  {
   "cell_type": "code",
   "execution_count": null,
   "id": "32f7e8c1-fca4-4546-af97-353d7e5415b2",
   "metadata": {},
   "outputs": [],
   "source": [
    "list_of_columns_to_drop.append('Count')"
   ]
  },
  {
   "cell_type": "code",
   "execution_count": null,
   "id": "d63be38c-5f49-4a7f-93e8-0dded612cff2",
   "metadata": {},
   "outputs": [],
   "source": [
    "for i in ['Country', 'State']:\n",
    "    print(i, df[i].head())\n",
    "    print(\"\\n Number of Unique Values: \", df[i].nunique())"
   ]
  },
  {
   "cell_type": "code",
   "execution_count": null,
   "id": "16bc1070-60b6-4144-bd62-af926b128722",
   "metadata": {},
   "outputs": [],
   "source": [
    "list_of_columns_to_drop.append('Country')\n",
    "list_of_columns_to_drop.append('State')"
   ]
  },
  {
   "cell_type": "code",
   "execution_count": null,
   "id": "a7259693-e6f0-4532-a297-d207ff474a29",
   "metadata": {},
   "outputs": [],
   "source": [
    "for i in ['Churn', 'Churn Label']:\n",
    "    print(i, df[i].head())\n",
    "    print(\"\\n Number of Unique Values: \", df[i].nunique())"
   ]
  },
  {
   "cell_type": "code",
   "execution_count": null,
   "id": "cad2b3cf-8828-4c44-a818-651a1e1bc9d5",
   "metadata": {},
   "outputs": [],
   "source": [
    "(df[\"Churn\"] == df[\"Churn Label\"]).all()"
   ]
  },
  {
   "cell_type": "code",
   "execution_count": null,
   "id": "4328e57f-85e4-43c3-b388-4206214b8bda",
   "metadata": {},
   "outputs": [],
   "source": [
    "list_of_columns_to_drop.append('Churn Label')"
   ]
  },
  {
   "cell_type": "code",
   "execution_count": null,
   "id": "bd658284-75a9-4c54-b781-34d3dd069f34",
   "metadata": {},
   "outputs": [],
   "source": [
    "for i in ['Location ID', 'ID']:\n",
    "    print(i, df[i].head())\n",
    "    print(\"\\n Number of Unique Values: \", df[i].nunique())"
   ]
  },
  {
   "cell_type": "code",
   "execution_count": null,
   "id": "59cd0af6-0bca-4136-aaad-89a635a532e2",
   "metadata": {},
   "outputs": [],
   "source": [
    "list_of_columns_to_drop.append('Location ID')"
   ]
  },
  {
   "cell_type": "code",
   "execution_count": null,
   "id": "89c416b0-8138-474d-bb41-b5091ea438cb",
   "metadata": {},
   "outputs": [],
   "source": [
    "# According to the defination of column given in dataset - this column was just used to identify row number in population table and does not correspond to any info about our users \n",
    "list_of_columns_to_drop.append(\"ID\")"
   ]
  },
  {
   "cell_type": "code",
   "execution_count": null,
   "id": "c611cd9a-b2f5-458f-a9c7-25665d23d4be",
   "metadata": {},
   "outputs": [],
   "source": [
    "for i in ['Service ID', 'Status ID']:\n",
    "    print(i, df[i].head())\n",
    "    print(\"\\n Number of Unique Values: \", df[i].nunique())"
   ]
  },
  {
   "cell_type": "code",
   "execution_count": null,
   "id": "d3502275-2bbc-4d75-b863-52642d1bc8b2",
   "metadata": {},
   "outputs": [],
   "source": [
    "list_of_columns_to_drop.append(\"Service ID\")\n",
    "list_of_columns_to_drop.append(\"Status ID\")"
   ]
  },
  {
   "cell_type": "code",
   "execution_count": null,
   "id": "482d1e8e-d86f-402a-845f-a4f0488e7865",
   "metadata": {},
   "outputs": [],
   "source": [
    "for i in ['Quarter']:\n",
    "    print(i, df[i].head())\n",
    "    print(\"\\n Number of Unique Values: \", df[i].nunique())"
   ]
  },
  {
   "cell_type": "code",
   "execution_count": null,
   "id": "9301f95f-5985-42bf-9f0c-7922f10439ce",
   "metadata": {},
   "outputs": [],
   "source": [
    "list_of_columns_to_drop.append(\"Quarter\")"
   ]
  },
  {
   "cell_type": "code",
   "execution_count": null,
   "id": "4038fe3e-7f38-44a2-894b-accf2cb1450e",
   "metadata": {},
   "outputs": [],
   "source": [
    "for i in [\"LoyaltyID\"]:\n",
    "    print(i, df[i].head())\n",
    "    print(\"\\n Number of Unique Values: \", df[i].nunique())\n",
    "    "
   ]
  },
  {
   "cell_type": "code",
   "execution_count": null,
   "id": "5592e396-55b7-4ff7-a5d1-849b31e91e31",
   "metadata": {},
   "outputs": [],
   "source": [
    "list_of_columns_to_drop.append(\"LoyaltyID\")"
   ]
  },
  {
   "cell_type": "code",
   "execution_count": null,
   "id": "953c88bc-bdb1-4cc8-b603-147dbef89746",
   "metadata": {},
   "outputs": [],
   "source": [
    "list_of_columns_to_drop.append(\"Tenure\")\n",
    "list_of_columns_to_drop.append(\"Tenure Months\")\n",
    "list_of_columns_to_drop.append(\"Churn\")\n",
    "list_of_columns_to_drop.append(\"Internet Type\")\n",
    "list_of_columns_to_drop.append(\"Monthly Charge\")\n",
    "list_of_columns_to_drop.append(\"Tenure in Months\")"
   ]
  },
  {
   "cell_type": "code",
   "execution_count": null,
   "id": "c21722b9-1d73-43a0-a95f-f76d28d63668",
   "metadata": {},
   "outputs": [],
   "source": [
    "list_of_columns_to_drop.append(\"Lat Long\")\n",
    "list_of_columns_to_drop.append(\"Zip Code\")\n",
    "list_of_columns_to_drop.append(\"City\")"
   ]
  },
  {
   "cell_type": "code",
   "execution_count": null,
   "id": "8c37ac2e-33f5-48ee-b457-e81dcfaa2ed4",
   "metadata": {},
   "outputs": [],
   "source": [
    "# Data leakage\n",
    "list_of_columns_to_drop.append(\"Churn Reason\")\n",
    "list_of_columns_to_drop.append(\"Churn Category\")\n",
    "list_of_columns_to_drop.append(\"Customer Status\")\n",
    "list_of_columns_to_drop.append(\"CLTV\")\n",
    "list_of_columns_to_drop.append(\"Churn Score\")\n",
    "list_of_columns_to_drop.append(\"Monthly Charges\")\n",
    "list_of_columns_to_drop.append(\"Total Charges\")"
   ]
  },
  {
   "cell_type": "code",
   "execution_count": null,
   "id": "f201a9e7-d331-40eb-a61f-e8435c517a08",
   "metadata": {},
   "outputs": [],
   "source": [
    "list(set(list_of_columns_to_drop))"
   ]
  },
  {
   "cell_type": "code",
   "execution_count": null,
   "id": "2bee6261-40c0-4337-a906-9c3b8469a033",
   "metadata": {},
   "outputs": [],
   "source": [
    "df.drop(list_of_columns_to_drop, axis = 1, inplace = True)"
   ]
  },
  {
   "cell_type": "code",
   "execution_count": null,
   "id": "72daa7ee-77f7-4dbd-9fc2-e3a8505704e2",
   "metadata": {},
   "outputs": [],
   "source": [
    "df['Satisfaction Score Label'] = df['Satisfaction Score'].astype('category')"
   ]
  },
  {
   "cell_type": "code",
   "execution_count": null,
   "id": "148d5cf7-4825-4f9c-8b74-bb1ddcc43660",
   "metadata": {},
   "outputs": [],
   "source": [
    "df[['Satisfaction Score Label', 'Satisfaction Score']].info()"
   ]
  },
  {
   "cell_type": "code",
   "execution_count": null,
   "id": "90533dfb-0a49-4c52-ba42-97579178e5c5",
   "metadata": {},
   "outputs": [],
   "source": [
    "df.rename(columns = {'Churn Value' : 'Churn'}, inplace = True)"
   ]
  },
  {
   "cell_type": "code",
   "execution_count": null,
   "id": "ef2502ff-ad7d-4c26-a505-93d2891700fd",
   "metadata": {},
   "outputs": [],
   "source": [
    "df.to_csv('./Telecommunications_Industry/' + \"Selected_columns_customer_churn.csv\")"
   ]
  },
  {
   "cell_type": "markdown",
   "id": "8f0b70ec-9cad-4ad7-b983-ec7c387b9acf",
   "metadata": {},
   "source": [
    "## EDA (Exploratory Data Analysis)"
   ]
  },
  {
   "cell_type": "code",
   "execution_count": null,
   "id": "ecc15f1f-207b-4dc4-9421-95e8db0036e4",
   "metadata": {},
   "outputs": [],
   "source": [
    "df.info()"
   ]
  },
  {
   "cell_type": "code",
   "execution_count": null,
   "id": "3ace7189-4d0d-4cef-bc23-708d5f7ce874",
   "metadata": {},
   "outputs": [],
   "source": [
    "df.set_index('Customer ID', inplace=True)"
   ]
  },
  {
   "cell_type": "code",
   "execution_count": null,
   "id": "63009e37-8034-4d1b-afac-1282428b05e5",
   "metadata": {},
   "outputs": [],
   "source": [
    "#let's take a look at our target label - \"Churn\" first\n",
    "counts = [(df[\"Churn\"] == 1).sum(), (df[\"Churn\"] == 0).sum()]\n",
    "counts\n",
    "plt.pie(counts, labels = [\"Churn\", \"Not Churn\"], autopct='%.0f%%')\n",
    "plt.show()"
   ]
  },
  {
   "cell_type": "code",
   "execution_count": null,
   "id": "aead276f-3c42-4d45-aabc-d6280f38f3d2",
   "metadata": {},
   "outputs": [],
   "source": [
    "for col in df.columns.tolist():\n",
    "    if col != \"Churn\" and df[col].dtype == 'object':\n",
    "        plt.figure()\n",
    "        sns.histplot(df, hue=\"Churn\", x = col, shrink=.7, multiple=\"layer\")\n",
    "        plt.show()\n",
    "    elif df[col].dtype == 'category':\n",
    "        temp = df.copy()\n",
    "        temp[col] = df[col].astype(str)\n",
    "        plt.figure()\n",
    "        sns.histplot(temp, hue=\"Churn\", x = col, shrink=.7, multiple=\"layer\")\n",
    "        plt.show()"
   ]
  },
  {
   "cell_type": "code",
   "execution_count": null,
   "id": "47ccfe35-13ca-4091-a695-78294ddf4021",
   "metadata": {},
   "outputs": [],
   "source": [
    "for col in df.columns.tolist():\n",
    "    if col != \"Churn\" and df[col].dtype == 'object':\n",
    "        plt.figure()\n",
    "        sns.histplot(df, hue=\"Churn\", x = col, shrink=.7, multiple=\"fill\")\n",
    "        plt.show()\n",
    "    elif df[col].dtype == 'category':\n",
    "        temp = df.copy()\n",
    "        temp[col] = df[col].astype(str)\n",
    "        plt.figure()\n",
    "        sns.histplot(temp, hue=\"Churn\", x = col, shrink=.7, multiple=\"fill\")\n",
    "        plt.show()"
   ]
  },
  {
   "cell_type": "code",
   "execution_count": null,
   "id": "5c91d8d9-dcbd-48b8-af6d-ead0d35fe45b",
   "metadata": {},
   "outputs": [],
   "source": [
    "# Check the correlation matrix of all features\n",
    "columns_for_corr = [\"Population\", \"Avg Monthly Long Distance Charges\", \"Total Refunds\", \"Total Extra Data Charges\", \"Total Long Distance Charges\", \"Total Revenue\"]\n",
    "df_corr = df[columns_for_corr].corr()\n",
    "sns.heatmap(df_corr, annot=True, cmap='coolwarm')\n",
    "plt.title('Correlation Matrix')\n",
    "plt.show()"
   ]
  },
  {
   "cell_type": "markdown",
   "id": "46e74cba-7ff1-4739-a0e3-2b4e014a9f24",
   "metadata": {},
   "source": [
    "## Data Preparation "
   ]
  },
  {
   "cell_type": "code",
   "execution_count": null,
   "id": "12430b46-5746-4b2c-bdcd-66274df1ab36",
   "metadata": {},
   "outputs": [],
   "source": [
    "# There is Satisfaction score already\n",
    "df.drop([\"Satisfaction Score Label\", 'Total Long Distance Charges'], axis = 1, inplace = True, errors='ignore')"
   ]
  },
  {
   "cell_type": "code",
   "execution_count": null,
   "id": "f7929624-c3af-46b1-9eed-7b990ab39695",
   "metadata": {},
   "outputs": [],
   "source": [
    "columns_to_be_encoded = []\n",
    "\n",
    "for col in df.columns.tolist():\n",
    "    if(df[col].dtype == 'object' and \"Yes\" in df[col].unique()):\n",
    "        columns_to_be_encoded.append(col)\n",
    "\n",
    "df[columns_to_be_encoded] = np.where(df[columns_to_be_encoded] == \"Yes\", 1, 0)\n",
    "df[columns_to_be_encoded] = df[columns_to_be_encoded].astype(int)"
   ]
  },
  {
   "cell_type": "code",
   "execution_count": null,
   "id": "f9b9046c-910e-47c9-842a-1c15fc3fcf49",
   "metadata": {},
   "outputs": [],
   "source": [
    "df[\"Gender\"] = np.where(df[\"Gender\"] == \"Female\", 1, 0)\n",
    "df[\"Gender\"] = df[\"Gender\"].astype(int)"
   ]
  },
  {
   "cell_type": "code",
   "execution_count": null,
   "id": "b3c4c316-205f-4ff5-97d1-aad394f6fc3f",
   "metadata": {},
   "outputs": [],
   "source": [
    "df = pd.get_dummies(df, columns = [\"Tenure Bins\", \"Offer\", \"Payment Method\", \"Contract\", \"Internet Service\"])"
   ]
  },
  {
   "cell_type": "code",
   "execution_count": null,
   "id": "dac87d3c-3ea0-4b72-803d-475264ad3026",
   "metadata": {},
   "outputs": [],
   "source": [
    "df.info()"
   ]
  },
  {
   "cell_type": "markdown",
   "id": "b5039d66-6687-49a2-ab6b-6e6ad66ae6d4",
   "metadata": {},
   "source": [
    "## Model"
   ]
  },
  {
   "cell_type": "code",
   "execution_count": null,
   "id": "d9d8e17d-3951-45ad-b0b7-6ee2c6bf3c08",
   "metadata": {},
   "outputs": [],
   "source": [
    "X = df.drop([\"Churn\"], axis = 1)\n",
    "y = df[\"Churn\"]"
   ]
  },
  {
   "cell_type": "code",
   "execution_count": null,
   "id": "31a14ff8-6363-4d98-be3d-6f078b7a5045",
   "metadata": {
    "tags": []
   },
   "outputs": [],
   "source": [
    "X_train, X_test, y_train, y_test = train_test_split(X, y, stratify = y, random_state = 42, test_size = 0.2, shuffle = True)"
   ]
  },
  {
   "cell_type": "code",
   "execution_count": null,
   "id": "c18039ce-6865-41c5-b6d6-1ce8f0124155",
   "metadata": {},
   "outputs": [],
   "source": [
    "#format the features names:\n",
    "\n",
    "X.index.names = ['Customer_ID']\n",
    "X_train.index.names = ['Customer_ID']\n",
    "X_test.index.names = ['Customer_ID']\n",
    "\n",
    "X.columns = [col.replace(' ', '_') for col in X.columns.tolist()]\n",
    "X.columns = [col.replace('(', '_') for col in X.columns.tolist()]\n",
    "X.columns = [col.replace(')', '') for col in X.columns.tolist()]\n",
    "X.columns = [col.replace(']', '_') for col in X.columns.tolist()]\n",
    "X.columns = [col.replace(',', '') for col in X.columns.tolist()]\n",
    "\n",
    "X_train.columns = X.columns\n",
    "X_test.columns = X.columns"
   ]
  },
  {
   "cell_type": "code",
   "execution_count": null,
   "id": "05bd4cf6-a7e4-4a75-a9f3-9f3e49cde663",
   "metadata": {},
   "outputs": [],
   "source": []
  },
  {
   "cell_type": "code",
   "execution_count": null,
   "id": "68ea2627-7b4d-44ca-9079-04af6a652c3e",
   "metadata": {},
   "outputs": [],
   "source": [
    "#Confirm the splitting is correct:\n",
    "print(\"Shape of Training Data : \", \"\\nfeatures:\", X_train.shape, \", target:\", y_train.shape)\n",
    "print(\"Target Label Distribution in train set : \", \"\\nChurn:\", y_train.sum(), \"Not Churn\", len(y_train) - y_train.sum())\n",
    "print(\"Percentage of Churn:\", y_train.sum() / len(y_train) * 100)\n",
    "print()\n",
    "print(\"Shape of Test Data : \", \"\\nfeatures:\", X_test.shape, \", target:\", y_test.shape)\n",
    "print(\"Target Label Distribution in test set : \", \"\\nChurn:\", y_test.sum(), \"Not Churn\", len(y_test) - y_test.sum())\n",
    "print(\"Percentage of Churn:\", y_test.sum() / len(y_test) * 100)"
   ]
  },
  {
   "cell_type": "code",
   "execution_count": null,
   "id": "d38d1b11-3f80-4685-b083-9bc83fd23ba1",
   "metadata": {},
   "outputs": [],
   "source": [
    "X.info()"
   ]
  },
  {
   "cell_type": "code",
   "execution_count": null,
   "id": "404033b9-36f4-4437-9e31-ab8812f6eee8",
   "metadata": {},
   "outputs": [],
   "source": [
    "list_of_models = {\n",
    "    'logistic_regression' : LogisticRegression(random_state = 42, max_iter = 10000),\n",
    "    'decision_tree' : DecisionTreeClassifier(max_depth = 5, random_state = 42),\n",
    "    'Random_forest' : RandomForestClassifier(n_estimators = 150, max_depth = 4, random_state = 42),\n",
    "    'GBDT' : GradientBoostingClassifier(n_estimators = 150, max_depth = 4, random_state = 42),\n",
    "    \"XGBoost\" : xgb.XGBClassifier(n_estimators = 200, max_depth = 5, random_state = 42)\n",
    "}"
   ]
  },
  {
   "cell_type": "code",
   "execution_count": null,
   "id": "aea55eb0-9063-44da-8fef-e0ed0f811093",
   "metadata": {},
   "outputs": [],
   "source": [
    "f1_train_scores = [] \n",
    "f1_test_scores = [] \n",
    "recall_test_scores = []\n",
    "\n",
    "#model_names = list_of_models.keys()\n",
    "model_names = ['logistic_regression', 'decision_tree', 'Random_forest', 'GBDT', \"XGBoost\"]\n",
    "#model_names = ['GBDT']\n",
    "\n",
    "for model in model_names:\n",
    "    print(\"\\nFor Model:\", model)\n",
    "    \n",
    "    list_of_models[model].fit(X_train, y_train)\n",
    "\n",
    "    print(\"\\nFor Training Set:\")\n",
    "\n",
    "    y_train_pred = list_of_models[model].predict(X_train)\n",
    "\n",
    "    f1_train = f1_score(y_train, y_train_pred, average='macro')\n",
    "    print(\"\\nMacro F1 Score:\", f1_train)\n",
    "\n",
    "    print(\"\\nConfusion Matrix:\") \n",
    "    confusion_matrix = metrics.confusion_matrix(y_train, y_train_pred)\n",
    "    cm_display = metrics.ConfusionMatrixDisplay(confusion_matrix = confusion_matrix, display_labels = [False, True])\n",
    "    cm_display.plot()\n",
    "    plt.show()\n",
    "\n",
    "    print(\"For Test Set:\")\n",
    "\n",
    "    y_test_pred = list_of_models[model].predict(X_test)\n",
    "    \n",
    "    f1_test = f1_score(y_test, y_test_pred, average='macro')\n",
    "    print(\"\\nMacro F1 Score:\", f1_test)\n",
    "\n",
    "    recall_test_score = recall_score(y_test, y_test_pred, average='macro')\n",
    "    \n",
    "    print(\"\\nConfusion Matrix:\")\n",
    "    confusion_matrix = metrics.confusion_matrix(y_test, y_test_pred)\n",
    "    cm_display = metrics.ConfusionMatrixDisplay(confusion_matrix = confusion_matrix, display_labels = [False, True])\n",
    "    cm_display.plot()\n",
    "    plt.show()\n",
    "    \n",
    "    f1_train_scores.append(f1_train)\n",
    "    f1_test_scores.append(f1_test)\n",
    "    recall_test_scores.append(recall_test_score)"
   ]
  },
  {
   "cell_type": "code",
   "execution_count": null,
   "id": "bb284e1f-3ab7-4ae2-b329-345a8ece9842",
   "metadata": {},
   "outputs": [],
   "source": [
    "res = pd.DataFrame({'model_names' : model_names, 'f1_train_scores' : f1_train_scores, 'f1_test_scores' : f1_test_scores, 'recall_test_scores' : recall_test_scores})\n",
    "res"
   ]
  },
  {
   "cell_type": "code",
   "execution_count": null,
   "id": "0e5ffee5-a33d-463d-bb3d-63c1ea8199ba",
   "metadata": {},
   "outputs": [],
   "source": [
    "feature_importance = abs(list_of_models['logistic_regression'].coef_[0])\n",
    "feature_importance = 100.0 * (feature_importance / feature_importance.max())\n",
    "\n",
    "data = pd.DataFrame(data=feature_importance, index=X.columns, columns=[\"score\"]).sort_values(by = \"score\", ascending=False)\n",
    "data.nlargest(20, columns=\"score\").plot(kind='barh', figsize = (20,10))"
   ]
  },
  {
   "cell_type": "markdown",
   "id": "6ce5e1b8-b24f-42f6-80e2-9ea1d30f1f4d",
   "metadata": {},
   "source": [
    "## PyCaret"
   ]
  },
  {
   "cell_type": "code",
   "execution_count": null,
   "id": "975c24a5-e53f-4713-914a-50ef218dbb07",
   "metadata": {},
   "outputs": [],
   "source": [
    "# !pip install pycaret[full]\n",
    "# ! pip install scipy==1.11.4\n",
    "# !pip install --pre pycaret"
   ]
  },
  {
   "cell_type": "code",
   "execution_count": null,
   "id": "d6051db0-ff33-46e0-af58-770f20574b4b",
   "metadata": {},
   "outputs": [],
   "source": [
    "from pycaret.classification import *\n",
    "s = setup(df, target = 'Churn', session_id = 123, fold = 5)"
   ]
  },
  {
   "cell_type": "code",
   "execution_count": null,
   "id": "e3c7ffc1-39fd-4708-b1fe-d280400755bb",
   "metadata": {},
   "outputs": [],
   "source": [
    "best = compare_models()"
   ]
  },
  {
   "cell_type": "code",
   "execution_count": null,
   "id": "57a41721-bd4b-45f6-8b3e-afe46f798358",
   "metadata": {
    "tags": []
   },
   "outputs": [],
   "source": [
    "print(best)"
   ]
  },
  {
   "cell_type": "code",
   "execution_count": null,
   "id": "4b815116-213a-4c08-9d8f-d7a167876eaf",
   "metadata": {
    "tags": []
   },
   "outputs": [],
   "source": [
    "evaluate_model(best)"
   ]
  },
  {
   "cell_type": "code",
   "execution_count": null,
   "id": "e1097243-ba7e-4358-a3fc-27b9283478a5",
   "metadata": {
    "tags": []
   },
   "outputs": [],
   "source": [
    "# https://www.kaggle.com/datasets/hanatuangud/bank-card-churn-rate/data?select=BankChurners.csv"
   ]
  }
 ],
 "metadata": {
  "kernelspec": {
   "display_name": "Python 3 (ipykernel)",
   "language": "python",
   "name": "python3"
  },
  "language_info": {
   "codemirror_mode": {
    "name": "ipython",
    "version": 3
   },
   "file_extension": ".py",
   "mimetype": "text/x-python",
   "name": "python",
   "nbconvert_exporter": "python",
   "pygments_lexer": "ipython3",
   "version": "3.10.14"
  },
  "widgets": {
   "application/vnd.jupyter.widget-state+json": {
    "state": {},
    "version_major": 2,
    "version_minor": 0
   }
  }
 },
 "nbformat": 4,
 "nbformat_minor": 5
}
