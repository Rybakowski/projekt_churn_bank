{
 "cells": [
  {
   "cell_type": "code",
   "execution_count": 2,
   "id": "e69e799b-b19a-4826-8c6e-4defdfbef858",
   "metadata": {
    "tags": []
   },
   "outputs": [],
   "source": [
    "import pandas as pd\n",
    "import os\n",
    "import plotly.graph_objects as go"
   ]
  },
  {
   "cell_type": "code",
   "execution_count": 5,
   "id": "53dd2174-cc84-4325-8a9f-fca7923df7ea",
   "metadata": {
    "tags": []
   },
   "outputs": [],
   "source": [
    "df = pd.read_csv(\"./dystrybucja_warzyw.csv\")\n",
    "# mitosheet.sheet(df, analysis_to_replay=\"id-eheqhoslfn\")"
   ]
  },
  {
   "cell_type": "code",
   "execution_count": 6,
   "id": "717f706b-bcca-4a47-a7c0-3352aad07c8a",
   "metadata": {
    "tags": []
   },
   "outputs": [
    {
     "data": {
      "application/vnd.plotly.v1+json": {
       "config": {
        "plotlyServerURL": "https://plot.ly"
       },
       "data": [
        {
         "name": "Quantity",
         "type": "scatter",
         "x": [
          "2023-04-18",
          "2023-04-20",
          "2023-04-25",
          "2023-04-28",
          "2023-05-08",
          "2023-05-11",
          "2023-05-12",
          "2023-05-23",
          "2023-05-26",
          "2023-05-26",
          "2023-05-31",
          "2023-06-09",
          "2023-06-14",
          "2023-06-16",
          "2023-06-26",
          "2023-08-09",
          "2023-08-19",
          "2023-08-25",
          "2023-08-31",
          "2023-09-07",
          "2023-09-13",
          "2023-09-16",
          "2023-09-19",
          "2023-09-20",
          "2023-09-21",
          "2023-09-23",
          "2023-09-26",
          "2023-09-26",
          "2023-09-27",
          "2023-09-28",
          "2023-11-06",
          "2023-12-09",
          "2023-12-22",
          "2023-12-29",
          "2023-12-29"
         ],
         "y": [
          74.7,
          17.6,
          70.3,
          52.8,
          74.7,
          70.3,
          30.8,
          131.9,
          44,
          74.7,
          224.2,
          8.8,
          35.2,
          39.6,
          22,
          87.9,
          44,
          26.4,
          35.2,
          22,
          48.4,
          149.5,
          35.2,
          149.5,
          149.5,
          74.7,
          109.9,
          74.7,
          35.2,
          22,
          44,
          74.7,
          30.8,
          74.7,
          74.7
         ]
        }
       ],
       "layout": {
        "autosize": false,
        "height": 400,
        "legend": {
         "title": {
          "text": ""
         }
        },
        "shapes": [
         {
          "line": {
           "color": "green",
           "dash": "dash",
           "width": 1.5
          },
          "name": "Order",
          "type": "line",
          "x0": "2023-04-18",
          "x1": "2023-04-18",
          "xref": "x",
          "y0": 0,
          "y1": 1,
          "yref": "y domain"
         },
         {
          "line": {
           "color": "green",
           "dash": "dash",
           "width": 1.5
          },
          "name": "Order",
          "type": "line",
          "x0": "2023-04-20",
          "x1": "2023-04-20",
          "xref": "x",
          "y0": 0,
          "y1": 1,
          "yref": "y domain"
         },
         {
          "line": {
           "color": "green",
           "dash": "dash",
           "width": 1.5
          },
          "name": "Order",
          "type": "line",
          "x0": "2023-04-25",
          "x1": "2023-04-25",
          "xref": "x",
          "y0": 0,
          "y1": 1,
          "yref": "y domain"
         },
         {
          "line": {
           "color": "green",
           "dash": "dash",
           "width": 1.5
          },
          "name": "Order",
          "type": "line",
          "x0": "2023-04-28",
          "x1": "2023-04-28",
          "xref": "x",
          "y0": 0,
          "y1": 1,
          "yref": "y domain"
         },
         {
          "line": {
           "color": "green",
           "dash": "dash",
           "width": 1.5
          },
          "name": "Order",
          "type": "line",
          "x0": "2023-05-08",
          "x1": "2023-05-08",
          "xref": "x",
          "y0": 0,
          "y1": 1,
          "yref": "y domain"
         },
         {
          "line": {
           "color": "green",
           "dash": "dash",
           "width": 1.5
          },
          "name": "Order",
          "type": "line",
          "x0": "2023-05-11",
          "x1": "2023-05-11",
          "xref": "x",
          "y0": 0,
          "y1": 1,
          "yref": "y domain"
         },
         {
          "line": {
           "color": "green",
           "dash": "dash",
           "width": 1.5
          },
          "name": "Order",
          "type": "line",
          "x0": "2023-05-12",
          "x1": "2023-05-12",
          "xref": "x",
          "y0": 0,
          "y1": 1,
          "yref": "y domain"
         },
         {
          "line": {
           "color": "green",
           "dash": "dash",
           "width": 1.5
          },
          "name": "Order",
          "type": "line",
          "x0": "2023-05-23",
          "x1": "2023-05-23",
          "xref": "x",
          "y0": 0,
          "y1": 1,
          "yref": "y domain"
         },
         {
          "line": {
           "color": "green",
           "dash": "dash",
           "width": 1.5
          },
          "name": "Order",
          "type": "line",
          "x0": "2023-05-26",
          "x1": "2023-05-26",
          "xref": "x",
          "y0": 0,
          "y1": 1,
          "yref": "y domain"
         },
         {
          "line": {
           "color": "green",
           "dash": "dash",
           "width": 1.5
          },
          "name": "Order",
          "type": "line",
          "x0": "2023-05-31",
          "x1": "2023-05-31",
          "xref": "x",
          "y0": 0,
          "y1": 1,
          "yref": "y domain"
         },
         {
          "line": {
           "color": "green",
           "dash": "dash",
           "width": 1.5
          },
          "name": "Order",
          "type": "line",
          "x0": "2023-06-09",
          "x1": "2023-06-09",
          "xref": "x",
          "y0": 0,
          "y1": 1,
          "yref": "y domain"
         },
         {
          "line": {
           "color": "green",
           "dash": "dash",
           "width": 1.5
          },
          "name": "Order",
          "type": "line",
          "x0": "2023-06-14",
          "x1": "2023-06-14",
          "xref": "x",
          "y0": 0,
          "y1": 1,
          "yref": "y domain"
         },
         {
          "line": {
           "color": "green",
           "dash": "dash",
           "width": 1.5
          },
          "name": "Order",
          "type": "line",
          "x0": "2023-06-16",
          "x1": "2023-06-16",
          "xref": "x",
          "y0": 0,
          "y1": 1,
          "yref": "y domain"
         },
         {
          "line": {
           "color": "green",
           "dash": "dash",
           "width": 1.5
          },
          "name": "Order",
          "type": "line",
          "x0": "2023-06-26",
          "x1": "2023-06-26",
          "xref": "x",
          "y0": 0,
          "y1": 1,
          "yref": "y domain"
         },
         {
          "line": {
           "color": "green",
           "dash": "dash",
           "width": 1.5
          },
          "name": "Order",
          "type": "line",
          "x0": "2023-08-09",
          "x1": "2023-08-09",
          "xref": "x",
          "y0": 0,
          "y1": 1,
          "yref": "y domain"
         },
         {
          "line": {
           "color": "green",
           "dash": "dash",
           "width": 1.5
          },
          "name": "Order",
          "type": "line",
          "x0": "2023-08-19",
          "x1": "2023-08-19",
          "xref": "x",
          "y0": 0,
          "y1": 1,
          "yref": "y domain"
         },
         {
          "line": {
           "color": "green",
           "dash": "dash",
           "width": 1.5
          },
          "name": "Order",
          "type": "line",
          "x0": "2023-08-25",
          "x1": "2023-08-25",
          "xref": "x",
          "y0": 0,
          "y1": 1,
          "yref": "y domain"
         },
         {
          "line": {
           "color": "green",
           "dash": "dash",
           "width": 1.5
          },
          "name": "Order",
          "type": "line",
          "x0": "2023-08-31",
          "x1": "2023-08-31",
          "xref": "x",
          "y0": 0,
          "y1": 1,
          "yref": "y domain"
         },
         {
          "line": {
           "color": "green",
           "dash": "dash",
           "width": 1.5
          },
          "name": "Order",
          "type": "line",
          "x0": "2023-09-07",
          "x1": "2023-09-07",
          "xref": "x",
          "y0": 0,
          "y1": 1,
          "yref": "y domain"
         },
         {
          "line": {
           "color": "green",
           "dash": "dash",
           "width": 1.5
          },
          "name": "Order",
          "type": "line",
          "x0": "2023-09-13",
          "x1": "2023-09-13",
          "xref": "x",
          "y0": 0,
          "y1": 1,
          "yref": "y domain"
         },
         {
          "line": {
           "color": "green",
           "dash": "dash",
           "width": 1.5
          },
          "name": "Order",
          "type": "line",
          "x0": "2023-09-16",
          "x1": "2023-09-16",
          "xref": "x",
          "y0": 0,
          "y1": 1,
          "yref": "y domain"
         },
         {
          "line": {
           "color": "green",
           "dash": "dash",
           "width": 1.5
          },
          "name": "Order",
          "type": "line",
          "x0": "2023-09-19",
          "x1": "2023-09-19",
          "xref": "x",
          "y0": 0,
          "y1": 1,
          "yref": "y domain"
         },
         {
          "line": {
           "color": "green",
           "dash": "dash",
           "width": 1.5
          },
          "name": "Order",
          "type": "line",
          "x0": "2023-09-20",
          "x1": "2023-09-20",
          "xref": "x",
          "y0": 0,
          "y1": 1,
          "yref": "y domain"
         },
         {
          "line": {
           "color": "green",
           "dash": "dash",
           "width": 1.5
          },
          "name": "Order",
          "type": "line",
          "x0": "2023-09-21",
          "x1": "2023-09-21",
          "xref": "x",
          "y0": 0,
          "y1": 1,
          "yref": "y domain"
         },
         {
          "line": {
           "color": "green",
           "dash": "dash",
           "width": 1.5
          },
          "name": "Order",
          "type": "line",
          "x0": "2023-09-23",
          "x1": "2023-09-23",
          "xref": "x",
          "y0": 0,
          "y1": 1,
          "yref": "y domain"
         },
         {
          "line": {
           "color": "green",
           "dash": "dash",
           "width": 1.5
          },
          "name": "Order",
          "type": "line",
          "x0": "2023-09-26",
          "x1": "2023-09-26",
          "xref": "x",
          "y0": 0,
          "y1": 1,
          "yref": "y domain"
         },
         {
          "line": {
           "color": "green",
           "dash": "dash",
           "width": 1.5
          },
          "name": "Order",
          "type": "line",
          "x0": "2023-09-27",
          "x1": "2023-09-27",
          "xref": "x",
          "y0": 0,
          "y1": 1,
          "yref": "y domain"
         },
         {
          "line": {
           "color": "green",
           "dash": "dash",
           "width": 1.5
          },
          "name": "Order",
          "type": "line",
          "x0": "2023-09-28",
          "x1": "2023-09-28",
          "xref": "x",
          "y0": 0,
          "y1": 1,
          "yref": "y domain"
         },
         {
          "line": {
           "color": "green",
           "dash": "dash",
           "width": 1.5
          },
          "name": "Order",
          "type": "line",
          "x0": "2023-11-06",
          "x1": "2023-11-06",
          "xref": "x",
          "y0": 0,
          "y1": 1,
          "yref": "y domain"
         },
         {
          "line": {
           "color": "green",
           "dash": "dash",
           "width": 1.5
          },
          "name": "Order",
          "type": "line",
          "x0": "2023-12-09",
          "x1": "2023-12-09",
          "xref": "x",
          "y0": 0,
          "y1": 1,
          "yref": "y domain"
         },
         {
          "line": {
           "color": "green",
           "dash": "dash",
           "width": 1.5
          },
          "name": "Order",
          "type": "line",
          "x0": "2023-12-22",
          "x1": "2023-12-22",
          "xref": "x",
          "y0": 0,
          "y1": 1,
          "yref": "y domain"
         },
         {
          "line": {
           "color": "green",
           "dash": "dash",
           "width": 1.5
          },
          "name": "Order",
          "type": "line",
          "x0": "2023-12-29",
          "x1": "2023-12-29",
          "xref": "x",
          "y0": 0,
          "y1": 1,
          "yref": "y domain"
         }
        ],
        "showlegend": true,
        "template": {
         "data": {
          "bar": [
           {
            "error_x": {
             "color": "#2a3f5f"
            },
            "error_y": {
             "color": "#2a3f5f"
            },
            "marker": {
             "line": {
              "color": "#E5ECF6",
              "width": 0.5
             },
             "pattern": {
              "fillmode": "overlay",
              "size": 10,
              "solidity": 0.2
             }
            },
            "type": "bar"
           }
          ],
          "barpolar": [
           {
            "marker": {
             "line": {
              "color": "#E5ECF6",
              "width": 0.5
             },
             "pattern": {
              "fillmode": "overlay",
              "size": 10,
              "solidity": 0.2
             }
            },
            "type": "barpolar"
           }
          ],
          "carpet": [
           {
            "aaxis": {
             "endlinecolor": "#2a3f5f",
             "gridcolor": "white",
             "linecolor": "white",
             "minorgridcolor": "white",
             "startlinecolor": "#2a3f5f"
            },
            "baxis": {
             "endlinecolor": "#2a3f5f",
             "gridcolor": "white",
             "linecolor": "white",
             "minorgridcolor": "white",
             "startlinecolor": "#2a3f5f"
            },
            "type": "carpet"
           }
          ],
          "choropleth": [
           {
            "colorbar": {
             "outlinewidth": 0,
             "ticks": ""
            },
            "type": "choropleth"
           }
          ],
          "contour": [
           {
            "colorbar": {
             "outlinewidth": 0,
             "ticks": ""
            },
            "colorscale": [
             [
              0,
              "#0d0887"
             ],
             [
              0.1111111111111111,
              "#46039f"
             ],
             [
              0.2222222222222222,
              "#7201a8"
             ],
             [
              0.3333333333333333,
              "#9c179e"
             ],
             [
              0.4444444444444444,
              "#bd3786"
             ],
             [
              0.5555555555555556,
              "#d8576b"
             ],
             [
              0.6666666666666666,
              "#ed7953"
             ],
             [
              0.7777777777777778,
              "#fb9f3a"
             ],
             [
              0.8888888888888888,
              "#fdca26"
             ],
             [
              1,
              "#f0f921"
             ]
            ],
            "type": "contour"
           }
          ],
          "contourcarpet": [
           {
            "colorbar": {
             "outlinewidth": 0,
             "ticks": ""
            },
            "type": "contourcarpet"
           }
          ],
          "heatmap": [
           {
            "colorbar": {
             "outlinewidth": 0,
             "ticks": ""
            },
            "colorscale": [
             [
              0,
              "#0d0887"
             ],
             [
              0.1111111111111111,
              "#46039f"
             ],
             [
              0.2222222222222222,
              "#7201a8"
             ],
             [
              0.3333333333333333,
              "#9c179e"
             ],
             [
              0.4444444444444444,
              "#bd3786"
             ],
             [
              0.5555555555555556,
              "#d8576b"
             ],
             [
              0.6666666666666666,
              "#ed7953"
             ],
             [
              0.7777777777777778,
              "#fb9f3a"
             ],
             [
              0.8888888888888888,
              "#fdca26"
             ],
             [
              1,
              "#f0f921"
             ]
            ],
            "type": "heatmap"
           }
          ],
          "heatmapgl": [
           {
            "colorbar": {
             "outlinewidth": 0,
             "ticks": ""
            },
            "colorscale": [
             [
              0,
              "#0d0887"
             ],
             [
              0.1111111111111111,
              "#46039f"
             ],
             [
              0.2222222222222222,
              "#7201a8"
             ],
             [
              0.3333333333333333,
              "#9c179e"
             ],
             [
              0.4444444444444444,
              "#bd3786"
             ],
             [
              0.5555555555555556,
              "#d8576b"
             ],
             [
              0.6666666666666666,
              "#ed7953"
             ],
             [
              0.7777777777777778,
              "#fb9f3a"
             ],
             [
              0.8888888888888888,
              "#fdca26"
             ],
             [
              1,
              "#f0f921"
             ]
            ],
            "type": "heatmapgl"
           }
          ],
          "histogram": [
           {
            "marker": {
             "pattern": {
              "fillmode": "overlay",
              "size": 10,
              "solidity": 0.2
             }
            },
            "type": "histogram"
           }
          ],
          "histogram2d": [
           {
            "colorbar": {
             "outlinewidth": 0,
             "ticks": ""
            },
            "colorscale": [
             [
              0,
              "#0d0887"
             ],
             [
              0.1111111111111111,
              "#46039f"
             ],
             [
              0.2222222222222222,
              "#7201a8"
             ],
             [
              0.3333333333333333,
              "#9c179e"
             ],
             [
              0.4444444444444444,
              "#bd3786"
             ],
             [
              0.5555555555555556,
              "#d8576b"
             ],
             [
              0.6666666666666666,
              "#ed7953"
             ],
             [
              0.7777777777777778,
              "#fb9f3a"
             ],
             [
              0.8888888888888888,
              "#fdca26"
             ],
             [
              1,
              "#f0f921"
             ]
            ],
            "type": "histogram2d"
           }
          ],
          "histogram2dcontour": [
           {
            "colorbar": {
             "outlinewidth": 0,
             "ticks": ""
            },
            "colorscale": [
             [
              0,
              "#0d0887"
             ],
             [
              0.1111111111111111,
              "#46039f"
             ],
             [
              0.2222222222222222,
              "#7201a8"
             ],
             [
              0.3333333333333333,
              "#9c179e"
             ],
             [
              0.4444444444444444,
              "#bd3786"
             ],
             [
              0.5555555555555556,
              "#d8576b"
             ],
             [
              0.6666666666666666,
              "#ed7953"
             ],
             [
              0.7777777777777778,
              "#fb9f3a"
             ],
             [
              0.8888888888888888,
              "#fdca26"
             ],
             [
              1,
              "#f0f921"
             ]
            ],
            "type": "histogram2dcontour"
           }
          ],
          "mesh3d": [
           {
            "colorbar": {
             "outlinewidth": 0,
             "ticks": ""
            },
            "type": "mesh3d"
           }
          ],
          "parcoords": [
           {
            "line": {
             "colorbar": {
              "outlinewidth": 0,
              "ticks": ""
             }
            },
            "type": "parcoords"
           }
          ],
          "pie": [
           {
            "automargin": true,
            "type": "pie"
           }
          ],
          "scatter": [
           {
            "fillpattern": {
             "fillmode": "overlay",
             "size": 10,
             "solidity": 0.2
            },
            "type": "scatter"
           }
          ],
          "scatter3d": [
           {
            "line": {
             "colorbar": {
              "outlinewidth": 0,
              "ticks": ""
             }
            },
            "marker": {
             "colorbar": {
              "outlinewidth": 0,
              "ticks": ""
             }
            },
            "type": "scatter3d"
           }
          ],
          "scattercarpet": [
           {
            "marker": {
             "colorbar": {
              "outlinewidth": 0,
              "ticks": ""
             }
            },
            "type": "scattercarpet"
           }
          ],
          "scattergeo": [
           {
            "marker": {
             "colorbar": {
              "outlinewidth": 0,
              "ticks": ""
             }
            },
            "type": "scattergeo"
           }
          ],
          "scattergl": [
           {
            "marker": {
             "colorbar": {
              "outlinewidth": 0,
              "ticks": ""
             }
            },
            "type": "scattergl"
           }
          ],
          "scattermapbox": [
           {
            "marker": {
             "colorbar": {
              "outlinewidth": 0,
              "ticks": ""
             }
            },
            "type": "scattermapbox"
           }
          ],
          "scatterpolar": [
           {
            "marker": {
             "colorbar": {
              "outlinewidth": 0,
              "ticks": ""
             }
            },
            "type": "scatterpolar"
           }
          ],
          "scatterpolargl": [
           {
            "marker": {
             "colorbar": {
              "outlinewidth": 0,
              "ticks": ""
             }
            },
            "type": "scatterpolargl"
           }
          ],
          "scatterternary": [
           {
            "marker": {
             "colorbar": {
              "outlinewidth": 0,
              "ticks": ""
             }
            },
            "type": "scatterternary"
           }
          ],
          "surface": [
           {
            "colorbar": {
             "outlinewidth": 0,
             "ticks": ""
            },
            "colorscale": [
             [
              0,
              "#0d0887"
             ],
             [
              0.1111111111111111,
              "#46039f"
             ],
             [
              0.2222222222222222,
              "#7201a8"
             ],
             [
              0.3333333333333333,
              "#9c179e"
             ],
             [
              0.4444444444444444,
              "#bd3786"
             ],
             [
              0.5555555555555556,
              "#d8576b"
             ],
             [
              0.6666666666666666,
              "#ed7953"
             ],
             [
              0.7777777777777778,
              "#fb9f3a"
             ],
             [
              0.8888888888888888,
              "#fdca26"
             ],
             [
              1,
              "#f0f921"
             ]
            ],
            "type": "surface"
           }
          ],
          "table": [
           {
            "cells": {
             "fill": {
              "color": "#EBF0F8"
             },
             "line": {
              "color": "white"
             }
            },
            "header": {
             "fill": {
              "color": "#C8D4E3"
             },
             "line": {
              "color": "white"
             }
            },
            "type": "table"
           }
          ]
         },
         "layout": {
          "annotationdefaults": {
           "arrowcolor": "#2a3f5f",
           "arrowhead": 0,
           "arrowwidth": 1
          },
          "autotypenumbers": "strict",
          "coloraxis": {
           "colorbar": {
            "outlinewidth": 0,
            "ticks": ""
           }
          },
          "colorscale": {
           "diverging": [
            [
             0,
             "#8e0152"
            ],
            [
             0.1,
             "#c51b7d"
            ],
            [
             0.2,
             "#de77ae"
            ],
            [
             0.3,
             "#f1b6da"
            ],
            [
             0.4,
             "#fde0ef"
            ],
            [
             0.5,
             "#f7f7f7"
            ],
            [
             0.6,
             "#e6f5d0"
            ],
            [
             0.7,
             "#b8e186"
            ],
            [
             0.8,
             "#7fbc41"
            ],
            [
             0.9,
             "#4d9221"
            ],
            [
             1,
             "#276419"
            ]
           ],
           "sequential": [
            [
             0,
             "#0d0887"
            ],
            [
             0.1111111111111111,
             "#46039f"
            ],
            [
             0.2222222222222222,
             "#7201a8"
            ],
            [
             0.3333333333333333,
             "#9c179e"
            ],
            [
             0.4444444444444444,
             "#bd3786"
            ],
            [
             0.5555555555555556,
             "#d8576b"
            ],
            [
             0.6666666666666666,
             "#ed7953"
            ],
            [
             0.7777777777777778,
             "#fb9f3a"
            ],
            [
             0.8888888888888888,
             "#fdca26"
            ],
            [
             1,
             "#f0f921"
            ]
           ],
           "sequentialminus": [
            [
             0,
             "#0d0887"
            ],
            [
             0.1111111111111111,
             "#46039f"
            ],
            [
             0.2222222222222222,
             "#7201a8"
            ],
            [
             0.3333333333333333,
             "#9c179e"
            ],
            [
             0.4444444444444444,
             "#bd3786"
            ],
            [
             0.5555555555555556,
             "#d8576b"
            ],
            [
             0.6666666666666666,
             "#ed7953"
            ],
            [
             0.7777777777777778,
             "#fb9f3a"
            ],
            [
             0.8888888888888888,
             "#fdca26"
            ],
            [
             1,
             "#f0f921"
            ]
           ]
          },
          "colorway": [
           "#636efa",
           "#EF553B",
           "#00cc96",
           "#ab63fa",
           "#FFA15A",
           "#19d3f3",
           "#FF6692",
           "#B6E880",
           "#FF97FF",
           "#FECB52"
          ],
          "font": {
           "color": "#2a3f5f"
          },
          "geo": {
           "bgcolor": "white",
           "lakecolor": "white",
           "landcolor": "#E5ECF6",
           "showlakes": true,
           "showland": true,
           "subunitcolor": "white"
          },
          "hoverlabel": {
           "align": "left"
          },
          "hovermode": "closest",
          "mapbox": {
           "style": "light"
          },
          "paper_bgcolor": "white",
          "plot_bgcolor": "#E5ECF6",
          "polar": {
           "angularaxis": {
            "gridcolor": "white",
            "linecolor": "white",
            "ticks": ""
           },
           "bgcolor": "#E5ECF6",
           "radialaxis": {
            "gridcolor": "white",
            "linecolor": "white",
            "ticks": ""
           }
          },
          "scene": {
           "xaxis": {
            "backgroundcolor": "#E5ECF6",
            "gridcolor": "white",
            "gridwidth": 2,
            "linecolor": "white",
            "showbackground": true,
            "ticks": "",
            "zerolinecolor": "white"
           },
           "yaxis": {
            "backgroundcolor": "#E5ECF6",
            "gridcolor": "white",
            "gridwidth": 2,
            "linecolor": "white",
            "showbackground": true,
            "ticks": "",
            "zerolinecolor": "white"
           },
           "zaxis": {
            "backgroundcolor": "#E5ECF6",
            "gridcolor": "white",
            "gridwidth": 2,
            "linecolor": "white",
            "showbackground": true,
            "ticks": "",
            "zerolinecolor": "white"
           }
          },
          "shapedefaults": {
           "line": {
            "color": "#2a3f5f"
           }
          },
          "ternary": {
           "aaxis": {
            "gridcolor": "white",
            "linecolor": "white",
            "ticks": ""
           },
           "baxis": {
            "gridcolor": "white",
            "linecolor": "white",
            "ticks": ""
           },
           "bgcolor": "#E5ECF6",
           "caxis": {
            "gridcolor": "white",
            "linecolor": "white",
            "ticks": ""
           }
          },
          "title": {
           "x": 0.05
          },
          "xaxis": {
           "automargin": true,
           "gridcolor": "white",
           "linecolor": "white",
           "ticks": "",
           "title": {
            "standoff": 15
           },
           "zerolinecolor": "white",
           "zerolinewidth": 2
          },
          "yaxis": {
           "automargin": true,
           "gridcolor": "white",
           "linecolor": "white",
           "ticks": "",
           "title": {
            "standoff": 15
           },
           "zerolinecolor": "white",
           "zerolinewidth": 2
          }
         }
        },
        "title": {
         "font": {
          "color": "blue",
          "size": 20
         },
         "text": "Bio Ananasy i Papryki Magazyn - Jabłka",
         "x": 0.5
        },
        "width": 1500,
        "xaxis": {
         "range": [
          "2023-04-18",
          "2023-12-29"
         ],
         "rangeselector": {
          "buttons": [
           {
            "step": "all"
           },
           {
            "count": 1,
            "label": "1m",
            "step": "month",
            "stepmode": "backward"
           },
           {
            "count": 3,
            "label": "3m",
            "step": "month",
            "stepmode": "backward"
           },
           {
            "count": 6,
            "label": "6m",
            "step": "month",
            "stepmode": "backward"
           },
           {
            "count": 1,
            "label": "1y",
            "step": "year",
            "stepmode": "backward"
           }
          ]
         },
         "rangeslider": {
          "thickness": 0.2,
          "visible": true
         },
         "type": "date"
        }
       }
      }
     },
     "metadata": {},
     "output_type": "display_data"
    }
   ],
   "source": [
    "fig = go.Figure()\n",
    "dystrybutor = 'Bio Ananasy i Papryki Magazyn'\n",
    "towar = 'Jabłka'\n",
    "\n",
    "k = df.loc[(df['Dystrybutor']==dystrybutor) & (df['Towar']==towar)]\n",
    "min_date_plot, max_date_plot = k['Data'].min(), k['Data'].max()\n",
    "\n",
    "fig.add_trace(go.Scatter(x = k['Data'], y = k['Quantity'], name=\"Quantity\"))\n",
    "\n",
    "for i in k.loc[(k['Quantity']>0)]['Data'].unique():\n",
    "    fig.add_vline(x=i,line_width=1.5, line_dash=\"dash\", line_color=\"green\", name=\"Order\")\n",
    "                \n",
    "fig.update_layout(title_text=\"{} - {}\".format(dystrybutor, towar), title_x=0.5, title_font_color=\"blue\", title_font_size=20,\n",
    "                              legend_title=\"\", xaxis=dict(rangeselector=dict(buttons=list([dict(step=\"all\"), \n",
    "                                                                dict(count=1, label=\"1m\", step=\"month\", stepmode=\"backward\"),\n",
    "                                                                dict(count=3, label=\"3m\", step=\"month\", stepmode=\"backward\"),\n",
    "                                                                dict(count=6, label=\"6m\", step=\"month\", stepmode=\"backward\"),\n",
    "                                                                dict(count=1, label=\"1y\", step=\"year\", stepmode=\"backward\")\n",
    "                                                                ])), \n",
    "                        rangeslider=dict(visible=True), type=\"date\", range = [min_date_plot, max_date_plot]))\n",
    "    \n",
    "fig.update_xaxes(rangeslider_thickness = 0.2)\n",
    "fig.update_layout(autosize=False, width=1500, height=400,)\n",
    "fig.update_layout(showlegend=True)\n",
    "fig.show()"
   ]
  },
  {
   "cell_type": "code",
   "execution_count": 7,
   "id": "29965588-1b6a-4019-859f-a3a057c1bb27",
   "metadata": {
    "tags": []
   },
   "outputs": [],
   "source": [
    "import lifetimes\n",
    "from lifetimes import BetaGeoFitter\n",
    "from lifetimes import GammaGammaFitter, ParetoNBDFitter, ModifiedBetaGeoFitter"
   ]
  },
  {
   "cell_type": "code",
   "execution_count": 8,
   "id": "7e922fbc-5f10-430e-b101-e41f452b3fa0",
   "metadata": {
    "tags": []
   },
   "outputs": [],
   "source": [
    "def clv_week(df, start_date, clv_horizons = [3], level=['Dystrybutor']):\n",
    "    \n",
    "    min_date = pd.to_datetime(df['Data'].min())\n",
    "    max_date = pd.to_datetime(df['Data'].max())\n",
    "    df['Data'] = pd.to_datetime(df['Data'])\n",
    "    \n",
    "    clv_all = pd.DataFrame()\n",
    "    date_range = pd.date_range(start = start_date, end = max_date, freq=\"W-MON\") \n",
    "    # print(date_range)\n",
    "    \n",
    "    for date in date_range:\n",
    "        df_clv = df.loc[(df['Data']<=date)] \n",
    "        \n",
    "        if 'Towar' in level: \n",
    "            df_clv['Dystrybutor_Towar'] = df_clv['Dystrybutor'] + '$' + df_clv['Towar']\n",
    "        else: \n",
    "            df_clv['Dystrybutor_Towar'] = df_clv['Dystrybutor']\n",
    "        \n",
    "        clv = lifetimes.utils.summary_data_from_transaction_data(df_clv, 'Dystrybutor_Towar', 'Data', 'Quantity')\n",
    "        clv = clv.loc[clv['monetary_value']>0]\n",
    "        \n",
    "        bg_fitter = BetaGeoFitter(penalizer_coef=0.01)\n",
    "        bg_fitter.fit(clv['frequency'], clv['recency'], clv['T'])\n",
    "        \n",
    "        pareto_fitter = ParetoNBDFitter(penalizer_coef = 0.01)\n",
    "        pareto_fitter.fit(clv[\"frequency\"], clv[\"recency\"], clv[\"T\"])\n",
    "        \n",
    "        ggf = GammaGammaFitter(penalizer_coef=0.01)\n",
    "        ggf.fit(clv[\"frequency\"], clv[\"monetary_value\"])\n",
    "        \n",
    "        clv['Data'] = date\n",
    "        clv['p_alive'] = bg_fitter.conditional_probability_alive(clv[\"frequency\"], clv[\"recency\"], clv[\"T\"]).round(3)\n",
    "        \n",
    "        for clv_horizon in clv_horizons:\n",
    "            clv['Exp_Orders_'+str(clv_horizon)+'M'] = bg_fitter.conditional_expected_number_of_purchases_up_to_time(clv_horizon*30, clv['frequency'].values, clv['recency'], clv['T']).round(3)            \n",
    "            clv['CLV_'+str(clv_horizon)+'M'] = ggf.customer_lifetime_value(bg_fitter, clv[\"frequency\"], clv[\"recency\"], clv[\"T\"], clv[\"monetary_value\"],\n",
    "                                                                                         time = clv_horizon, freq = 'D', discount_rate=0)\n",
    "            \n",
    "        clv.drop(columns = ['frequency', 'recency', 'T'], errors='ignore', inplace=True)\n",
    "        \n",
    "        if date==date_range[0]:\n",
    "            clv_all = clv.copy()\n",
    "        else: \n",
    "            clv_all = pd.concat([clv_all, clv], axis=0)\n",
    "    \n",
    "    clv_all = clv_all.reset_index()\n",
    "    \n",
    "    if 'Towar' in level:\n",
    "        clv_all['Dystrybutor'] = clv_all['Dystrybutor_Towar'].str.split('$').str[0]\n",
    "        clv_all['Towar'] = clv_all['Dystrybutor_Towar'].str.split('$').str[1]\n",
    "        clv_all.drop(columns=['Dystrybutor_Towar'], inplace=True)\n",
    "        clv_all = clv_all[['Dystrybutor', 'Towar', 'Data', 'p_alive', 'monetary_value'] + clv_all.filter(regex='Exp|CLV|Sales').columns.tolist()] \n",
    "    else:\n",
    "        clv_all.rename(columns = {'Dystrybutor_Towar':'Dystrybutor'}, inplace=True)\n",
    "    \n",
    "    return clv_all"
   ]
  },
  {
   "cell_type": "code",
   "execution_count": 10,
   "id": "ae7ea4a1-705e-4aa6-98f7-d6f5a10d8ee9",
   "metadata": {
    "tags": []
   },
   "outputs": [],
   "source": [
    "clv_warzywa = clv_week(df = df, start_date = '2022-01-15', clv_horizons = [3], level=['Dystrybutor', 'Towar'])"
   ]
  },
  {
   "cell_type": "code",
   "execution_count": 12,
   "id": "1afac194-979a-4ab8-b6af-3f74814bb5a9",
   "metadata": {
    "tags": []
   },
   "outputs": [
    {
     "data": {
      "text/html": [
       "<div>\n",
       "<style scoped>\n",
       "    .dataframe tbody tr th:only-of-type {\n",
       "        vertical-align: middle;\n",
       "    }\n",
       "\n",
       "    .dataframe tbody tr th {\n",
       "        vertical-align: top;\n",
       "    }\n",
       "\n",
       "    .dataframe thead th {\n",
       "        text-align: right;\n",
       "    }\n",
       "</style>\n",
       "<table border=\"1\" class=\"dataframe\">\n",
       "  <thead>\n",
       "    <tr style=\"text-align: right;\">\n",
       "      <th></th>\n",
       "      <th>Dystrybutor</th>\n",
       "      <th>Towar</th>\n",
       "      <th>Data</th>\n",
       "      <th>p_alive</th>\n",
       "      <th>monetary_value</th>\n",
       "      <th>Exp_Orders_3M</th>\n",
       "      <th>CLV_3M</th>\n",
       "    </tr>\n",
       "  </thead>\n",
       "  <tbody>\n",
       "    <tr>\n",
       "      <th>32646</th>\n",
       "      <td>Bio Ananasy i Brokuły Dystrybutor</td>\n",
       "      <td>Pomidory malinowe</td>\n",
       "      <td>2022-09-26</td>\n",
       "      <td>0.912</td>\n",
       "      <td>73.900000</td>\n",
       "      <td>1.868</td>\n",
       "      <td>156.712878</td>\n",
       "    </tr>\n",
       "    <tr>\n",
       "      <th>34082</th>\n",
       "      <td>Bio Ananasy i Brokuły Dystrybutor</td>\n",
       "      <td>Pomidory malinowe</td>\n",
       "      <td>2022-10-03</td>\n",
       "      <td>0.898</td>\n",
       "      <td>73.900000</td>\n",
       "      <td>1.740</td>\n",
       "      <td>145.910578</td>\n",
       "    </tr>\n",
       "    <tr>\n",
       "      <th>35524</th>\n",
       "      <td>Bio Ananasy i Brokuły Dystrybutor</td>\n",
       "      <td>Pomidory malinowe</td>\n",
       "      <td>2022-10-10</td>\n",
       "      <td>0.879</td>\n",
       "      <td>73.900000</td>\n",
       "      <td>1.609</td>\n",
       "      <td>135.016845</td>\n",
       "    </tr>\n",
       "    <tr>\n",
       "      <th>36983</th>\n",
       "      <td>Bio Ananasy i Brokuły Dystrybutor</td>\n",
       "      <td>Pomidory malinowe</td>\n",
       "      <td>2022-10-17</td>\n",
       "      <td>0.867</td>\n",
       "      <td>73.900000</td>\n",
       "      <td>1.508</td>\n",
       "      <td>126.497649</td>\n",
       "    </tr>\n",
       "    <tr>\n",
       "      <th>38463</th>\n",
       "      <td>Bio Ananasy i Brokuły Dystrybutor</td>\n",
       "      <td>Pomidory malinowe</td>\n",
       "      <td>2022-10-24</td>\n",
       "      <td>0.850</td>\n",
       "      <td>73.900000</td>\n",
       "      <td>1.405</td>\n",
       "      <td>117.787674</td>\n",
       "    </tr>\n",
       "    <tr>\n",
       "      <th>...</th>\n",
       "      <td>...</td>\n",
       "      <td>...</td>\n",
       "      <td>...</td>\n",
       "      <td>...</td>\n",
       "      <td>...</td>\n",
       "      <td>...</td>\n",
       "      <td>...</td>\n",
       "    </tr>\n",
       "    <tr>\n",
       "      <th>142071</th>\n",
       "      <td>Świeże Wiśnie i Warzywa Hurtownia</td>\n",
       "      <td>Ziemniaki</td>\n",
       "      <td>2023-11-27</td>\n",
       "      <td>0.994</td>\n",
       "      <td>60.607895</td>\n",
       "      <td>4.907</td>\n",
       "      <td>298.467170</td>\n",
       "    </tr>\n",
       "    <tr>\n",
       "      <th>144150</th>\n",
       "      <td>Świeże Wiśnie i Warzywa Hurtownia</td>\n",
       "      <td>Ziemniaki</td>\n",
       "      <td>2023-12-04</td>\n",
       "      <td>0.991</td>\n",
       "      <td>60.607895</td>\n",
       "      <td>4.843</td>\n",
       "      <td>294.546224</td>\n",
       "    </tr>\n",
       "    <tr>\n",
       "      <th>146232</th>\n",
       "      <td>Świeże Wiśnie i Warzywa Hurtownia</td>\n",
       "      <td>Ziemniaki</td>\n",
       "      <td>2023-12-11</td>\n",
       "      <td>0.987</td>\n",
       "      <td>60.607895</td>\n",
       "      <td>4.771</td>\n",
       "      <td>290.185735</td>\n",
       "    </tr>\n",
       "    <tr>\n",
       "      <th>148318</th>\n",
       "      <td>Świeże Wiśnie i Warzywa Hurtownia</td>\n",
       "      <td>Ziemniaki</td>\n",
       "      <td>2023-12-18</td>\n",
       "      <td>0.980</td>\n",
       "      <td>60.607895</td>\n",
       "      <td>4.692</td>\n",
       "      <td>285.385912</td>\n",
       "    </tr>\n",
       "    <tr>\n",
       "      <th>150408</th>\n",
       "      <td>Świeże Wiśnie i Warzywa Hurtownia</td>\n",
       "      <td>Ziemniaki</td>\n",
       "      <td>2023-12-25</td>\n",
       "      <td>0.996</td>\n",
       "      <td>60.069231</td>\n",
       "      <td>4.855</td>\n",
       "      <td>292.648728</td>\n",
       "    </tr>\n",
       "  </tbody>\n",
       "</table>\n",
       "<p>150409 rows × 7 columns</p>\n",
       "</div>"
      ],
      "text/plain": [
       "                              Dystrybutor              Towar       Data  \\\n",
       "32646   Bio Ananasy i Brokuły Dystrybutor  Pomidory malinowe 2022-09-26   \n",
       "34082   Bio Ananasy i Brokuły Dystrybutor  Pomidory malinowe 2022-10-03   \n",
       "35524   Bio Ananasy i Brokuły Dystrybutor  Pomidory malinowe 2022-10-10   \n",
       "36983   Bio Ananasy i Brokuły Dystrybutor  Pomidory malinowe 2022-10-17   \n",
       "38463   Bio Ananasy i Brokuły Dystrybutor  Pomidory malinowe 2022-10-24   \n",
       "...                                   ...                ...        ...   \n",
       "142071  Świeże Wiśnie i Warzywa Hurtownia          Ziemniaki 2023-11-27   \n",
       "144150  Świeże Wiśnie i Warzywa Hurtownia          Ziemniaki 2023-12-04   \n",
       "146232  Świeże Wiśnie i Warzywa Hurtownia          Ziemniaki 2023-12-11   \n",
       "148318  Świeże Wiśnie i Warzywa Hurtownia          Ziemniaki 2023-12-18   \n",
       "150408  Świeże Wiśnie i Warzywa Hurtownia          Ziemniaki 2023-12-25   \n",
       "\n",
       "        p_alive  monetary_value  Exp_Orders_3M      CLV_3M  \n",
       "32646     0.912       73.900000          1.868  156.712878  \n",
       "34082     0.898       73.900000          1.740  145.910578  \n",
       "35524     0.879       73.900000          1.609  135.016845  \n",
       "36983     0.867       73.900000          1.508  126.497649  \n",
       "38463     0.850       73.900000          1.405  117.787674  \n",
       "...         ...             ...            ...         ...  \n",
       "142071    0.994       60.607895          4.907  298.467170  \n",
       "144150    0.991       60.607895          4.843  294.546224  \n",
       "146232    0.987       60.607895          4.771  290.185735  \n",
       "148318    0.980       60.607895          4.692  285.385912  \n",
       "150408    0.996       60.069231          4.855  292.648728  \n",
       "\n",
       "[150409 rows x 7 columns]"
      ]
     },
     "execution_count": 12,
     "metadata": {},
     "output_type": "execute_result"
    }
   ],
   "source": [
    "clv_warzywa.sort_values(['Dystrybutor','Towar','Data'])"
   ]
  },
  {
   "cell_type": "code",
   "execution_count": 25,
   "id": "31858a81-4f38-4cae-b9e8-9234df2e79e4",
   "metadata": {
    "tags": []
   },
   "outputs": [
    {
     "data": {
      "application/vnd.plotly.v1+json": {
       "config": {
        "plotlyServerURL": "https://plot.ly"
       },
       "data": [
        {
         "line": {
          "color": "darkblue",
          "dash": "solid",
          "shape": "linear"
         },
         "name": "CLV_3M",
         "type": "scatter",
         "x": [
          "2022-01-31T00:00:00",
          "2022-02-07T00:00:00",
          "2022-02-14T00:00:00",
          "2022-02-21T00:00:00",
          "2022-02-28T00:00:00",
          "2022-03-07T00:00:00",
          "2022-03-14T00:00:00",
          "2022-03-21T00:00:00",
          "2022-03-28T00:00:00",
          "2022-04-04T00:00:00",
          "2022-04-11T00:00:00",
          "2022-04-18T00:00:00",
          "2022-04-25T00:00:00",
          "2022-05-02T00:00:00",
          "2022-05-09T00:00:00",
          "2022-05-16T00:00:00",
          "2022-05-23T00:00:00",
          "2022-05-30T00:00:00",
          "2022-06-06T00:00:00",
          "2022-06-13T00:00:00",
          "2022-06-20T00:00:00",
          "2022-06-27T00:00:00",
          "2022-07-04T00:00:00",
          "2022-07-11T00:00:00",
          "2022-07-18T00:00:00",
          "2022-07-25T00:00:00",
          "2022-08-01T00:00:00",
          "2022-08-08T00:00:00",
          "2022-08-15T00:00:00",
          "2022-08-22T00:00:00",
          "2022-08-29T00:00:00",
          "2022-09-05T00:00:00",
          "2022-09-12T00:00:00",
          "2022-09-19T00:00:00",
          "2022-09-26T00:00:00",
          "2022-10-03T00:00:00",
          "2022-10-10T00:00:00",
          "2022-10-17T00:00:00",
          "2022-10-24T00:00:00",
          "2022-10-31T00:00:00",
          "2022-11-07T00:00:00",
          "2022-11-14T00:00:00",
          "2022-11-21T00:00:00",
          "2022-11-28T00:00:00",
          "2022-12-05T00:00:00",
          "2022-12-12T00:00:00",
          "2022-12-19T00:00:00",
          "2022-12-26T00:00:00",
          "2023-01-02T00:00:00",
          "2023-01-09T00:00:00",
          "2023-01-16T00:00:00",
          "2023-01-23T00:00:00",
          "2023-01-30T00:00:00",
          "2023-02-06T00:00:00",
          "2023-02-13T00:00:00",
          "2023-02-20T00:00:00",
          "2023-02-27T00:00:00",
          "2023-03-06T00:00:00",
          "2023-03-13T00:00:00",
          "2023-03-20T00:00:00",
          "2023-03-27T00:00:00",
          "2023-04-03T00:00:00",
          "2023-04-10T00:00:00",
          "2023-04-17T00:00:00",
          "2023-04-24T00:00:00",
          "2023-05-01T00:00:00",
          "2023-05-08T00:00:00",
          "2023-05-15T00:00:00",
          "2023-05-22T00:00:00",
          "2023-05-29T00:00:00",
          "2023-06-05T00:00:00",
          "2023-06-12T00:00:00",
          "2023-06-19T00:00:00",
          "2023-06-26T00:00:00",
          "2023-07-03T00:00:00",
          "2023-07-10T00:00:00",
          "2023-07-17T00:00:00",
          "2023-07-24T00:00:00",
          "2023-07-31T00:00:00",
          "2023-08-07T00:00:00",
          "2023-08-14T00:00:00",
          "2023-08-21T00:00:00",
          "2023-08-28T00:00:00",
          "2023-09-04T00:00:00",
          "2023-09-11T00:00:00",
          "2023-09-18T00:00:00",
          "2023-09-25T00:00:00",
          "2023-10-02T00:00:00",
          "2023-10-09T00:00:00",
          "2023-10-16T00:00:00",
          "2023-10-23T00:00:00",
          "2023-10-30T00:00:00",
          "2023-11-06T00:00:00",
          "2023-11-13T00:00:00",
          "2023-11-20T00:00:00",
          "2023-11-27T00:00:00",
          "2023-12-04T00:00:00",
          "2023-12-11T00:00:00",
          "2023-12-18T00:00:00",
          "2023-12-25T00:00:00"
         ],
         "y": [
          678.04133817286,
          1172.0614376970905,
          1578.4483621452825,
          527.6576617016879,
          117.29161110331066,
          37.70988541116688,
          17.127931633218104,
          10.436678864488705,
          10.268469471680689,
          9.740654045062694,
          7.9265041852840135,
          8.50051451821402,
          6.395494653742521,
          6.051431163743484,
          6.388722717806592,
          5.817794682572927,
          5.364026093770826,
          5.629505999442777,
          6.62797721767045,
          5.277313710479699,
          4.9561588392511,
          4.6422795399882935,
          4.4864476367538,
          4.1236098027405665,
          3.203590299129494,
          2.2702595201702227,
          1.5840590426472074,
          1.073676007669522,
          0.8472819597508345,
          0.4983125096971614,
          0.34924435520829933,
          0.23678533328301626,
          0.17921823265392248,
          0.13218758400477532,
          0.09145932683198105,
          0.0766995598165787,
          0.05468072112138174,
          0.04783502957860823,
          0.0369800601277764,
          0.028419285251961544,
          0.021580565863846563,
          0.0163194642216074,
          0.01311844163070549,
          0.010228039019827969,
          0.008075175398633935,
          0.006350522668502679,
          0.004882916799932178,
          0.004218185547280856,
          0.0028388218877331783,
          0.002287770919072006,
          0.0019901799169661843,
          0.0018474127162338106,
          0.0017579032157080247,
          0.0017389468570142895,
          0.001747027863011626,
          0.001575680362061385,
          0.0013288132938381954,
          0.0011655237423957615,
          0.0009730808580023307,
          0.0008100607498460514,
          0.0007315143009117247,
          0.0006272801994615325,
          0.0005460074796789978,
          0.00047343149319685685,
          0.00040728431181720227,
          0.00038009808393767695,
          0.00033669400662342464,
          0.0002899816137725886,
          0.0002648295585770247,
          0.00023887514105732185,
          0.00020948961244275345,
          0.00018447514337424867,
          0.0001622771399330265,
          0.00014035937709630728,
          0.0001250053856010763,
          0.00010692212212774346,
          0.00009393056898656985,
          0.00008281788663174532,
          0.00007511628606789175,
          0.00006618340413793271,
          0.00005843462769782875,
          0.00005195817593098457,
          0.00004540498260037541,
          0.00003939420856385764,
          0.00003585877239011171,
          0.0000325283808174978,
          0.000027576357945359505,
          0.000024472518377248033,
          0.000021616389913943114,
          0.000019799120423720042,
          0.000017714470906366615,
          0.000015745102630290787,
          0.000014323942842776974,
          0.000013150411049073144,
          0.000011975576317631914,
          0.00001102183140404784,
          0.000009898270224438302,
          0.000009001509321712725,
          0.000008004416018078024,
          0.000007312834725998474
         ]
        }
       ],
       "layout": {
        "autosize": false,
        "height": 400,
        "legend": {
         "title": {
          "text": ""
         }
        },
        "shapes": [
         {
          "line": {
           "color": "green",
           "dash": "dash",
           "width": 1.5
          },
          "name": "Order",
          "type": "line",
          "x0": "2022-01-27T00:00:00",
          "x1": "2022-01-27T00:00:00",
          "xref": "x",
          "y0": 0,
          "y1": 1,
          "yref": "y domain"
         },
         {
          "line": {
           "color": "green",
           "dash": "dash",
           "width": 1.5
          },
          "name": "Order",
          "type": "line",
          "x0": "2022-01-28T00:00:00",
          "x1": "2022-01-28T00:00:00",
          "xref": "x",
          "y0": 0,
          "y1": 1,
          "yref": "y domain"
         },
         {
          "line": {
           "color": "green",
           "dash": "dash",
           "width": 1.5
          },
          "name": "Order",
          "type": "line",
          "x0": "2022-02-02T00:00:00",
          "x1": "2022-02-02T00:00:00",
          "xref": "x",
          "y0": 0,
          "y1": 1,
          "yref": "y domain"
         },
         {
          "line": {
           "color": "green",
           "dash": "dash",
           "width": 1.5
          },
          "name": "Order",
          "type": "line",
          "x0": "2022-02-03T00:00:00",
          "x1": "2022-02-03T00:00:00",
          "xref": "x",
          "y0": 0,
          "y1": 1,
          "yref": "y domain"
         },
         {
          "line": {
           "color": "green",
           "dash": "dash",
           "width": 1.5
          },
          "name": "Order",
          "type": "line",
          "x0": "2022-02-08T00:00:00",
          "x1": "2022-02-08T00:00:00",
          "xref": "x",
          "y0": 0,
          "y1": 1,
          "yref": "y domain"
         },
         {
          "line": {
           "color": "green",
           "dash": "dash",
           "width": 1.5
          },
          "name": "Order",
          "type": "line",
          "x0": "2022-02-09T00:00:00",
          "x1": "2022-02-09T00:00:00",
          "xref": "x",
          "y0": 0,
          "y1": 1,
          "yref": "y domain"
         },
         {
          "line": {
           "color": "green",
           "dash": "dash",
           "width": 1.5
          },
          "name": "Order",
          "type": "line",
          "x0": "2022-02-10T00:00:00",
          "x1": "2022-02-10T00:00:00",
          "xref": "x",
          "y0": 0,
          "y1": 1,
          "yref": "y domain"
         },
         {
          "line": {
           "color": "green",
           "dash": "dash",
           "width": 1.5
          },
          "name": "Order",
          "type": "line",
          "x0": "2022-02-11T00:00:00",
          "x1": "2022-02-11T00:00:00",
          "xref": "x",
          "y0": 0,
          "y1": 1,
          "yref": "y domain"
         }
        ],
        "showlegend": true,
        "template": {
         "data": {
          "bar": [
           {
            "error_x": {
             "color": "#2a3f5f"
            },
            "error_y": {
             "color": "#2a3f5f"
            },
            "marker": {
             "line": {
              "color": "#E5ECF6",
              "width": 0.5
             },
             "pattern": {
              "fillmode": "overlay",
              "size": 10,
              "solidity": 0.2
             }
            },
            "type": "bar"
           }
          ],
          "barpolar": [
           {
            "marker": {
             "line": {
              "color": "#E5ECF6",
              "width": 0.5
             },
             "pattern": {
              "fillmode": "overlay",
              "size": 10,
              "solidity": 0.2
             }
            },
            "type": "barpolar"
           }
          ],
          "carpet": [
           {
            "aaxis": {
             "endlinecolor": "#2a3f5f",
             "gridcolor": "white",
             "linecolor": "white",
             "minorgridcolor": "white",
             "startlinecolor": "#2a3f5f"
            },
            "baxis": {
             "endlinecolor": "#2a3f5f",
             "gridcolor": "white",
             "linecolor": "white",
             "minorgridcolor": "white",
             "startlinecolor": "#2a3f5f"
            },
            "type": "carpet"
           }
          ],
          "choropleth": [
           {
            "colorbar": {
             "outlinewidth": 0,
             "ticks": ""
            },
            "type": "choropleth"
           }
          ],
          "contour": [
           {
            "colorbar": {
             "outlinewidth": 0,
             "ticks": ""
            },
            "colorscale": [
             [
              0,
              "#0d0887"
             ],
             [
              0.1111111111111111,
              "#46039f"
             ],
             [
              0.2222222222222222,
              "#7201a8"
             ],
             [
              0.3333333333333333,
              "#9c179e"
             ],
             [
              0.4444444444444444,
              "#bd3786"
             ],
             [
              0.5555555555555556,
              "#d8576b"
             ],
             [
              0.6666666666666666,
              "#ed7953"
             ],
             [
              0.7777777777777778,
              "#fb9f3a"
             ],
             [
              0.8888888888888888,
              "#fdca26"
             ],
             [
              1,
              "#f0f921"
             ]
            ],
            "type": "contour"
           }
          ],
          "contourcarpet": [
           {
            "colorbar": {
             "outlinewidth": 0,
             "ticks": ""
            },
            "type": "contourcarpet"
           }
          ],
          "heatmap": [
           {
            "colorbar": {
             "outlinewidth": 0,
             "ticks": ""
            },
            "colorscale": [
             [
              0,
              "#0d0887"
             ],
             [
              0.1111111111111111,
              "#46039f"
             ],
             [
              0.2222222222222222,
              "#7201a8"
             ],
             [
              0.3333333333333333,
              "#9c179e"
             ],
             [
              0.4444444444444444,
              "#bd3786"
             ],
             [
              0.5555555555555556,
              "#d8576b"
             ],
             [
              0.6666666666666666,
              "#ed7953"
             ],
             [
              0.7777777777777778,
              "#fb9f3a"
             ],
             [
              0.8888888888888888,
              "#fdca26"
             ],
             [
              1,
              "#f0f921"
             ]
            ],
            "type": "heatmap"
           }
          ],
          "heatmapgl": [
           {
            "colorbar": {
             "outlinewidth": 0,
             "ticks": ""
            },
            "colorscale": [
             [
              0,
              "#0d0887"
             ],
             [
              0.1111111111111111,
              "#46039f"
             ],
             [
              0.2222222222222222,
              "#7201a8"
             ],
             [
              0.3333333333333333,
              "#9c179e"
             ],
             [
              0.4444444444444444,
              "#bd3786"
             ],
             [
              0.5555555555555556,
              "#d8576b"
             ],
             [
              0.6666666666666666,
              "#ed7953"
             ],
             [
              0.7777777777777778,
              "#fb9f3a"
             ],
             [
              0.8888888888888888,
              "#fdca26"
             ],
             [
              1,
              "#f0f921"
             ]
            ],
            "type": "heatmapgl"
           }
          ],
          "histogram": [
           {
            "marker": {
             "pattern": {
              "fillmode": "overlay",
              "size": 10,
              "solidity": 0.2
             }
            },
            "type": "histogram"
           }
          ],
          "histogram2d": [
           {
            "colorbar": {
             "outlinewidth": 0,
             "ticks": ""
            },
            "colorscale": [
             [
              0,
              "#0d0887"
             ],
             [
              0.1111111111111111,
              "#46039f"
             ],
             [
              0.2222222222222222,
              "#7201a8"
             ],
             [
              0.3333333333333333,
              "#9c179e"
             ],
             [
              0.4444444444444444,
              "#bd3786"
             ],
             [
              0.5555555555555556,
              "#d8576b"
             ],
             [
              0.6666666666666666,
              "#ed7953"
             ],
             [
              0.7777777777777778,
              "#fb9f3a"
             ],
             [
              0.8888888888888888,
              "#fdca26"
             ],
             [
              1,
              "#f0f921"
             ]
            ],
            "type": "histogram2d"
           }
          ],
          "histogram2dcontour": [
           {
            "colorbar": {
             "outlinewidth": 0,
             "ticks": ""
            },
            "colorscale": [
             [
              0,
              "#0d0887"
             ],
             [
              0.1111111111111111,
              "#46039f"
             ],
             [
              0.2222222222222222,
              "#7201a8"
             ],
             [
              0.3333333333333333,
              "#9c179e"
             ],
             [
              0.4444444444444444,
              "#bd3786"
             ],
             [
              0.5555555555555556,
              "#d8576b"
             ],
             [
              0.6666666666666666,
              "#ed7953"
             ],
             [
              0.7777777777777778,
              "#fb9f3a"
             ],
             [
              0.8888888888888888,
              "#fdca26"
             ],
             [
              1,
              "#f0f921"
             ]
            ],
            "type": "histogram2dcontour"
           }
          ],
          "mesh3d": [
           {
            "colorbar": {
             "outlinewidth": 0,
             "ticks": ""
            },
            "type": "mesh3d"
           }
          ],
          "parcoords": [
           {
            "line": {
             "colorbar": {
              "outlinewidth": 0,
              "ticks": ""
             }
            },
            "type": "parcoords"
           }
          ],
          "pie": [
           {
            "automargin": true,
            "type": "pie"
           }
          ],
          "scatter": [
           {
            "fillpattern": {
             "fillmode": "overlay",
             "size": 10,
             "solidity": 0.2
            },
            "type": "scatter"
           }
          ],
          "scatter3d": [
           {
            "line": {
             "colorbar": {
              "outlinewidth": 0,
              "ticks": ""
             }
            },
            "marker": {
             "colorbar": {
              "outlinewidth": 0,
              "ticks": ""
             }
            },
            "type": "scatter3d"
           }
          ],
          "scattercarpet": [
           {
            "marker": {
             "colorbar": {
              "outlinewidth": 0,
              "ticks": ""
             }
            },
            "type": "scattercarpet"
           }
          ],
          "scattergeo": [
           {
            "marker": {
             "colorbar": {
              "outlinewidth": 0,
              "ticks": ""
             }
            },
            "type": "scattergeo"
           }
          ],
          "scattergl": [
           {
            "marker": {
             "colorbar": {
              "outlinewidth": 0,
              "ticks": ""
             }
            },
            "type": "scattergl"
           }
          ],
          "scattermapbox": [
           {
            "marker": {
             "colorbar": {
              "outlinewidth": 0,
              "ticks": ""
             }
            },
            "type": "scattermapbox"
           }
          ],
          "scatterpolar": [
           {
            "marker": {
             "colorbar": {
              "outlinewidth": 0,
              "ticks": ""
             }
            },
            "type": "scatterpolar"
           }
          ],
          "scatterpolargl": [
           {
            "marker": {
             "colorbar": {
              "outlinewidth": 0,
              "ticks": ""
             }
            },
            "type": "scatterpolargl"
           }
          ],
          "scatterternary": [
           {
            "marker": {
             "colorbar": {
              "outlinewidth": 0,
              "ticks": ""
             }
            },
            "type": "scatterternary"
           }
          ],
          "surface": [
           {
            "colorbar": {
             "outlinewidth": 0,
             "ticks": ""
            },
            "colorscale": [
             [
              0,
              "#0d0887"
             ],
             [
              0.1111111111111111,
              "#46039f"
             ],
             [
              0.2222222222222222,
              "#7201a8"
             ],
             [
              0.3333333333333333,
              "#9c179e"
             ],
             [
              0.4444444444444444,
              "#bd3786"
             ],
             [
              0.5555555555555556,
              "#d8576b"
             ],
             [
              0.6666666666666666,
              "#ed7953"
             ],
             [
              0.7777777777777778,
              "#fb9f3a"
             ],
             [
              0.8888888888888888,
              "#fdca26"
             ],
             [
              1,
              "#f0f921"
             ]
            ],
            "type": "surface"
           }
          ],
          "table": [
           {
            "cells": {
             "fill": {
              "color": "#EBF0F8"
             },
             "line": {
              "color": "white"
             }
            },
            "header": {
             "fill": {
              "color": "#C8D4E3"
             },
             "line": {
              "color": "white"
             }
            },
            "type": "table"
           }
          ]
         },
         "layout": {
          "annotationdefaults": {
           "arrowcolor": "#2a3f5f",
           "arrowhead": 0,
           "arrowwidth": 1
          },
          "autotypenumbers": "strict",
          "coloraxis": {
           "colorbar": {
            "outlinewidth": 0,
            "ticks": ""
           }
          },
          "colorscale": {
           "diverging": [
            [
             0,
             "#8e0152"
            ],
            [
             0.1,
             "#c51b7d"
            ],
            [
             0.2,
             "#de77ae"
            ],
            [
             0.3,
             "#f1b6da"
            ],
            [
             0.4,
             "#fde0ef"
            ],
            [
             0.5,
             "#f7f7f7"
            ],
            [
             0.6,
             "#e6f5d0"
            ],
            [
             0.7,
             "#b8e186"
            ],
            [
             0.8,
             "#7fbc41"
            ],
            [
             0.9,
             "#4d9221"
            ],
            [
             1,
             "#276419"
            ]
           ],
           "sequential": [
            [
             0,
             "#0d0887"
            ],
            [
             0.1111111111111111,
             "#46039f"
            ],
            [
             0.2222222222222222,
             "#7201a8"
            ],
            [
             0.3333333333333333,
             "#9c179e"
            ],
            [
             0.4444444444444444,
             "#bd3786"
            ],
            [
             0.5555555555555556,
             "#d8576b"
            ],
            [
             0.6666666666666666,
             "#ed7953"
            ],
            [
             0.7777777777777778,
             "#fb9f3a"
            ],
            [
             0.8888888888888888,
             "#fdca26"
            ],
            [
             1,
             "#f0f921"
            ]
           ],
           "sequentialminus": [
            [
             0,
             "#0d0887"
            ],
            [
             0.1111111111111111,
             "#46039f"
            ],
            [
             0.2222222222222222,
             "#7201a8"
            ],
            [
             0.3333333333333333,
             "#9c179e"
            ],
            [
             0.4444444444444444,
             "#bd3786"
            ],
            [
             0.5555555555555556,
             "#d8576b"
            ],
            [
             0.6666666666666666,
             "#ed7953"
            ],
            [
             0.7777777777777778,
             "#fb9f3a"
            ],
            [
             0.8888888888888888,
             "#fdca26"
            ],
            [
             1,
             "#f0f921"
            ]
           ]
          },
          "colorway": [
           "#636efa",
           "#EF553B",
           "#00cc96",
           "#ab63fa",
           "#FFA15A",
           "#19d3f3",
           "#FF6692",
           "#B6E880",
           "#FF97FF",
           "#FECB52"
          ],
          "font": {
           "color": "#2a3f5f"
          },
          "geo": {
           "bgcolor": "white",
           "lakecolor": "white",
           "landcolor": "#E5ECF6",
           "showlakes": true,
           "showland": true,
           "subunitcolor": "white"
          },
          "hoverlabel": {
           "align": "left"
          },
          "hovermode": "closest",
          "mapbox": {
           "style": "light"
          },
          "paper_bgcolor": "white",
          "plot_bgcolor": "#E5ECF6",
          "polar": {
           "angularaxis": {
            "gridcolor": "white",
            "linecolor": "white",
            "ticks": ""
           },
           "bgcolor": "#E5ECF6",
           "radialaxis": {
            "gridcolor": "white",
            "linecolor": "white",
            "ticks": ""
           }
          },
          "scene": {
           "xaxis": {
            "backgroundcolor": "#E5ECF6",
            "gridcolor": "white",
            "gridwidth": 2,
            "linecolor": "white",
            "showbackground": true,
            "ticks": "",
            "zerolinecolor": "white"
           },
           "yaxis": {
            "backgroundcolor": "#E5ECF6",
            "gridcolor": "white",
            "gridwidth": 2,
            "linecolor": "white",
            "showbackground": true,
            "ticks": "",
            "zerolinecolor": "white"
           },
           "zaxis": {
            "backgroundcolor": "#E5ECF6",
            "gridcolor": "white",
            "gridwidth": 2,
            "linecolor": "white",
            "showbackground": true,
            "ticks": "",
            "zerolinecolor": "white"
           }
          },
          "shapedefaults": {
           "line": {
            "color": "#2a3f5f"
           }
          },
          "ternary": {
           "aaxis": {
            "gridcolor": "white",
            "linecolor": "white",
            "ticks": ""
           },
           "baxis": {
            "gridcolor": "white",
            "linecolor": "white",
            "ticks": ""
           },
           "bgcolor": "#E5ECF6",
           "caxis": {
            "gridcolor": "white",
            "linecolor": "white",
            "ticks": ""
           }
          },
          "title": {
           "x": 0.05
          },
          "xaxis": {
           "automargin": true,
           "gridcolor": "white",
           "linecolor": "white",
           "ticks": "",
           "title": {
            "standoff": 15
           },
           "zerolinecolor": "white",
           "zerolinewidth": 2
          },
          "yaxis": {
           "automargin": true,
           "gridcolor": "white",
           "linecolor": "white",
           "ticks": "",
           "title": {
            "standoff": 15
           },
           "zerolinecolor": "white",
           "zerolinewidth": 2
          }
         }
        },
        "title": {
         "font": {
          "color": "blue",
          "size": 20
         },
         "text": "Naturalne Ananasy i Brokuły Dystrybutor - Jabłka",
         "x": 0.5
        },
        "width": 1500,
        "xaxis": {
         "range": [
          "2022-01-27T00:00:00",
          "2022-02-11T00:00:00"
         ],
         "rangeselector": {
          "buttons": [
           {
            "step": "all"
           },
           {
            "count": 1,
            "label": "1m",
            "step": "month",
            "stepmode": "backward"
           },
           {
            "count": 3,
            "label": "3m",
            "step": "month",
            "stepmode": "backward"
           },
           {
            "count": 6,
            "label": "6m",
            "step": "month",
            "stepmode": "backward"
           },
           {
            "count": 1,
            "label": "1y",
            "step": "year",
            "stepmode": "backward"
           }
          ]
         },
         "rangeslider": {
          "thickness": 0.2,
          "visible": true
         },
         "type": "date"
        }
       }
      }
     },
     "metadata": {},
     "output_type": "display_data"
    }
   ],
   "source": [
    "fig = go.Figure()\n",
    "dystrybutor = 'Naturalne Ananasy i Brokuły Dystrybutor'\n",
    "towar = 'Jabłka'\n",
    "\n",
    "k = df.loc[(df['Dystrybutor']==dystrybutor) & (df['Towar']==towar)]\n",
    "min_date_plot, max_date_plot = k['Data'].min(), k['Data'].max()\n",
    "\n",
    "# fig.add_trace(go.Scatter(x = k['Data'], y = k['Quantity'], name=\"Quantity\"))\n",
    "\n",
    "k_clv = clv_warzywa.loc[(clv_warzywa['Dystrybutor']==dystrybutor) & (clv_warzywa['Towar']==towar)]\n",
    "# fig.add_trace(go.Scatter(x = k_clv['Data'], y = k_clv['p_alive'], line = dict(shape = 'linear', color = 'red', dash = 'solid'),  name=\"p_alive\"))\n",
    "fig.add_trace(go.Scatter(x = k_clv['Data'], y = k_clv['CLV_3M'], line = dict(shape = 'linear', color = 'darkblue', dash = 'solid'), name=\"CLV_3M\"))\n",
    "\n",
    "for i in k.loc[(k['Quantity']>0)]['Data'].unique():\n",
    "    fig.add_vline(x=i,line_width=1.5, line_dash=\"dash\", line_color=\"green\", name=\"Order\")\n",
    "                \n",
    "fig.update_layout(title_text=\"{} - {}\".format(dystrybutor, towar), title_x=0.5, title_font_color=\"blue\", title_font_size=20,\n",
    "                              legend_title=\"\", xaxis=dict(rangeselector=dict(buttons=list([dict(step=\"all\"), \n",
    "                                                                dict(count=1, label=\"1m\", step=\"month\", stepmode=\"backward\"),\n",
    "                                                                dict(count=3, label=\"3m\", step=\"month\", stepmode=\"backward\"),\n",
    "                                                                dict(count=6, label=\"6m\", step=\"month\", stepmode=\"backward\"),\n",
    "                                                                dict(count=1, label=\"1y\", step=\"year\", stepmode=\"backward\")\n",
    "                                                                ])), \n",
    "                        rangeslider=dict(visible=True), type=\"date\", range = [min_date_plot, max_date_plot]))\n",
    "    \n",
    "fig.update_xaxes(rangeslider_thickness = 0.2)\n",
    "fig.update_layout(autosize=False, width=1500, height=400,)\n",
    "fig.update_layout(showlegend=True)\n",
    "fig.show()"
   ]
  },
  {
   "cell_type": "code",
   "execution_count": 24,
   "id": "8b6f374c",
   "metadata": {},
   "outputs": [
    {
     "data": {
      "text/html": [
       "<div>\n",
       "<style scoped>\n",
       "    .dataframe tbody tr th:only-of-type {\n",
       "        vertical-align: middle;\n",
       "    }\n",
       "\n",
       "    .dataframe tbody tr th {\n",
       "        vertical-align: top;\n",
       "    }\n",
       "\n",
       "    .dataframe thead th {\n",
       "        text-align: right;\n",
       "    }\n",
       "</style>\n",
       "<table border=\"1\" class=\"dataframe\">\n",
       "  <thead>\n",
       "    <tr style=\"text-align: right;\">\n",
       "      <th></th>\n",
       "      <th>Dystrybutor</th>\n",
       "      <th>Towar</th>\n",
       "      <th>Data</th>\n",
       "      <th>p_alive</th>\n",
       "      <th>monetary_value</th>\n",
       "      <th>Exp_Orders_3M</th>\n",
       "      <th>CLV_3M</th>\n",
       "    </tr>\n",
       "  </thead>\n",
       "  <tbody>\n",
       "    <tr>\n",
       "      <th>181</th>\n",
       "      <td>Naturalne Ananasy i Brokuły Dystrybutor</td>\n",
       "      <td>Jabłka</td>\n",
       "      <td>2022-01-31</td>\n",
       "      <td>0.560</td>\n",
       "      <td>74.700000</td>\n",
       "      <td>7.811</td>\n",
       "      <td>678.041338</td>\n",
       "    </tr>\n",
       "    <tr>\n",
       "      <th>406</th>\n",
       "      <td>Naturalne Ananasy i Brokuły Dystrybutor</td>\n",
       "      <td>Jabłka</td>\n",
       "      <td>2022-02-07</td>\n",
       "      <td>0.820</td>\n",
       "      <td>99.600000</td>\n",
       "      <td>11.266</td>\n",
       "      <td>1172.061438</td>\n",
       "    </tr>\n",
       "    <tr>\n",
       "      <th>748</th>\n",
       "      <td>Naturalne Ananasy i Brokuły Dystrybutor</td>\n",
       "      <td>Jabłka</td>\n",
       "      <td>2022-02-14</td>\n",
       "      <td>0.885</td>\n",
       "      <td>96.042857</td>\n",
       "      <td>16.137</td>\n",
       "      <td>1578.448362</td>\n",
       "    </tr>\n",
       "    <tr>\n",
       "      <th>1157</th>\n",
       "      <td>Naturalne Ananasy i Brokuły Dystrybutor</td>\n",
       "      <td>Jabłka</td>\n",
       "      <td>2022-02-21</td>\n",
       "      <td>0.422</td>\n",
       "      <td>96.042857</td>\n",
       "      <td>5.394</td>\n",
       "      <td>527.657662</td>\n",
       "    </tr>\n",
       "    <tr>\n",
       "      <th>1597</th>\n",
       "      <td>Naturalne Ananasy i Brokuły Dystrybutor</td>\n",
       "      <td>Jabłka</td>\n",
       "      <td>2022-02-28</td>\n",
       "      <td>0.117</td>\n",
       "      <td>96.042857</td>\n",
       "      <td>1.199</td>\n",
       "      <td>117.291611</td>\n",
       "    </tr>\n",
       "    <tr>\n",
       "      <th>...</th>\n",
       "      <td>...</td>\n",
       "      <td>...</td>\n",
       "      <td>...</td>\n",
       "      <td>...</td>\n",
       "      <td>...</td>\n",
       "      <td>...</td>\n",
       "      <td>...</td>\n",
       "    </tr>\n",
       "    <tr>\n",
       "      <th>140841</th>\n",
       "      <td>Naturalne Ananasy i Brokuły Dystrybutor</td>\n",
       "      <td>Jabłka</td>\n",
       "      <td>2023-11-27</td>\n",
       "      <td>0.000</td>\n",
       "      <td>96.042857</td>\n",
       "      <td>0.000</td>\n",
       "      <td>0.000011</td>\n",
       "    </tr>\n",
       "    <tr>\n",
       "      <th>142919</th>\n",
       "      <td>Naturalne Ananasy i Brokuły Dystrybutor</td>\n",
       "      <td>Jabłka</td>\n",
       "      <td>2023-12-04</td>\n",
       "      <td>0.000</td>\n",
       "      <td>96.042857</td>\n",
       "      <td>0.000</td>\n",
       "      <td>0.000010</td>\n",
       "    </tr>\n",
       "    <tr>\n",
       "      <th>144998</th>\n",
       "      <td>Naturalne Ananasy i Brokuły Dystrybutor</td>\n",
       "      <td>Jabłka</td>\n",
       "      <td>2023-12-11</td>\n",
       "      <td>0.000</td>\n",
       "      <td>96.042857</td>\n",
       "      <td>0.000</td>\n",
       "      <td>0.000009</td>\n",
       "    </tr>\n",
       "    <tr>\n",
       "      <th>147082</th>\n",
       "      <td>Naturalne Ananasy i Brokuły Dystrybutor</td>\n",
       "      <td>Jabłka</td>\n",
       "      <td>2023-12-18</td>\n",
       "      <td>0.000</td>\n",
       "      <td>96.042857</td>\n",
       "      <td>0.000</td>\n",
       "      <td>0.000008</td>\n",
       "    </tr>\n",
       "    <tr>\n",
       "      <th>149170</th>\n",
       "      <td>Naturalne Ananasy i Brokuły Dystrybutor</td>\n",
       "      <td>Jabłka</td>\n",
       "      <td>2023-12-25</td>\n",
       "      <td>0.000</td>\n",
       "      <td>96.042857</td>\n",
       "      <td>0.000</td>\n",
       "      <td>0.000007</td>\n",
       "    </tr>\n",
       "  </tbody>\n",
       "</table>\n",
       "<p>100 rows × 7 columns</p>\n",
       "</div>"
      ],
      "text/plain": [
       "                                    Dystrybutor   Towar       Data  p_alive  \\\n",
       "181     Naturalne Ananasy i Brokuły Dystrybutor  Jabłka 2022-01-31    0.560   \n",
       "406     Naturalne Ananasy i Brokuły Dystrybutor  Jabłka 2022-02-07    0.820   \n",
       "748     Naturalne Ananasy i Brokuły Dystrybutor  Jabłka 2022-02-14    0.885   \n",
       "1157    Naturalne Ananasy i Brokuły Dystrybutor  Jabłka 2022-02-21    0.422   \n",
       "1597    Naturalne Ananasy i Brokuły Dystrybutor  Jabłka 2022-02-28    0.117   \n",
       "...                                         ...     ...        ...      ...   \n",
       "140841  Naturalne Ananasy i Brokuły Dystrybutor  Jabłka 2023-11-27    0.000   \n",
       "142919  Naturalne Ananasy i Brokuły Dystrybutor  Jabłka 2023-12-04    0.000   \n",
       "144998  Naturalne Ananasy i Brokuły Dystrybutor  Jabłka 2023-12-11    0.000   \n",
       "147082  Naturalne Ananasy i Brokuły Dystrybutor  Jabłka 2023-12-18    0.000   \n",
       "149170  Naturalne Ananasy i Brokuły Dystrybutor  Jabłka 2023-12-25    0.000   \n",
       "\n",
       "        monetary_value  Exp_Orders_3M       CLV_3M  \n",
       "181          74.700000          7.811   678.041338  \n",
       "406          99.600000         11.266  1172.061438  \n",
       "748          96.042857         16.137  1578.448362  \n",
       "1157         96.042857          5.394   527.657662  \n",
       "1597         96.042857          1.199   117.291611  \n",
       "...                ...            ...          ...  \n",
       "140841       96.042857          0.000     0.000011  \n",
       "142919       96.042857          0.000     0.000010  \n",
       "144998       96.042857          0.000     0.000009  \n",
       "147082       96.042857          0.000     0.000008  \n",
       "149170       96.042857          0.000     0.000007  \n",
       "\n",
       "[100 rows x 7 columns]"
      ]
     },
     "execution_count": 24,
     "metadata": {},
     "output_type": "execute_result"
    }
   ],
   "source": [
    "clv_warzywa[clv_warzywa[\"Dystrybutor\"] == \"Naturalne Ananasy i Brokuły Dystrybutor\"]"
   ]
  }
 ],
 "metadata": {
  "kernelspec": {
   "display_name": "Python 3 (ipykernel)",
   "language": "python",
   "name": "python3"
  },
  "language_info": {
   "codemirror_mode": {
    "name": "ipython",
    "version": 3
   },
   "file_extension": ".py",
   "mimetype": "text/x-python",
   "name": "python",
   "nbconvert_exporter": "python",
   "pygments_lexer": "ipython3",
   "version": "3.12.2"
  },
  "widgets": {
   "application/vnd.jupyter.widget-state+json": {
    "state": {},
    "version_major": 2,
    "version_minor": 0
   }
  }
 },
 "nbformat": 4,
 "nbformat_minor": 5
}
