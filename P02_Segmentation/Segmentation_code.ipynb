{
 "cells": [
  {
   "cell_type": "code",
   "execution_count": 36,
   "id": "e69e799b-b19a-4826-8c6e-4defdfbef858",
   "metadata": {
    "tags": []
   },
   "outputs": [],
   "source": [
    "import pandas as pd\n",
    "import os\n",
    "import numpy as np\n",
    "import plotly.graph_objects as go\n",
    "# os.chdir(r\"G:\\Mój dysk\")"
   ]
  },
  {
   "cell_type": "code",
   "execution_count": 3,
   "id": "53dd2174-cc84-4325-8a9f-fca7923df7ea",
   "metadata": {
    "tags": []
   },
   "outputs": [],
   "source": [
    "df = pd.read_csv(\"./dystrybucja_warzyw.csv\")\n",
    "# mitosheet.sheet(df, analysis_to_replay=\"id-eheqhoslfn\")"
   ]
  },
  {
   "cell_type": "code",
   "execution_count": 4,
   "id": "717f706b-bcca-4a47-a7c0-3352aad07c8a",
   "metadata": {
    "tags": []
   },
   "outputs": [
    {
     "data": {
      "application/vnd.plotly.v1+json": {
       "config": {
        "plotlyServerURL": "https://plot.ly"
       },
       "data": [
        {
         "name": "Quantity",
         "type": "scatter",
         "x": [
          "2023-04-18",
          "2023-04-20",
          "2023-04-25",
          "2023-04-28",
          "2023-05-08",
          "2023-05-11",
          "2023-05-12",
          "2023-05-23",
          "2023-05-26",
          "2023-05-26",
          "2023-05-31",
          "2023-06-09",
          "2023-06-14",
          "2023-06-16",
          "2023-06-26",
          "2023-08-09",
          "2023-08-19",
          "2023-08-25",
          "2023-08-31",
          "2023-09-07",
          "2023-09-13",
          "2023-09-16",
          "2023-09-19",
          "2023-09-20",
          "2023-09-21",
          "2023-09-23",
          "2023-09-26",
          "2023-09-26",
          "2023-09-27",
          "2023-09-28",
          "2023-11-06",
          "2023-12-09",
          "2023-12-22",
          "2023-12-29",
          "2023-12-29"
         ],
         "y": [
          74.7,
          17.6,
          70.3,
          52.8,
          74.7,
          70.3,
          30.8,
          131.9,
          44,
          74.7,
          224.2,
          8.8,
          35.2,
          39.6,
          22,
          87.9,
          44,
          26.4,
          35.2,
          22,
          48.4,
          149.5,
          35.2,
          149.5,
          149.5,
          74.7,
          109.9,
          74.7,
          35.2,
          22,
          44,
          74.7,
          30.8,
          74.7,
          74.7
         ]
        }
       ],
       "layout": {
        "autosize": false,
        "height": 400,
        "legend": {
         "title": {
          "text": ""
         }
        },
        "shapes": [
         {
          "line": {
           "color": "green",
           "dash": "dash",
           "width": 1.5
          },
          "name": "Order",
          "type": "line",
          "x0": "2023-04-18",
          "x1": "2023-04-18",
          "xref": "x",
          "y0": 0,
          "y1": 1,
          "yref": "y domain"
         },
         {
          "line": {
           "color": "green",
           "dash": "dash",
           "width": 1.5
          },
          "name": "Order",
          "type": "line",
          "x0": "2023-04-20",
          "x1": "2023-04-20",
          "xref": "x",
          "y0": 0,
          "y1": 1,
          "yref": "y domain"
         },
         {
          "line": {
           "color": "green",
           "dash": "dash",
           "width": 1.5
          },
          "name": "Order",
          "type": "line",
          "x0": "2023-04-25",
          "x1": "2023-04-25",
          "xref": "x",
          "y0": 0,
          "y1": 1,
          "yref": "y domain"
         },
         {
          "line": {
           "color": "green",
           "dash": "dash",
           "width": 1.5
          },
          "name": "Order",
          "type": "line",
          "x0": "2023-04-28",
          "x1": "2023-04-28",
          "xref": "x",
          "y0": 0,
          "y1": 1,
          "yref": "y domain"
         },
         {
          "line": {
           "color": "green",
           "dash": "dash",
           "width": 1.5
          },
          "name": "Order",
          "type": "line",
          "x0": "2023-05-08",
          "x1": "2023-05-08",
          "xref": "x",
          "y0": 0,
          "y1": 1,
          "yref": "y domain"
         },
         {
          "line": {
           "color": "green",
           "dash": "dash",
           "width": 1.5
          },
          "name": "Order",
          "type": "line",
          "x0": "2023-05-11",
          "x1": "2023-05-11",
          "xref": "x",
          "y0": 0,
          "y1": 1,
          "yref": "y domain"
         },
         {
          "line": {
           "color": "green",
           "dash": "dash",
           "width": 1.5
          },
          "name": "Order",
          "type": "line",
          "x0": "2023-05-12",
          "x1": "2023-05-12",
          "xref": "x",
          "y0": 0,
          "y1": 1,
          "yref": "y domain"
         },
         {
          "line": {
           "color": "green",
           "dash": "dash",
           "width": 1.5
          },
          "name": "Order",
          "type": "line",
          "x0": "2023-05-23",
          "x1": "2023-05-23",
          "xref": "x",
          "y0": 0,
          "y1": 1,
          "yref": "y domain"
         },
         {
          "line": {
           "color": "green",
           "dash": "dash",
           "width": 1.5
          },
          "name": "Order",
          "type": "line",
          "x0": "2023-05-26",
          "x1": "2023-05-26",
          "xref": "x",
          "y0": 0,
          "y1": 1,
          "yref": "y domain"
         },
         {
          "line": {
           "color": "green",
           "dash": "dash",
           "width": 1.5
          },
          "name": "Order",
          "type": "line",
          "x0": "2023-05-31",
          "x1": "2023-05-31",
          "xref": "x",
          "y0": 0,
          "y1": 1,
          "yref": "y domain"
         },
         {
          "line": {
           "color": "green",
           "dash": "dash",
           "width": 1.5
          },
          "name": "Order",
          "type": "line",
          "x0": "2023-06-09",
          "x1": "2023-06-09",
          "xref": "x",
          "y0": 0,
          "y1": 1,
          "yref": "y domain"
         },
         {
          "line": {
           "color": "green",
           "dash": "dash",
           "width": 1.5
          },
          "name": "Order",
          "type": "line",
          "x0": "2023-06-14",
          "x1": "2023-06-14",
          "xref": "x",
          "y0": 0,
          "y1": 1,
          "yref": "y domain"
         },
         {
          "line": {
           "color": "green",
           "dash": "dash",
           "width": 1.5
          },
          "name": "Order",
          "type": "line",
          "x0": "2023-06-16",
          "x1": "2023-06-16",
          "xref": "x",
          "y0": 0,
          "y1": 1,
          "yref": "y domain"
         },
         {
          "line": {
           "color": "green",
           "dash": "dash",
           "width": 1.5
          },
          "name": "Order",
          "type": "line",
          "x0": "2023-06-26",
          "x1": "2023-06-26",
          "xref": "x",
          "y0": 0,
          "y1": 1,
          "yref": "y domain"
         },
         {
          "line": {
           "color": "green",
           "dash": "dash",
           "width": 1.5
          },
          "name": "Order",
          "type": "line",
          "x0": "2023-08-09",
          "x1": "2023-08-09",
          "xref": "x",
          "y0": 0,
          "y1": 1,
          "yref": "y domain"
         },
         {
          "line": {
           "color": "green",
           "dash": "dash",
           "width": 1.5
          },
          "name": "Order",
          "type": "line",
          "x0": "2023-08-19",
          "x1": "2023-08-19",
          "xref": "x",
          "y0": 0,
          "y1": 1,
          "yref": "y domain"
         },
         {
          "line": {
           "color": "green",
           "dash": "dash",
           "width": 1.5
          },
          "name": "Order",
          "type": "line",
          "x0": "2023-08-25",
          "x1": "2023-08-25",
          "xref": "x",
          "y0": 0,
          "y1": 1,
          "yref": "y domain"
         },
         {
          "line": {
           "color": "green",
           "dash": "dash",
           "width": 1.5
          },
          "name": "Order",
          "type": "line",
          "x0": "2023-08-31",
          "x1": "2023-08-31",
          "xref": "x",
          "y0": 0,
          "y1": 1,
          "yref": "y domain"
         },
         {
          "line": {
           "color": "green",
           "dash": "dash",
           "width": 1.5
          },
          "name": "Order",
          "type": "line",
          "x0": "2023-09-07",
          "x1": "2023-09-07",
          "xref": "x",
          "y0": 0,
          "y1": 1,
          "yref": "y domain"
         },
         {
          "line": {
           "color": "green",
           "dash": "dash",
           "width": 1.5
          },
          "name": "Order",
          "type": "line",
          "x0": "2023-09-13",
          "x1": "2023-09-13",
          "xref": "x",
          "y0": 0,
          "y1": 1,
          "yref": "y domain"
         },
         {
          "line": {
           "color": "green",
           "dash": "dash",
           "width": 1.5
          },
          "name": "Order",
          "type": "line",
          "x0": "2023-09-16",
          "x1": "2023-09-16",
          "xref": "x",
          "y0": 0,
          "y1": 1,
          "yref": "y domain"
         },
         {
          "line": {
           "color": "green",
           "dash": "dash",
           "width": 1.5
          },
          "name": "Order",
          "type": "line",
          "x0": "2023-09-19",
          "x1": "2023-09-19",
          "xref": "x",
          "y0": 0,
          "y1": 1,
          "yref": "y domain"
         },
         {
          "line": {
           "color": "green",
           "dash": "dash",
           "width": 1.5
          },
          "name": "Order",
          "type": "line",
          "x0": "2023-09-20",
          "x1": "2023-09-20",
          "xref": "x",
          "y0": 0,
          "y1": 1,
          "yref": "y domain"
         },
         {
          "line": {
           "color": "green",
           "dash": "dash",
           "width": 1.5
          },
          "name": "Order",
          "type": "line",
          "x0": "2023-09-21",
          "x1": "2023-09-21",
          "xref": "x",
          "y0": 0,
          "y1": 1,
          "yref": "y domain"
         },
         {
          "line": {
           "color": "green",
           "dash": "dash",
           "width": 1.5
          },
          "name": "Order",
          "type": "line",
          "x0": "2023-09-23",
          "x1": "2023-09-23",
          "xref": "x",
          "y0": 0,
          "y1": 1,
          "yref": "y domain"
         },
         {
          "line": {
           "color": "green",
           "dash": "dash",
           "width": 1.5
          },
          "name": "Order",
          "type": "line",
          "x0": "2023-09-26",
          "x1": "2023-09-26",
          "xref": "x",
          "y0": 0,
          "y1": 1,
          "yref": "y domain"
         },
         {
          "line": {
           "color": "green",
           "dash": "dash",
           "width": 1.5
          },
          "name": "Order",
          "type": "line",
          "x0": "2023-09-27",
          "x1": "2023-09-27",
          "xref": "x",
          "y0": 0,
          "y1": 1,
          "yref": "y domain"
         },
         {
          "line": {
           "color": "green",
           "dash": "dash",
           "width": 1.5
          },
          "name": "Order",
          "type": "line",
          "x0": "2023-09-28",
          "x1": "2023-09-28",
          "xref": "x",
          "y0": 0,
          "y1": 1,
          "yref": "y domain"
         },
         {
          "line": {
           "color": "green",
           "dash": "dash",
           "width": 1.5
          },
          "name": "Order",
          "type": "line",
          "x0": "2023-11-06",
          "x1": "2023-11-06",
          "xref": "x",
          "y0": 0,
          "y1": 1,
          "yref": "y domain"
         },
         {
          "line": {
           "color": "green",
           "dash": "dash",
           "width": 1.5
          },
          "name": "Order",
          "type": "line",
          "x0": "2023-12-09",
          "x1": "2023-12-09",
          "xref": "x",
          "y0": 0,
          "y1": 1,
          "yref": "y domain"
         },
         {
          "line": {
           "color": "green",
           "dash": "dash",
           "width": 1.5
          },
          "name": "Order",
          "type": "line",
          "x0": "2023-12-22",
          "x1": "2023-12-22",
          "xref": "x",
          "y0": 0,
          "y1": 1,
          "yref": "y domain"
         },
         {
          "line": {
           "color": "green",
           "dash": "dash",
           "width": 1.5
          },
          "name": "Order",
          "type": "line",
          "x0": "2023-12-29",
          "x1": "2023-12-29",
          "xref": "x",
          "y0": 0,
          "y1": 1,
          "yref": "y domain"
         }
        ],
        "showlegend": true,
        "template": {
         "data": {
          "bar": [
           {
            "error_x": {
             "color": "#2a3f5f"
            },
            "error_y": {
             "color": "#2a3f5f"
            },
            "marker": {
             "line": {
              "color": "#E5ECF6",
              "width": 0.5
             },
             "pattern": {
              "fillmode": "overlay",
              "size": 10,
              "solidity": 0.2
             }
            },
            "type": "bar"
           }
          ],
          "barpolar": [
           {
            "marker": {
             "line": {
              "color": "#E5ECF6",
              "width": 0.5
             },
             "pattern": {
              "fillmode": "overlay",
              "size": 10,
              "solidity": 0.2
             }
            },
            "type": "barpolar"
           }
          ],
          "carpet": [
           {
            "aaxis": {
             "endlinecolor": "#2a3f5f",
             "gridcolor": "white",
             "linecolor": "white",
             "minorgridcolor": "white",
             "startlinecolor": "#2a3f5f"
            },
            "baxis": {
             "endlinecolor": "#2a3f5f",
             "gridcolor": "white",
             "linecolor": "white",
             "minorgridcolor": "white",
             "startlinecolor": "#2a3f5f"
            },
            "type": "carpet"
           }
          ],
          "choropleth": [
           {
            "colorbar": {
             "outlinewidth": 0,
             "ticks": ""
            },
            "type": "choropleth"
           }
          ],
          "contour": [
           {
            "colorbar": {
             "outlinewidth": 0,
             "ticks": ""
            },
            "colorscale": [
             [
              0,
              "#0d0887"
             ],
             [
              0.1111111111111111,
              "#46039f"
             ],
             [
              0.2222222222222222,
              "#7201a8"
             ],
             [
              0.3333333333333333,
              "#9c179e"
             ],
             [
              0.4444444444444444,
              "#bd3786"
             ],
             [
              0.5555555555555556,
              "#d8576b"
             ],
             [
              0.6666666666666666,
              "#ed7953"
             ],
             [
              0.7777777777777778,
              "#fb9f3a"
             ],
             [
              0.8888888888888888,
              "#fdca26"
             ],
             [
              1,
              "#f0f921"
             ]
            ],
            "type": "contour"
           }
          ],
          "contourcarpet": [
           {
            "colorbar": {
             "outlinewidth": 0,
             "ticks": ""
            },
            "type": "contourcarpet"
           }
          ],
          "heatmap": [
           {
            "colorbar": {
             "outlinewidth": 0,
             "ticks": ""
            },
            "colorscale": [
             [
              0,
              "#0d0887"
             ],
             [
              0.1111111111111111,
              "#46039f"
             ],
             [
              0.2222222222222222,
              "#7201a8"
             ],
             [
              0.3333333333333333,
              "#9c179e"
             ],
             [
              0.4444444444444444,
              "#bd3786"
             ],
             [
              0.5555555555555556,
              "#d8576b"
             ],
             [
              0.6666666666666666,
              "#ed7953"
             ],
             [
              0.7777777777777778,
              "#fb9f3a"
             ],
             [
              0.8888888888888888,
              "#fdca26"
             ],
             [
              1,
              "#f0f921"
             ]
            ],
            "type": "heatmap"
           }
          ],
          "heatmapgl": [
           {
            "colorbar": {
             "outlinewidth": 0,
             "ticks": ""
            },
            "colorscale": [
             [
              0,
              "#0d0887"
             ],
             [
              0.1111111111111111,
              "#46039f"
             ],
             [
              0.2222222222222222,
              "#7201a8"
             ],
             [
              0.3333333333333333,
              "#9c179e"
             ],
             [
              0.4444444444444444,
              "#bd3786"
             ],
             [
              0.5555555555555556,
              "#d8576b"
             ],
             [
              0.6666666666666666,
              "#ed7953"
             ],
             [
              0.7777777777777778,
              "#fb9f3a"
             ],
             [
              0.8888888888888888,
              "#fdca26"
             ],
             [
              1,
              "#f0f921"
             ]
            ],
            "type": "heatmapgl"
           }
          ],
          "histogram": [
           {
            "marker": {
             "pattern": {
              "fillmode": "overlay",
              "size": 10,
              "solidity": 0.2
             }
            },
            "type": "histogram"
           }
          ],
          "histogram2d": [
           {
            "colorbar": {
             "outlinewidth": 0,
             "ticks": ""
            },
            "colorscale": [
             [
              0,
              "#0d0887"
             ],
             [
              0.1111111111111111,
              "#46039f"
             ],
             [
              0.2222222222222222,
              "#7201a8"
             ],
             [
              0.3333333333333333,
              "#9c179e"
             ],
             [
              0.4444444444444444,
              "#bd3786"
             ],
             [
              0.5555555555555556,
              "#d8576b"
             ],
             [
              0.6666666666666666,
              "#ed7953"
             ],
             [
              0.7777777777777778,
              "#fb9f3a"
             ],
             [
              0.8888888888888888,
              "#fdca26"
             ],
             [
              1,
              "#f0f921"
             ]
            ],
            "type": "histogram2d"
           }
          ],
          "histogram2dcontour": [
           {
            "colorbar": {
             "outlinewidth": 0,
             "ticks": ""
            },
            "colorscale": [
             [
              0,
              "#0d0887"
             ],
             [
              0.1111111111111111,
              "#46039f"
             ],
             [
              0.2222222222222222,
              "#7201a8"
             ],
             [
              0.3333333333333333,
              "#9c179e"
             ],
             [
              0.4444444444444444,
              "#bd3786"
             ],
             [
              0.5555555555555556,
              "#d8576b"
             ],
             [
              0.6666666666666666,
              "#ed7953"
             ],
             [
              0.7777777777777778,
              "#fb9f3a"
             ],
             [
              0.8888888888888888,
              "#fdca26"
             ],
             [
              1,
              "#f0f921"
             ]
            ],
            "type": "histogram2dcontour"
           }
          ],
          "mesh3d": [
           {
            "colorbar": {
             "outlinewidth": 0,
             "ticks": ""
            },
            "type": "mesh3d"
           }
          ],
          "parcoords": [
           {
            "line": {
             "colorbar": {
              "outlinewidth": 0,
              "ticks": ""
             }
            },
            "type": "parcoords"
           }
          ],
          "pie": [
           {
            "automargin": true,
            "type": "pie"
           }
          ],
          "scatter": [
           {
            "fillpattern": {
             "fillmode": "overlay",
             "size": 10,
             "solidity": 0.2
            },
            "type": "scatter"
           }
          ],
          "scatter3d": [
           {
            "line": {
             "colorbar": {
              "outlinewidth": 0,
              "ticks": ""
             }
            },
            "marker": {
             "colorbar": {
              "outlinewidth": 0,
              "ticks": ""
             }
            },
            "type": "scatter3d"
           }
          ],
          "scattercarpet": [
           {
            "marker": {
             "colorbar": {
              "outlinewidth": 0,
              "ticks": ""
             }
            },
            "type": "scattercarpet"
           }
          ],
          "scattergeo": [
           {
            "marker": {
             "colorbar": {
              "outlinewidth": 0,
              "ticks": ""
             }
            },
            "type": "scattergeo"
           }
          ],
          "scattergl": [
           {
            "marker": {
             "colorbar": {
              "outlinewidth": 0,
              "ticks": ""
             }
            },
            "type": "scattergl"
           }
          ],
          "scattermapbox": [
           {
            "marker": {
             "colorbar": {
              "outlinewidth": 0,
              "ticks": ""
             }
            },
            "type": "scattermapbox"
           }
          ],
          "scatterpolar": [
           {
            "marker": {
             "colorbar": {
              "outlinewidth": 0,
              "ticks": ""
             }
            },
            "type": "scatterpolar"
           }
          ],
          "scatterpolargl": [
           {
            "marker": {
             "colorbar": {
              "outlinewidth": 0,
              "ticks": ""
             }
            },
            "type": "scatterpolargl"
           }
          ],
          "scatterternary": [
           {
            "marker": {
             "colorbar": {
              "outlinewidth": 0,
              "ticks": ""
             }
            },
            "type": "scatterternary"
           }
          ],
          "surface": [
           {
            "colorbar": {
             "outlinewidth": 0,
             "ticks": ""
            },
            "colorscale": [
             [
              0,
              "#0d0887"
             ],
             [
              0.1111111111111111,
              "#46039f"
             ],
             [
              0.2222222222222222,
              "#7201a8"
             ],
             [
              0.3333333333333333,
              "#9c179e"
             ],
             [
              0.4444444444444444,
              "#bd3786"
             ],
             [
              0.5555555555555556,
              "#d8576b"
             ],
             [
              0.6666666666666666,
              "#ed7953"
             ],
             [
              0.7777777777777778,
              "#fb9f3a"
             ],
             [
              0.8888888888888888,
              "#fdca26"
             ],
             [
              1,
              "#f0f921"
             ]
            ],
            "type": "surface"
           }
          ],
          "table": [
           {
            "cells": {
             "fill": {
              "color": "#EBF0F8"
             },
             "line": {
              "color": "white"
             }
            },
            "header": {
             "fill": {
              "color": "#C8D4E3"
             },
             "line": {
              "color": "white"
             }
            },
            "type": "table"
           }
          ]
         },
         "layout": {
          "annotationdefaults": {
           "arrowcolor": "#2a3f5f",
           "arrowhead": 0,
           "arrowwidth": 1
          },
          "autotypenumbers": "strict",
          "coloraxis": {
           "colorbar": {
            "outlinewidth": 0,
            "ticks": ""
           }
          },
          "colorscale": {
           "diverging": [
            [
             0,
             "#8e0152"
            ],
            [
             0.1,
             "#c51b7d"
            ],
            [
             0.2,
             "#de77ae"
            ],
            [
             0.3,
             "#f1b6da"
            ],
            [
             0.4,
             "#fde0ef"
            ],
            [
             0.5,
             "#f7f7f7"
            ],
            [
             0.6,
             "#e6f5d0"
            ],
            [
             0.7,
             "#b8e186"
            ],
            [
             0.8,
             "#7fbc41"
            ],
            [
             0.9,
             "#4d9221"
            ],
            [
             1,
             "#276419"
            ]
           ],
           "sequential": [
            [
             0,
             "#0d0887"
            ],
            [
             0.1111111111111111,
             "#46039f"
            ],
            [
             0.2222222222222222,
             "#7201a8"
            ],
            [
             0.3333333333333333,
             "#9c179e"
            ],
            [
             0.4444444444444444,
             "#bd3786"
            ],
            [
             0.5555555555555556,
             "#d8576b"
            ],
            [
             0.6666666666666666,
             "#ed7953"
            ],
            [
             0.7777777777777778,
             "#fb9f3a"
            ],
            [
             0.8888888888888888,
             "#fdca26"
            ],
            [
             1,
             "#f0f921"
            ]
           ],
           "sequentialminus": [
            [
             0,
             "#0d0887"
            ],
            [
             0.1111111111111111,
             "#46039f"
            ],
            [
             0.2222222222222222,
             "#7201a8"
            ],
            [
             0.3333333333333333,
             "#9c179e"
            ],
            [
             0.4444444444444444,
             "#bd3786"
            ],
            [
             0.5555555555555556,
             "#d8576b"
            ],
            [
             0.6666666666666666,
             "#ed7953"
            ],
            [
             0.7777777777777778,
             "#fb9f3a"
            ],
            [
             0.8888888888888888,
             "#fdca26"
            ],
            [
             1,
             "#f0f921"
            ]
           ]
          },
          "colorway": [
           "#636efa",
           "#EF553B",
           "#00cc96",
           "#ab63fa",
           "#FFA15A",
           "#19d3f3",
           "#FF6692",
           "#B6E880",
           "#FF97FF",
           "#FECB52"
          ],
          "font": {
           "color": "#2a3f5f"
          },
          "geo": {
           "bgcolor": "white",
           "lakecolor": "white",
           "landcolor": "#E5ECF6",
           "showlakes": true,
           "showland": true,
           "subunitcolor": "white"
          },
          "hoverlabel": {
           "align": "left"
          },
          "hovermode": "closest",
          "mapbox": {
           "style": "light"
          },
          "paper_bgcolor": "white",
          "plot_bgcolor": "#E5ECF6",
          "polar": {
           "angularaxis": {
            "gridcolor": "white",
            "linecolor": "white",
            "ticks": ""
           },
           "bgcolor": "#E5ECF6",
           "radialaxis": {
            "gridcolor": "white",
            "linecolor": "white",
            "ticks": ""
           }
          },
          "scene": {
           "xaxis": {
            "backgroundcolor": "#E5ECF6",
            "gridcolor": "white",
            "gridwidth": 2,
            "linecolor": "white",
            "showbackground": true,
            "ticks": "",
            "zerolinecolor": "white"
           },
           "yaxis": {
            "backgroundcolor": "#E5ECF6",
            "gridcolor": "white",
            "gridwidth": 2,
            "linecolor": "white",
            "showbackground": true,
            "ticks": "",
            "zerolinecolor": "white"
           },
           "zaxis": {
            "backgroundcolor": "#E5ECF6",
            "gridcolor": "white",
            "gridwidth": 2,
            "linecolor": "white",
            "showbackground": true,
            "ticks": "",
            "zerolinecolor": "white"
           }
          },
          "shapedefaults": {
           "line": {
            "color": "#2a3f5f"
           }
          },
          "ternary": {
           "aaxis": {
            "gridcolor": "white",
            "linecolor": "white",
            "ticks": ""
           },
           "baxis": {
            "gridcolor": "white",
            "linecolor": "white",
            "ticks": ""
           },
           "bgcolor": "#E5ECF6",
           "caxis": {
            "gridcolor": "white",
            "linecolor": "white",
            "ticks": ""
           }
          },
          "title": {
           "x": 0.05
          },
          "xaxis": {
           "automargin": true,
           "gridcolor": "white",
           "linecolor": "white",
           "ticks": "",
           "title": {
            "standoff": 15
           },
           "zerolinecolor": "white",
           "zerolinewidth": 2
          },
          "yaxis": {
           "automargin": true,
           "gridcolor": "white",
           "linecolor": "white",
           "ticks": "",
           "title": {
            "standoff": 15
           },
           "zerolinecolor": "white",
           "zerolinewidth": 2
          }
         }
        },
        "title": {
         "font": {
          "color": "blue",
          "size": 20
         },
         "text": "Bio Ananasy i Papryki Magazyn - Jabłka",
         "x": 0.5
        },
        "width": 1500,
        "xaxis": {
         "range": [
          "2023-04-18",
          "2023-12-29"
         ],
         "rangeselector": {
          "buttons": [
           {
            "step": "all"
           },
           {
            "count": 1,
            "label": "1m",
            "step": "month",
            "stepmode": "backward"
           },
           {
            "count": 3,
            "label": "3m",
            "step": "month",
            "stepmode": "backward"
           },
           {
            "count": 6,
            "label": "6m",
            "step": "month",
            "stepmode": "backward"
           },
           {
            "count": 1,
            "label": "1y",
            "step": "year",
            "stepmode": "backward"
           }
          ]
         },
         "rangeslider": {
          "thickness": 0.2,
          "visible": true
         },
         "type": "date"
        }
       }
      }
     },
     "metadata": {},
     "output_type": "display_data"
    }
   ],
   "source": [
    "fig = go.Figure()\n",
    "dystrybutor = 'Bio Ananasy i Papryki Magazyn'\n",
    "towar = 'Jabłka'\n",
    "\n",
    "k = df.loc[(df['Dystrybutor']==dystrybutor) & (df['Towar']==towar)]\n",
    "min_date_plot, max_date_plot = k['Data'].min(), k['Data'].max()\n",
    "\n",
    "fig.add_trace(go.Scatter(x = k['Data'], y = k['Quantity'], name=\"Quantity\"))\n",
    "\n",
    "for i in k.loc[(k['Quantity']>0)]['Data'].unique():\n",
    "    fig.add_vline(x=i,line_width=1.5, line_dash=\"dash\", line_color=\"green\", name=\"Order\")\n",
    "                \n",
    "fig.update_layout(title_text=\"{} - {}\".format(dystrybutor, towar), title_x=0.5, title_font_color=\"blue\", title_font_size=20,\n",
    "                              legend_title=\"\", xaxis=dict(rangeselector=dict(buttons=list([dict(step=\"all\"), \n",
    "                                                                dict(count=1, label=\"1m\", step=\"month\", stepmode=\"backward\"),\n",
    "                                                                dict(count=3, label=\"3m\", step=\"month\", stepmode=\"backward\"),\n",
    "                                                                dict(count=6, label=\"6m\", step=\"month\", stepmode=\"backward\"),\n",
    "                                                                dict(count=1, label=\"1y\", step=\"year\", stepmode=\"backward\")\n",
    "                                                                ])), \n",
    "                        rangeslider=dict(visible=True), type=\"date\", range = [min_date_plot, max_date_plot]))\n",
    "    \n",
    "fig.update_xaxes(rangeslider_thickness = 0.2)\n",
    "fig.update_layout(autosize=False, width=1500, height=400,)\n",
    "fig.update_layout(showlegend=True)\n",
    "fig.show()"
   ]
  },
  {
   "cell_type": "code",
   "execution_count": 5,
   "id": "29965588-1b6a-4019-859f-a3a057c1bb27",
   "metadata": {
    "tags": []
   },
   "outputs": [],
   "source": [
    "import lifetimes\n",
    "from lifetimes import BetaGeoFitter\n",
    "from lifetimes import GammaGammaFitter, ParetoNBDFitter, ModifiedBetaGeoFitter"
   ]
  },
  {
   "cell_type": "code",
   "execution_count": 6,
   "id": "7e922fbc-5f10-430e-b101-e41f452b3fa0",
   "metadata": {
    "tags": []
   },
   "outputs": [],
   "source": [
    "def clv_week(df, start_date, clv_horizons = [3], level=['Dystrybutor']):\n",
    "    \n",
    "    min_date = pd.to_datetime(df['Data'].min())\n",
    "    max_date = pd.to_datetime(df['Data'].max())\n",
    "    df['Data'] = pd.to_datetime(df['Data'])\n",
    "    \n",
    "    clv_all = pd.DataFrame()\n",
    "    date_range = pd.date_range(start = start_date, end = max_date, freq=\"W-MON\") \n",
    "    # print(date_range)\n",
    "    \n",
    "    for date in date_range:\n",
    "        df_clv = df.loc[(df['Data']<=date)] \n",
    "        \n",
    "        if 'Towar' in level: \n",
    "            df_clv['Dystrybutor_Towar'] = df_clv['Dystrybutor'] + '$' + df_clv['Towar']\n",
    "        else: \n",
    "            df_clv['Dystrybutor_Towar'] = df_clv['Dystrybutor']\n",
    "        \n",
    "        clv = lifetimes.utils.summary_data_from_transaction_data(df_clv, 'Dystrybutor_Towar', 'Data', 'Quantity')\n",
    "        clv = clv.loc[clv['monetary_value']>0]\n",
    "        \n",
    "        bg_fitter = BetaGeoFitter(penalizer_coef=0.01)\n",
    "        bg_fitter.fit(clv['frequency'], clv['recency'], clv['T'])\n",
    "        \n",
    "        pareto_fitter = ParetoNBDFitter(penalizer_coef = 0.01)\n",
    "        pareto_fitter.fit(clv[\"frequency\"], clv[\"recency\"], clv[\"T\"])\n",
    "        \n",
    "        ggf = GammaGammaFitter(penalizer_coef=0.01)\n",
    "        ggf.fit(clv[\"frequency\"], clv[\"monetary_value\"])\n",
    "        \n",
    "        clv['Data'] = date\n",
    "        clv['p_alive'] = bg_fitter.conditional_probability_alive(clv[\"frequency\"], clv[\"recency\"], clv[\"T\"]).round(3)\n",
    "        \n",
    "        for clv_horizon in clv_horizons:\n",
    "            clv['Exp_Orders_'+str(clv_horizon)+'M'] = bg_fitter.conditional_expected_number_of_purchases_up_to_time(clv_horizon*30, clv['frequency'].values, clv['recency'], clv['T']).round(3)            \n",
    "            clv['CLV_'+str(clv_horizon)+'M'] = ggf.customer_lifetime_value(bg_fitter, clv[\"frequency\"], clv[\"recency\"], clv[\"T\"], clv[\"monetary_value\"],\n",
    "                                                                                         time = clv_horizon, freq = 'D', discount_rate=0)\n",
    "            \n",
    "        clv.drop(columns = ['frequency', 'recency', 'T'], errors='ignore', inplace=True)\n",
    "        \n",
    "        if date==date_range[0]:\n",
    "            clv_all = clv.copy()\n",
    "        else: \n",
    "            clv_all = pd.concat([clv_all, clv], axis=0)\n",
    "    \n",
    "    clv_all = clv_all.reset_index()\n",
    "    \n",
    "    if 'Towar' in level:\n",
    "        clv_all['Dystrybutor'] = clv_all['Dystrybutor_Towar'].str.split('$').str[0]\n",
    "        clv_all['Towar'] = clv_all['Dystrybutor_Towar'].str.split('$').str[1]\n",
    "        clv_all.drop(columns=['Dystrybutor_Towar'], inplace=True)\n",
    "        clv_all = clv_all[['Dystrybutor', 'Towar', 'Data', 'p_alive', 'monetary_value'] + clv_all.filter(regex='Exp|CLV|Sales').columns.tolist()] \n",
    "    else:\n",
    "        clv_all.rename(columns = {'Dystrybutor_Towar':'Dystrybutor'}, inplace=True)\n",
    "    \n",
    "    return clv_all"
   ]
  },
  {
   "cell_type": "code",
   "execution_count": 7,
   "id": "ae7ea4a1-705e-4aa6-98f7-d6f5a10d8ee9",
   "metadata": {
    "tags": []
   },
   "outputs": [],
   "source": [
    "clv_warzywa = clv_week(df = df, start_date = '2022-01-15', clv_horizons = [3], level=['Dystrybutor', 'Towar'])"
   ]
  },
  {
   "cell_type": "code",
   "execution_count": 8,
   "id": "1afac194-979a-4ab8-b6af-3f74814bb5a9",
   "metadata": {
    "tags": []
   },
   "outputs": [
    {
     "data": {
      "text/html": [
       "<div>\n",
       "<style scoped>\n",
       "    .dataframe tbody tr th:only-of-type {\n",
       "        vertical-align: middle;\n",
       "    }\n",
       "\n",
       "    .dataframe tbody tr th {\n",
       "        vertical-align: top;\n",
       "    }\n",
       "\n",
       "    .dataframe thead th {\n",
       "        text-align: right;\n",
       "    }\n",
       "</style>\n",
       "<table border=\"1\" class=\"dataframe\">\n",
       "  <thead>\n",
       "    <tr style=\"text-align: right;\">\n",
       "      <th></th>\n",
       "      <th>Dystrybutor</th>\n",
       "      <th>Towar</th>\n",
       "      <th>Data</th>\n",
       "      <th>p_alive</th>\n",
       "      <th>monetary_value</th>\n",
       "      <th>Exp_Orders_3M</th>\n",
       "      <th>CLV_3M</th>\n",
       "    </tr>\n",
       "  </thead>\n",
       "  <tbody>\n",
       "    <tr>\n",
       "      <th>32646</th>\n",
       "      <td>Bio Ananasy i Brokuły Dystrybutor</td>\n",
       "      <td>Pomidory malinowe</td>\n",
       "      <td>2022-09-26</td>\n",
       "      <td>0.912</td>\n",
       "      <td>73.900000</td>\n",
       "      <td>1.868</td>\n",
       "      <td>156.712878</td>\n",
       "    </tr>\n",
       "    <tr>\n",
       "      <th>34082</th>\n",
       "      <td>Bio Ananasy i Brokuły Dystrybutor</td>\n",
       "      <td>Pomidory malinowe</td>\n",
       "      <td>2022-10-03</td>\n",
       "      <td>0.898</td>\n",
       "      <td>73.900000</td>\n",
       "      <td>1.740</td>\n",
       "      <td>145.910578</td>\n",
       "    </tr>\n",
       "    <tr>\n",
       "      <th>35524</th>\n",
       "      <td>Bio Ananasy i Brokuły Dystrybutor</td>\n",
       "      <td>Pomidory malinowe</td>\n",
       "      <td>2022-10-10</td>\n",
       "      <td>0.879</td>\n",
       "      <td>73.900000</td>\n",
       "      <td>1.609</td>\n",
       "      <td>135.016845</td>\n",
       "    </tr>\n",
       "    <tr>\n",
       "      <th>36983</th>\n",
       "      <td>Bio Ananasy i Brokuły Dystrybutor</td>\n",
       "      <td>Pomidory malinowe</td>\n",
       "      <td>2022-10-17</td>\n",
       "      <td>0.867</td>\n",
       "      <td>73.900000</td>\n",
       "      <td>1.508</td>\n",
       "      <td>126.497649</td>\n",
       "    </tr>\n",
       "    <tr>\n",
       "      <th>38463</th>\n",
       "      <td>Bio Ananasy i Brokuły Dystrybutor</td>\n",
       "      <td>Pomidory malinowe</td>\n",
       "      <td>2022-10-24</td>\n",
       "      <td>0.850</td>\n",
       "      <td>73.900000</td>\n",
       "      <td>1.405</td>\n",
       "      <td>117.787674</td>\n",
       "    </tr>\n",
       "    <tr>\n",
       "      <th>...</th>\n",
       "      <td>...</td>\n",
       "      <td>...</td>\n",
       "      <td>...</td>\n",
       "      <td>...</td>\n",
       "      <td>...</td>\n",
       "      <td>...</td>\n",
       "      <td>...</td>\n",
       "    </tr>\n",
       "    <tr>\n",
       "      <th>142071</th>\n",
       "      <td>Świeże Wiśnie i Warzywa Hurtownia</td>\n",
       "      <td>Ziemniaki</td>\n",
       "      <td>2023-11-27</td>\n",
       "      <td>0.994</td>\n",
       "      <td>60.607895</td>\n",
       "      <td>4.907</td>\n",
       "      <td>298.467170</td>\n",
       "    </tr>\n",
       "    <tr>\n",
       "      <th>144150</th>\n",
       "      <td>Świeże Wiśnie i Warzywa Hurtownia</td>\n",
       "      <td>Ziemniaki</td>\n",
       "      <td>2023-12-04</td>\n",
       "      <td>0.991</td>\n",
       "      <td>60.607895</td>\n",
       "      <td>4.843</td>\n",
       "      <td>294.546224</td>\n",
       "    </tr>\n",
       "    <tr>\n",
       "      <th>146232</th>\n",
       "      <td>Świeże Wiśnie i Warzywa Hurtownia</td>\n",
       "      <td>Ziemniaki</td>\n",
       "      <td>2023-12-11</td>\n",
       "      <td>0.987</td>\n",
       "      <td>60.607895</td>\n",
       "      <td>4.771</td>\n",
       "      <td>290.185735</td>\n",
       "    </tr>\n",
       "    <tr>\n",
       "      <th>148318</th>\n",
       "      <td>Świeże Wiśnie i Warzywa Hurtownia</td>\n",
       "      <td>Ziemniaki</td>\n",
       "      <td>2023-12-18</td>\n",
       "      <td>0.980</td>\n",
       "      <td>60.607895</td>\n",
       "      <td>4.692</td>\n",
       "      <td>285.385912</td>\n",
       "    </tr>\n",
       "    <tr>\n",
       "      <th>150408</th>\n",
       "      <td>Świeże Wiśnie i Warzywa Hurtownia</td>\n",
       "      <td>Ziemniaki</td>\n",
       "      <td>2023-12-25</td>\n",
       "      <td>0.996</td>\n",
       "      <td>60.069231</td>\n",
       "      <td>4.855</td>\n",
       "      <td>292.648728</td>\n",
       "    </tr>\n",
       "  </tbody>\n",
       "</table>\n",
       "<p>150409 rows × 7 columns</p>\n",
       "</div>"
      ],
      "text/plain": [
       "                              Dystrybutor              Towar       Data  \\\n",
       "32646   Bio Ananasy i Brokuły Dystrybutor  Pomidory malinowe 2022-09-26   \n",
       "34082   Bio Ananasy i Brokuły Dystrybutor  Pomidory malinowe 2022-10-03   \n",
       "35524   Bio Ananasy i Brokuły Dystrybutor  Pomidory malinowe 2022-10-10   \n",
       "36983   Bio Ananasy i Brokuły Dystrybutor  Pomidory malinowe 2022-10-17   \n",
       "38463   Bio Ananasy i Brokuły Dystrybutor  Pomidory malinowe 2022-10-24   \n",
       "...                                   ...                ...        ...   \n",
       "142071  Świeże Wiśnie i Warzywa Hurtownia          Ziemniaki 2023-11-27   \n",
       "144150  Świeże Wiśnie i Warzywa Hurtownia          Ziemniaki 2023-12-04   \n",
       "146232  Świeże Wiśnie i Warzywa Hurtownia          Ziemniaki 2023-12-11   \n",
       "148318  Świeże Wiśnie i Warzywa Hurtownia          Ziemniaki 2023-12-18   \n",
       "150408  Świeże Wiśnie i Warzywa Hurtownia          Ziemniaki 2023-12-25   \n",
       "\n",
       "        p_alive  monetary_value  Exp_Orders_3M      CLV_3M  \n",
       "32646     0.912       73.900000          1.868  156.712878  \n",
       "34082     0.898       73.900000          1.740  145.910578  \n",
       "35524     0.879       73.900000          1.609  135.016845  \n",
       "36983     0.867       73.900000          1.508  126.497649  \n",
       "38463     0.850       73.900000          1.405  117.787674  \n",
       "...         ...             ...            ...         ...  \n",
       "142071    0.994       60.607895          4.907  298.467170  \n",
       "144150    0.991       60.607895          4.843  294.546224  \n",
       "146232    0.987       60.607895          4.771  290.185735  \n",
       "148318    0.980       60.607895          4.692  285.385912  \n",
       "150408    0.996       60.069231          4.855  292.648728  \n",
       "\n",
       "[150409 rows x 7 columns]"
      ]
     },
     "execution_count": 8,
     "metadata": {},
     "output_type": "execute_result"
    }
   ],
   "source": [
    "clv_warzywa.sort_values(['Dystrybutor','Towar','Data'])"
   ]
  },
  {
   "cell_type": "code",
   "execution_count": 10,
   "id": "31858a81-4f38-4cae-b9e8-9234df2e79e4",
   "metadata": {
    "tags": []
   },
   "outputs": [
    {
     "data": {
      "application/vnd.plotly.v1+json": {
       "config": {
        "plotlyServerURL": "https://plot.ly"
       },
       "data": [
        {
         "line": {
          "color": "darkblue",
          "dash": "solid",
          "shape": "linear"
         },
         "name": "CLV_3M",
         "type": "scatter",
         "x": [
          "2022-01-31T00:00:00",
          "2022-02-07T00:00:00",
          "2022-02-14T00:00:00",
          "2022-02-21T00:00:00",
          "2022-02-28T00:00:00",
          "2022-03-07T00:00:00",
          "2022-03-14T00:00:00",
          "2022-03-21T00:00:00",
          "2022-03-28T00:00:00",
          "2022-04-04T00:00:00",
          "2022-04-11T00:00:00",
          "2022-04-18T00:00:00",
          "2022-04-25T00:00:00",
          "2022-05-02T00:00:00",
          "2022-05-09T00:00:00",
          "2022-05-16T00:00:00",
          "2022-05-23T00:00:00",
          "2022-05-30T00:00:00",
          "2022-06-06T00:00:00",
          "2022-06-13T00:00:00",
          "2022-06-20T00:00:00",
          "2022-06-27T00:00:00",
          "2022-07-04T00:00:00",
          "2022-07-11T00:00:00",
          "2022-07-18T00:00:00",
          "2022-07-25T00:00:00",
          "2022-08-01T00:00:00",
          "2022-08-08T00:00:00",
          "2022-08-15T00:00:00",
          "2022-08-22T00:00:00",
          "2022-08-29T00:00:00",
          "2022-09-05T00:00:00",
          "2022-09-12T00:00:00",
          "2022-09-19T00:00:00",
          "2022-09-26T00:00:00",
          "2022-10-03T00:00:00",
          "2022-10-10T00:00:00",
          "2022-10-17T00:00:00",
          "2022-10-24T00:00:00",
          "2022-10-31T00:00:00",
          "2022-11-07T00:00:00",
          "2022-11-14T00:00:00",
          "2022-11-21T00:00:00",
          "2022-11-28T00:00:00",
          "2022-12-05T00:00:00",
          "2022-12-12T00:00:00",
          "2022-12-19T00:00:00",
          "2022-12-26T00:00:00",
          "2023-01-02T00:00:00",
          "2023-01-09T00:00:00",
          "2023-01-16T00:00:00",
          "2023-01-23T00:00:00",
          "2023-01-30T00:00:00",
          "2023-02-06T00:00:00",
          "2023-02-13T00:00:00",
          "2023-02-20T00:00:00",
          "2023-02-27T00:00:00",
          "2023-03-06T00:00:00",
          "2023-03-13T00:00:00",
          "2023-03-20T00:00:00",
          "2023-03-27T00:00:00",
          "2023-04-03T00:00:00",
          "2023-04-10T00:00:00",
          "2023-04-17T00:00:00",
          "2023-04-24T00:00:00",
          "2023-05-01T00:00:00",
          "2023-05-08T00:00:00",
          "2023-05-15T00:00:00",
          "2023-05-22T00:00:00",
          "2023-05-29T00:00:00",
          "2023-06-05T00:00:00",
          "2023-06-12T00:00:00",
          "2023-06-19T00:00:00",
          "2023-06-26T00:00:00",
          "2023-07-03T00:00:00",
          "2023-07-10T00:00:00",
          "2023-07-17T00:00:00",
          "2023-07-24T00:00:00",
          "2023-07-31T00:00:00",
          "2023-08-07T00:00:00",
          "2023-08-14T00:00:00",
          "2023-08-21T00:00:00",
          "2023-08-28T00:00:00",
          "2023-09-04T00:00:00",
          "2023-09-11T00:00:00",
          "2023-09-18T00:00:00",
          "2023-09-25T00:00:00",
          "2023-10-02T00:00:00",
          "2023-10-09T00:00:00",
          "2023-10-16T00:00:00",
          "2023-10-23T00:00:00",
          "2023-10-30T00:00:00",
          "2023-11-06T00:00:00",
          "2023-11-13T00:00:00",
          "2023-11-20T00:00:00",
          "2023-11-27T00:00:00",
          "2023-12-04T00:00:00",
          "2023-12-11T00:00:00",
          "2023-12-18T00:00:00",
          "2023-12-25T00:00:00"
         ],
         "y": [
          678.04133817286,
          1172.0614376970905,
          1578.4483621452825,
          527.6576617016879,
          117.29161110331066,
          37.70988541116688,
          17.127931633218104,
          10.436678864488705,
          10.268469471680689,
          9.740654045062694,
          7.9265041852840135,
          8.50051451821402,
          6.395494653742521,
          6.051431163743484,
          6.388722717806592,
          5.817794682572927,
          5.364026093770826,
          5.629505999442777,
          6.62797721767045,
          5.277313710479699,
          4.9561588392511,
          4.6422795399882935,
          4.4864476367538,
          4.1236098027405665,
          3.203590299129494,
          2.2702595201702227,
          1.5840590426472074,
          1.073676007669522,
          0.8472819597508345,
          0.4983125096971614,
          0.34924435520829933,
          0.23678533328301626,
          0.17921823265392248,
          0.13218758400477532,
          0.09145932683198105,
          0.0766995598165787,
          0.05468072112138174,
          0.04783502957860823,
          0.0369800601277764,
          0.028419285251961544,
          0.021580565863846563,
          0.0163194642216074,
          0.01311844163070549,
          0.010228039019827969,
          0.008075175398633935,
          0.006350522668502679,
          0.004882916799932178,
          0.004218185547280856,
          0.0028388218877331783,
          0.002287770919072006,
          0.0019901799169661843,
          0.0018474127162338106,
          0.0017579032157080247,
          0.0017389468570142895,
          0.001747027863011626,
          0.001575680362061385,
          0.0013288132938381954,
          0.0011655237423957615,
          0.0009730808580023307,
          0.0008100607498460514,
          0.0007315143009117247,
          0.0006272801994615325,
          0.0005460074796789978,
          0.00047343149319685685,
          0.00040728431181720227,
          0.00038009808393767695,
          0.00033669400662342464,
          0.0002899816137725886,
          0.0002648295585770247,
          0.00023887514105732185,
          0.00020948961244275345,
          0.00018447514337424867,
          0.0001622771399330265,
          0.00014035937709630728,
          0.0001250053856010763,
          0.00010692212212774346,
          0.00009393056898656985,
          0.00008281788663174532,
          0.00007511628606789175,
          0.00006618340413793271,
          0.00005843462769782875,
          0.00005195817593098457,
          0.00004540498260037541,
          0.00003939420856385764,
          0.00003585877239011171,
          0.0000325283808174978,
          0.000027576357945359505,
          0.000024472518377248033,
          0.000021616389913943114,
          0.000019799120423720042,
          0.000017714470906366615,
          0.000015745102630290787,
          0.000014323942842776974,
          0.000013150411049073144,
          0.000011975576317631914,
          0.00001102183140404784,
          0.000009898270224438302,
          0.000009001509321712725,
          0.000008004416018078024,
          0.000007312834725998474
         ]
        }
       ],
       "layout": {
        "autosize": false,
        "height": 400,
        "legend": {
         "title": {
          "text": ""
         }
        },
        "shapes": [
         {
          "line": {
           "color": "green",
           "dash": "dash",
           "width": 1.5
          },
          "name": "Order",
          "type": "line",
          "x0": "2022-01-27T00:00:00",
          "x1": "2022-01-27T00:00:00",
          "xref": "x",
          "y0": 0,
          "y1": 1,
          "yref": "y domain"
         },
         {
          "line": {
           "color": "green",
           "dash": "dash",
           "width": 1.5
          },
          "name": "Order",
          "type": "line",
          "x0": "2022-01-28T00:00:00",
          "x1": "2022-01-28T00:00:00",
          "xref": "x",
          "y0": 0,
          "y1": 1,
          "yref": "y domain"
         },
         {
          "line": {
           "color": "green",
           "dash": "dash",
           "width": 1.5
          },
          "name": "Order",
          "type": "line",
          "x0": "2022-02-02T00:00:00",
          "x1": "2022-02-02T00:00:00",
          "xref": "x",
          "y0": 0,
          "y1": 1,
          "yref": "y domain"
         },
         {
          "line": {
           "color": "green",
           "dash": "dash",
           "width": 1.5
          },
          "name": "Order",
          "type": "line",
          "x0": "2022-02-03T00:00:00",
          "x1": "2022-02-03T00:00:00",
          "xref": "x",
          "y0": 0,
          "y1": 1,
          "yref": "y domain"
         },
         {
          "line": {
           "color": "green",
           "dash": "dash",
           "width": 1.5
          },
          "name": "Order",
          "type": "line",
          "x0": "2022-02-08T00:00:00",
          "x1": "2022-02-08T00:00:00",
          "xref": "x",
          "y0": 0,
          "y1": 1,
          "yref": "y domain"
         },
         {
          "line": {
           "color": "green",
           "dash": "dash",
           "width": 1.5
          },
          "name": "Order",
          "type": "line",
          "x0": "2022-02-09T00:00:00",
          "x1": "2022-02-09T00:00:00",
          "xref": "x",
          "y0": 0,
          "y1": 1,
          "yref": "y domain"
         },
         {
          "line": {
           "color": "green",
           "dash": "dash",
           "width": 1.5
          },
          "name": "Order",
          "type": "line",
          "x0": "2022-02-10T00:00:00",
          "x1": "2022-02-10T00:00:00",
          "xref": "x",
          "y0": 0,
          "y1": 1,
          "yref": "y domain"
         },
         {
          "line": {
           "color": "green",
           "dash": "dash",
           "width": 1.5
          },
          "name": "Order",
          "type": "line",
          "x0": "2022-02-11T00:00:00",
          "x1": "2022-02-11T00:00:00",
          "xref": "x",
          "y0": 0,
          "y1": 1,
          "yref": "y domain"
         }
        ],
        "showlegend": true,
        "template": {
         "data": {
          "bar": [
           {
            "error_x": {
             "color": "#2a3f5f"
            },
            "error_y": {
             "color": "#2a3f5f"
            },
            "marker": {
             "line": {
              "color": "#E5ECF6",
              "width": 0.5
             },
             "pattern": {
              "fillmode": "overlay",
              "size": 10,
              "solidity": 0.2
             }
            },
            "type": "bar"
           }
          ],
          "barpolar": [
           {
            "marker": {
             "line": {
              "color": "#E5ECF6",
              "width": 0.5
             },
             "pattern": {
              "fillmode": "overlay",
              "size": 10,
              "solidity": 0.2
             }
            },
            "type": "barpolar"
           }
          ],
          "carpet": [
           {
            "aaxis": {
             "endlinecolor": "#2a3f5f",
             "gridcolor": "white",
             "linecolor": "white",
             "minorgridcolor": "white",
             "startlinecolor": "#2a3f5f"
            },
            "baxis": {
             "endlinecolor": "#2a3f5f",
             "gridcolor": "white",
             "linecolor": "white",
             "minorgridcolor": "white",
             "startlinecolor": "#2a3f5f"
            },
            "type": "carpet"
           }
          ],
          "choropleth": [
           {
            "colorbar": {
             "outlinewidth": 0,
             "ticks": ""
            },
            "type": "choropleth"
           }
          ],
          "contour": [
           {
            "colorbar": {
             "outlinewidth": 0,
             "ticks": ""
            },
            "colorscale": [
             [
              0,
              "#0d0887"
             ],
             [
              0.1111111111111111,
              "#46039f"
             ],
             [
              0.2222222222222222,
              "#7201a8"
             ],
             [
              0.3333333333333333,
              "#9c179e"
             ],
             [
              0.4444444444444444,
              "#bd3786"
             ],
             [
              0.5555555555555556,
              "#d8576b"
             ],
             [
              0.6666666666666666,
              "#ed7953"
             ],
             [
              0.7777777777777778,
              "#fb9f3a"
             ],
             [
              0.8888888888888888,
              "#fdca26"
             ],
             [
              1,
              "#f0f921"
             ]
            ],
            "type": "contour"
           }
          ],
          "contourcarpet": [
           {
            "colorbar": {
             "outlinewidth": 0,
             "ticks": ""
            },
            "type": "contourcarpet"
           }
          ],
          "heatmap": [
           {
            "colorbar": {
             "outlinewidth": 0,
             "ticks": ""
            },
            "colorscale": [
             [
              0,
              "#0d0887"
             ],
             [
              0.1111111111111111,
              "#46039f"
             ],
             [
              0.2222222222222222,
              "#7201a8"
             ],
             [
              0.3333333333333333,
              "#9c179e"
             ],
             [
              0.4444444444444444,
              "#bd3786"
             ],
             [
              0.5555555555555556,
              "#d8576b"
             ],
             [
              0.6666666666666666,
              "#ed7953"
             ],
             [
              0.7777777777777778,
              "#fb9f3a"
             ],
             [
              0.8888888888888888,
              "#fdca26"
             ],
             [
              1,
              "#f0f921"
             ]
            ],
            "type": "heatmap"
           }
          ],
          "heatmapgl": [
           {
            "colorbar": {
             "outlinewidth": 0,
             "ticks": ""
            },
            "colorscale": [
             [
              0,
              "#0d0887"
             ],
             [
              0.1111111111111111,
              "#46039f"
             ],
             [
              0.2222222222222222,
              "#7201a8"
             ],
             [
              0.3333333333333333,
              "#9c179e"
             ],
             [
              0.4444444444444444,
              "#bd3786"
             ],
             [
              0.5555555555555556,
              "#d8576b"
             ],
             [
              0.6666666666666666,
              "#ed7953"
             ],
             [
              0.7777777777777778,
              "#fb9f3a"
             ],
             [
              0.8888888888888888,
              "#fdca26"
             ],
             [
              1,
              "#f0f921"
             ]
            ],
            "type": "heatmapgl"
           }
          ],
          "histogram": [
           {
            "marker": {
             "pattern": {
              "fillmode": "overlay",
              "size": 10,
              "solidity": 0.2
             }
            },
            "type": "histogram"
           }
          ],
          "histogram2d": [
           {
            "colorbar": {
             "outlinewidth": 0,
             "ticks": ""
            },
            "colorscale": [
             [
              0,
              "#0d0887"
             ],
             [
              0.1111111111111111,
              "#46039f"
             ],
             [
              0.2222222222222222,
              "#7201a8"
             ],
             [
              0.3333333333333333,
              "#9c179e"
             ],
             [
              0.4444444444444444,
              "#bd3786"
             ],
             [
              0.5555555555555556,
              "#d8576b"
             ],
             [
              0.6666666666666666,
              "#ed7953"
             ],
             [
              0.7777777777777778,
              "#fb9f3a"
             ],
             [
              0.8888888888888888,
              "#fdca26"
             ],
             [
              1,
              "#f0f921"
             ]
            ],
            "type": "histogram2d"
           }
          ],
          "histogram2dcontour": [
           {
            "colorbar": {
             "outlinewidth": 0,
             "ticks": ""
            },
            "colorscale": [
             [
              0,
              "#0d0887"
             ],
             [
              0.1111111111111111,
              "#46039f"
             ],
             [
              0.2222222222222222,
              "#7201a8"
             ],
             [
              0.3333333333333333,
              "#9c179e"
             ],
             [
              0.4444444444444444,
              "#bd3786"
             ],
             [
              0.5555555555555556,
              "#d8576b"
             ],
             [
              0.6666666666666666,
              "#ed7953"
             ],
             [
              0.7777777777777778,
              "#fb9f3a"
             ],
             [
              0.8888888888888888,
              "#fdca26"
             ],
             [
              1,
              "#f0f921"
             ]
            ],
            "type": "histogram2dcontour"
           }
          ],
          "mesh3d": [
           {
            "colorbar": {
             "outlinewidth": 0,
             "ticks": ""
            },
            "type": "mesh3d"
           }
          ],
          "parcoords": [
           {
            "line": {
             "colorbar": {
              "outlinewidth": 0,
              "ticks": ""
             }
            },
            "type": "parcoords"
           }
          ],
          "pie": [
           {
            "automargin": true,
            "type": "pie"
           }
          ],
          "scatter": [
           {
            "fillpattern": {
             "fillmode": "overlay",
             "size": 10,
             "solidity": 0.2
            },
            "type": "scatter"
           }
          ],
          "scatter3d": [
           {
            "line": {
             "colorbar": {
              "outlinewidth": 0,
              "ticks": ""
             }
            },
            "marker": {
             "colorbar": {
              "outlinewidth": 0,
              "ticks": ""
             }
            },
            "type": "scatter3d"
           }
          ],
          "scattercarpet": [
           {
            "marker": {
             "colorbar": {
              "outlinewidth": 0,
              "ticks": ""
             }
            },
            "type": "scattercarpet"
           }
          ],
          "scattergeo": [
           {
            "marker": {
             "colorbar": {
              "outlinewidth": 0,
              "ticks": ""
             }
            },
            "type": "scattergeo"
           }
          ],
          "scattergl": [
           {
            "marker": {
             "colorbar": {
              "outlinewidth": 0,
              "ticks": ""
             }
            },
            "type": "scattergl"
           }
          ],
          "scattermapbox": [
           {
            "marker": {
             "colorbar": {
              "outlinewidth": 0,
              "ticks": ""
             }
            },
            "type": "scattermapbox"
           }
          ],
          "scatterpolar": [
           {
            "marker": {
             "colorbar": {
              "outlinewidth": 0,
              "ticks": ""
             }
            },
            "type": "scatterpolar"
           }
          ],
          "scatterpolargl": [
           {
            "marker": {
             "colorbar": {
              "outlinewidth": 0,
              "ticks": ""
             }
            },
            "type": "scatterpolargl"
           }
          ],
          "scatterternary": [
           {
            "marker": {
             "colorbar": {
              "outlinewidth": 0,
              "ticks": ""
             }
            },
            "type": "scatterternary"
           }
          ],
          "surface": [
           {
            "colorbar": {
             "outlinewidth": 0,
             "ticks": ""
            },
            "colorscale": [
             [
              0,
              "#0d0887"
             ],
             [
              0.1111111111111111,
              "#46039f"
             ],
             [
              0.2222222222222222,
              "#7201a8"
             ],
             [
              0.3333333333333333,
              "#9c179e"
             ],
             [
              0.4444444444444444,
              "#bd3786"
             ],
             [
              0.5555555555555556,
              "#d8576b"
             ],
             [
              0.6666666666666666,
              "#ed7953"
             ],
             [
              0.7777777777777778,
              "#fb9f3a"
             ],
             [
              0.8888888888888888,
              "#fdca26"
             ],
             [
              1,
              "#f0f921"
             ]
            ],
            "type": "surface"
           }
          ],
          "table": [
           {
            "cells": {
             "fill": {
              "color": "#EBF0F8"
             },
             "line": {
              "color": "white"
             }
            },
            "header": {
             "fill": {
              "color": "#C8D4E3"
             },
             "line": {
              "color": "white"
             }
            },
            "type": "table"
           }
          ]
         },
         "layout": {
          "annotationdefaults": {
           "arrowcolor": "#2a3f5f",
           "arrowhead": 0,
           "arrowwidth": 1
          },
          "autotypenumbers": "strict",
          "coloraxis": {
           "colorbar": {
            "outlinewidth": 0,
            "ticks": ""
           }
          },
          "colorscale": {
           "diverging": [
            [
             0,
             "#8e0152"
            ],
            [
             0.1,
             "#c51b7d"
            ],
            [
             0.2,
             "#de77ae"
            ],
            [
             0.3,
             "#f1b6da"
            ],
            [
             0.4,
             "#fde0ef"
            ],
            [
             0.5,
             "#f7f7f7"
            ],
            [
             0.6,
             "#e6f5d0"
            ],
            [
             0.7,
             "#b8e186"
            ],
            [
             0.8,
             "#7fbc41"
            ],
            [
             0.9,
             "#4d9221"
            ],
            [
             1,
             "#276419"
            ]
           ],
           "sequential": [
            [
             0,
             "#0d0887"
            ],
            [
             0.1111111111111111,
             "#46039f"
            ],
            [
             0.2222222222222222,
             "#7201a8"
            ],
            [
             0.3333333333333333,
             "#9c179e"
            ],
            [
             0.4444444444444444,
             "#bd3786"
            ],
            [
             0.5555555555555556,
             "#d8576b"
            ],
            [
             0.6666666666666666,
             "#ed7953"
            ],
            [
             0.7777777777777778,
             "#fb9f3a"
            ],
            [
             0.8888888888888888,
             "#fdca26"
            ],
            [
             1,
             "#f0f921"
            ]
           ],
           "sequentialminus": [
            [
             0,
             "#0d0887"
            ],
            [
             0.1111111111111111,
             "#46039f"
            ],
            [
             0.2222222222222222,
             "#7201a8"
            ],
            [
             0.3333333333333333,
             "#9c179e"
            ],
            [
             0.4444444444444444,
             "#bd3786"
            ],
            [
             0.5555555555555556,
             "#d8576b"
            ],
            [
             0.6666666666666666,
             "#ed7953"
            ],
            [
             0.7777777777777778,
             "#fb9f3a"
            ],
            [
             0.8888888888888888,
             "#fdca26"
            ],
            [
             1,
             "#f0f921"
            ]
           ]
          },
          "colorway": [
           "#636efa",
           "#EF553B",
           "#00cc96",
           "#ab63fa",
           "#FFA15A",
           "#19d3f3",
           "#FF6692",
           "#B6E880",
           "#FF97FF",
           "#FECB52"
          ],
          "font": {
           "color": "#2a3f5f"
          },
          "geo": {
           "bgcolor": "white",
           "lakecolor": "white",
           "landcolor": "#E5ECF6",
           "showlakes": true,
           "showland": true,
           "subunitcolor": "white"
          },
          "hoverlabel": {
           "align": "left"
          },
          "hovermode": "closest",
          "mapbox": {
           "style": "light"
          },
          "paper_bgcolor": "white",
          "plot_bgcolor": "#E5ECF6",
          "polar": {
           "angularaxis": {
            "gridcolor": "white",
            "linecolor": "white",
            "ticks": ""
           },
           "bgcolor": "#E5ECF6",
           "radialaxis": {
            "gridcolor": "white",
            "linecolor": "white",
            "ticks": ""
           }
          },
          "scene": {
           "xaxis": {
            "backgroundcolor": "#E5ECF6",
            "gridcolor": "white",
            "gridwidth": 2,
            "linecolor": "white",
            "showbackground": true,
            "ticks": "",
            "zerolinecolor": "white"
           },
           "yaxis": {
            "backgroundcolor": "#E5ECF6",
            "gridcolor": "white",
            "gridwidth": 2,
            "linecolor": "white",
            "showbackground": true,
            "ticks": "",
            "zerolinecolor": "white"
           },
           "zaxis": {
            "backgroundcolor": "#E5ECF6",
            "gridcolor": "white",
            "gridwidth": 2,
            "linecolor": "white",
            "showbackground": true,
            "ticks": "",
            "zerolinecolor": "white"
           }
          },
          "shapedefaults": {
           "line": {
            "color": "#2a3f5f"
           }
          },
          "ternary": {
           "aaxis": {
            "gridcolor": "white",
            "linecolor": "white",
            "ticks": ""
           },
           "baxis": {
            "gridcolor": "white",
            "linecolor": "white",
            "ticks": ""
           },
           "bgcolor": "#E5ECF6",
           "caxis": {
            "gridcolor": "white",
            "linecolor": "white",
            "ticks": ""
           }
          },
          "title": {
           "x": 0.05
          },
          "xaxis": {
           "automargin": true,
           "gridcolor": "white",
           "linecolor": "white",
           "ticks": "",
           "title": {
            "standoff": 15
           },
           "zerolinecolor": "white",
           "zerolinewidth": 2
          },
          "yaxis": {
           "automargin": true,
           "gridcolor": "white",
           "linecolor": "white",
           "ticks": "",
           "title": {
            "standoff": 15
           },
           "zerolinecolor": "white",
           "zerolinewidth": 2
          }
         }
        },
        "title": {
         "font": {
          "color": "blue",
          "size": 20
         },
         "text": "Naturalne Ananasy i Brokuły Dystrybutor - Jabłka",
         "x": 0.5
        },
        "width": 1500,
        "xaxis": {
         "range": [
          "2022-01-27T00:00:00",
          "2022-02-11T00:00:00"
         ],
         "rangeselector": {
          "buttons": [
           {
            "step": "all"
           },
           {
            "count": 1,
            "label": "1m",
            "step": "month",
            "stepmode": "backward"
           },
           {
            "count": 3,
            "label": "3m",
            "step": "month",
            "stepmode": "backward"
           },
           {
            "count": 6,
            "label": "6m",
            "step": "month",
            "stepmode": "backward"
           },
           {
            "count": 1,
            "label": "1y",
            "step": "year",
            "stepmode": "backward"
           }
          ]
         },
         "rangeslider": {
          "thickness": 0.2,
          "visible": true
         },
         "type": "date"
        }
       }
      }
     },
     "metadata": {},
     "output_type": "display_data"
    }
   ],
   "source": [
    "fig = go.Figure()\n",
    "dystrybutor = 'Naturalne Ananasy i Brokuły Dystrybutor'\n",
    "towar = 'Jabłka'\n",
    "\n",
    "k = df.loc[(df['Dystrybutor']==dystrybutor) & (df['Towar']==towar)]\n",
    "min_date_plot, max_date_plot = k['Data'].min(), k['Data'].max()\n",
    "\n",
    "# fig.add_trace(go.Scatter(x = k['Data'], y = k['Quantity'], name=\"Quantity\"))\n",
    "\n",
    "k_clv = clv_warzywa.loc[(clv_warzywa['Dystrybutor']==dystrybutor) & (clv_warzywa['Towar']==towar)]\n",
    "# fig.add_trace(go.Scatter(x = k_clv['Data'], y = k_clv['p_alive'], line = dict(shape = 'linear', color = 'red', dash = 'solid'),  name=\"p_alive\"))\n",
    "fig.add_trace(go.Scatter(x = k_clv['Data'], y = k_clv['CLV_3M'], line = dict(shape = 'linear', color = 'darkblue', dash = 'solid'), name=\"CLV_3M\"))\n",
    "\n",
    "for i in k.loc[(k['Quantity']>0)]['Data'].unique():\n",
    "    fig.add_vline(x=i,line_width=1.5, line_dash=\"dash\", line_color=\"green\", name=\"Order\")\n",
    "                \n",
    "fig.update_layout(title_text=\"{} - {}\".format(dystrybutor, towar), title_x=0.5, title_font_color=\"blue\", title_font_size=20,\n",
    "                              legend_title=\"\", xaxis=dict(rangeselector=dict(buttons=list([dict(step=\"all\"), \n",
    "                                                                dict(count=1, label=\"1m\", step=\"month\", stepmode=\"backward\"),\n",
    "                                                                dict(count=3, label=\"3m\", step=\"month\", stepmode=\"backward\"),\n",
    "                                                                dict(count=6, label=\"6m\", step=\"month\", stepmode=\"backward\"),\n",
    "                                                                dict(count=1, label=\"1y\", step=\"year\", stepmode=\"backward\")\n",
    "                                                                ])), \n",
    "                        rangeslider=dict(visible=True), type=\"date\", range = [min_date_plot, max_date_plot]))\n",
    "    \n",
    "fig.update_xaxes(rangeslider_thickness = 0.2)\n",
    "fig.update_layout(autosize=False, width=1500, height=400,)\n",
    "fig.update_layout(showlegend=True)\n",
    "fig.show()"
   ]
  },
  {
   "cell_type": "markdown",
   "id": "77a111f8",
   "metadata": {},
   "source": [
    "### Building segmentation"
   ]
  },
  {
   "cell_type": "code",
   "execution_count": 11,
   "id": "62e3a9f3",
   "metadata": {},
   "outputs": [
    {
     "data": {
      "text/html": [
       "<div>\n",
       "<style scoped>\n",
       "    .dataframe tbody tr th:only-of-type {\n",
       "        vertical-align: middle;\n",
       "    }\n",
       "\n",
       "    .dataframe tbody tr th {\n",
       "        vertical-align: top;\n",
       "    }\n",
       "\n",
       "    .dataframe thead th {\n",
       "        text-align: right;\n",
       "    }\n",
       "</style>\n",
       "<table border=\"1\" class=\"dataframe\">\n",
       "  <thead>\n",
       "    <tr style=\"text-align: right;\">\n",
       "      <th></th>\n",
       "      <th>Dystrybutor</th>\n",
       "      <th>Towar</th>\n",
       "      <th>Data</th>\n",
       "      <th>p_alive</th>\n",
       "      <th>monetary_value</th>\n",
       "      <th>Exp_Orders_3M</th>\n",
       "      <th>CLV_3M</th>\n",
       "    </tr>\n",
       "  </thead>\n",
       "  <tbody>\n",
       "    <tr>\n",
       "      <th>0</th>\n",
       "      <td>Bio Ananasy i Cebule Magazyn</td>\n",
       "      <td>Jabłka</td>\n",
       "      <td>2022-01-17</td>\n",
       "      <td>0.261</td>\n",
       "      <td>74.700000</td>\n",
       "      <td>2.191</td>\n",
       "      <td>188.360434</td>\n",
       "    </tr>\n",
       "    <tr>\n",
       "      <th>1</th>\n",
       "      <td>Ekologiczne Ananasy i Brokuły Firma</td>\n",
       "      <td>Pomidory malinowe</td>\n",
       "      <td>2022-01-17</td>\n",
       "      <td>0.294</td>\n",
       "      <td>59.800000</td>\n",
       "      <td>2.701</td>\n",
       "      <td>188.359472</td>\n",
       "    </tr>\n",
       "    <tr>\n",
       "      <th>2</th>\n",
       "      <td>Ekologiczne Maliny i Szpinak Sp. z o.o.</td>\n",
       "      <td>Ziemniaki</td>\n",
       "      <td>2022-01-17</td>\n",
       "      <td>0.758</td>\n",
       "      <td>70.300000</td>\n",
       "      <td>8.764</td>\n",
       "      <td>661.756213</td>\n",
       "    </tr>\n",
       "    <tr>\n",
       "      <th>3</th>\n",
       "      <td>Ekologiczne Mandarynki i Sałata Firma</td>\n",
       "      <td>Jabłka</td>\n",
       "      <td>2022-01-17</td>\n",
       "      <td>0.202</td>\n",
       "      <td>74.700000</td>\n",
       "      <td>1.693</td>\n",
       "      <td>145.579620</td>\n",
       "    </tr>\n",
       "    <tr>\n",
       "      <th>4</th>\n",
       "      <td>Ekologiczne Pomarańcze i Dynie Sp. z o.o.</td>\n",
       "      <td>Ziemniaki</td>\n",
       "      <td>2022-01-17</td>\n",
       "      <td>0.512</td>\n",
       "      <td>149.500000</td>\n",
       "      <td>3.702</td>\n",
       "      <td>619.995838</td>\n",
       "    </tr>\n",
       "    <tr>\n",
       "      <th>...</th>\n",
       "      <td>...</td>\n",
       "      <td>...</td>\n",
       "      <td>...</td>\n",
       "      <td>...</td>\n",
       "      <td>...</td>\n",
       "      <td>...</td>\n",
       "      <td>...</td>\n",
       "    </tr>\n",
       "    <tr>\n",
       "      <th>150404</th>\n",
       "      <td>Świeże Wiśnie i Sałata Magazyn</td>\n",
       "      <td>Pomidory koktajlowe</td>\n",
       "      <td>2023-12-25</td>\n",
       "      <td>0.850</td>\n",
       "      <td>73.900000</td>\n",
       "      <td>1.266</td>\n",
       "      <td>105.902888</td>\n",
       "    </tr>\n",
       "    <tr>\n",
       "      <th>150405</th>\n",
       "      <td>Świeże Wiśnie i Szpinak Firma</td>\n",
       "      <td>Ziemniaki</td>\n",
       "      <td>2023-12-25</td>\n",
       "      <td>0.905</td>\n",
       "      <td>74.280952</td>\n",
       "      <td>2.420</td>\n",
       "      <td>180.813557</td>\n",
       "    </tr>\n",
       "    <tr>\n",
       "      <th>150406</th>\n",
       "      <td>Świeże Wiśnie i Szpinak Sp. z o.o.</td>\n",
       "      <td>Cebula</td>\n",
       "      <td>2023-12-25</td>\n",
       "      <td>0.788</td>\n",
       "      <td>65.900000</td>\n",
       "      <td>1.930</td>\n",
       "      <td>135.701316</td>\n",
       "    </tr>\n",
       "    <tr>\n",
       "      <th>150407</th>\n",
       "      <td>Świeże Wiśnie i Warzywa Hurtownia</td>\n",
       "      <td>Jabłka</td>\n",
       "      <td>2023-12-25</td>\n",
       "      <td>0.994</td>\n",
       "      <td>51.528000</td>\n",
       "      <td>3.168</td>\n",
       "      <td>164.187641</td>\n",
       "    </tr>\n",
       "    <tr>\n",
       "      <th>150408</th>\n",
       "      <td>Świeże Wiśnie i Warzywa Hurtownia</td>\n",
       "      <td>Ziemniaki</td>\n",
       "      <td>2023-12-25</td>\n",
       "      <td>0.996</td>\n",
       "      <td>60.069231</td>\n",
       "      <td>4.855</td>\n",
       "      <td>292.648728</td>\n",
       "    </tr>\n",
       "  </tbody>\n",
       "</table>\n",
       "<p>150409 rows × 7 columns</p>\n",
       "</div>"
      ],
      "text/plain": [
       "                                      Dystrybutor                Towar  \\\n",
       "0                    Bio Ananasy i Cebule Magazyn               Jabłka   \n",
       "1             Ekologiczne Ananasy i Brokuły Firma    Pomidory malinowe   \n",
       "2         Ekologiczne Maliny i Szpinak Sp. z o.o.            Ziemniaki   \n",
       "3           Ekologiczne Mandarynki i Sałata Firma               Jabłka   \n",
       "4       Ekologiczne Pomarańcze i Dynie Sp. z o.o.            Ziemniaki   \n",
       "...                                           ...                  ...   \n",
       "150404             Świeże Wiśnie i Sałata Magazyn  Pomidory koktajlowe   \n",
       "150405              Świeże Wiśnie i Szpinak Firma            Ziemniaki   \n",
       "150406         Świeże Wiśnie i Szpinak Sp. z o.o.               Cebula   \n",
       "150407          Świeże Wiśnie i Warzywa Hurtownia               Jabłka   \n",
       "150408          Świeże Wiśnie i Warzywa Hurtownia            Ziemniaki   \n",
       "\n",
       "             Data  p_alive  monetary_value  Exp_Orders_3M      CLV_3M  \n",
       "0      2022-01-17    0.261       74.700000          2.191  188.360434  \n",
       "1      2022-01-17    0.294       59.800000          2.701  188.359472  \n",
       "2      2022-01-17    0.758       70.300000          8.764  661.756213  \n",
       "3      2022-01-17    0.202       74.700000          1.693  145.579620  \n",
       "4      2022-01-17    0.512      149.500000          3.702  619.995838  \n",
       "...           ...      ...             ...            ...         ...  \n",
       "150404 2023-12-25    0.850       73.900000          1.266  105.902888  \n",
       "150405 2023-12-25    0.905       74.280952          2.420  180.813557  \n",
       "150406 2023-12-25    0.788       65.900000          1.930  135.701316  \n",
       "150407 2023-12-25    0.994       51.528000          3.168  164.187641  \n",
       "150408 2023-12-25    0.996       60.069231          4.855  292.648728  \n",
       "\n",
       "[150409 rows x 7 columns]"
      ]
     },
     "execution_count": 11,
     "metadata": {},
     "output_type": "execute_result"
    }
   ],
   "source": [
    "clv_warzywa"
   ]
  },
  {
   "cell_type": "code",
   "execution_count": 23,
   "id": "b4ca27e8",
   "metadata": {},
   "outputs": [
    {
     "data": {
      "text/html": [
       "<div>\n",
       "<style scoped>\n",
       "    .dataframe tbody tr th:only-of-type {\n",
       "        vertical-align: middle;\n",
       "    }\n",
       "\n",
       "    .dataframe tbody tr th {\n",
       "        vertical-align: top;\n",
       "    }\n",
       "\n",
       "    .dataframe thead th {\n",
       "        text-align: right;\n",
       "    }\n",
       "</style>\n",
       "<table border=\"1\" class=\"dataframe\">\n",
       "  <thead>\n",
       "    <tr style=\"text-align: right;\">\n",
       "      <th></th>\n",
       "      <th>Dystrybutor</th>\n",
       "      <th>Towar</th>\n",
       "      <th>Data</th>\n",
       "      <th>p_alive</th>\n",
       "      <th>monetary_value</th>\n",
       "      <th>Exp_Orders_3M</th>\n",
       "      <th>CLV_3M</th>\n",
       "      <th>R</th>\n",
       "      <th>F</th>\n",
       "      <th>M</th>\n",
       "      <th>RF_Segment</th>\n",
       "      <th>RFM_Segment</th>\n",
       "      <th>Score</th>\n",
       "    </tr>\n",
       "  </thead>\n",
       "  <tbody>\n",
       "    <tr>\n",
       "      <th>148319</th>\n",
       "      <td>Bio Ananasy i Brokuły Dystrybutor</td>\n",
       "      <td>Pomidory malinowe</td>\n",
       "      <td>2023-12-25</td>\n",
       "      <td>0.742</td>\n",
       "      <td>73.450000</td>\n",
       "      <td>1.092</td>\n",
       "      <td>81.424978</td>\n",
       "      <td>3</td>\n",
       "      <td>3</td>\n",
       "      <td>4</td>\n",
       "      <td>33</td>\n",
       "      <td>334</td>\n",
       "      <td>10</td>\n",
       "    </tr>\n",
       "    <tr>\n",
       "      <th>148320</th>\n",
       "      <td>Bio Ananasy i Cebule Magazyn</td>\n",
       "      <td>Jabłka</td>\n",
       "      <td>2023-12-25</td>\n",
       "      <td>0.001</td>\n",
       "      <td>61.533333</td>\n",
       "      <td>0.000</td>\n",
       "      <td>0.030946</td>\n",
       "      <td>1</td>\n",
       "      <td>1</td>\n",
       "      <td>1</td>\n",
       "      <td>11</td>\n",
       "      <td>111</td>\n",
       "      <td>3</td>\n",
       "    </tr>\n",
       "    <tr>\n",
       "      <th>148321</th>\n",
       "      <td>Bio Ananasy i Cebule Sp. z o.o.</td>\n",
       "      <td>Papryka</td>\n",
       "      <td>2023-12-25</td>\n",
       "      <td>0.092</td>\n",
       "      <td>75.200000</td>\n",
       "      <td>0.032</td>\n",
       "      <td>2.740476</td>\n",
       "      <td>1</td>\n",
       "      <td>1</td>\n",
       "      <td>1</td>\n",
       "      <td>11</td>\n",
       "      <td>111</td>\n",
       "      <td>3</td>\n",
       "    </tr>\n",
       "    <tr>\n",
       "      <th>148322</th>\n",
       "      <td>Bio Ananasy i Dynie Firma</td>\n",
       "      <td>Jabłka</td>\n",
       "      <td>2023-12-25</td>\n",
       "      <td>0.064</td>\n",
       "      <td>8.800000</td>\n",
       "      <td>0.020</td>\n",
       "      <td>0.274237</td>\n",
       "      <td>1</td>\n",
       "      <td>1</td>\n",
       "      <td>1</td>\n",
       "      <td>11</td>\n",
       "      <td>111</td>\n",
       "      <td>3</td>\n",
       "    </tr>\n",
       "    <tr>\n",
       "      <th>148323</th>\n",
       "      <td>Bio Ananasy i Dynie Firma</td>\n",
       "      <td>Ziemniaki</td>\n",
       "      <td>2023-12-25</td>\n",
       "      <td>0.715</td>\n",
       "      <td>73.100000</td>\n",
       "      <td>1.051</td>\n",
       "      <td>77.694394</td>\n",
       "      <td>3</td>\n",
       "      <td>3</td>\n",
       "      <td>4</td>\n",
       "      <td>33</td>\n",
       "      <td>334</td>\n",
       "      <td>10</td>\n",
       "    </tr>\n",
       "    <tr>\n",
       "      <th>...</th>\n",
       "      <td>...</td>\n",
       "      <td>...</td>\n",
       "      <td>...</td>\n",
       "      <td>...</td>\n",
       "      <td>...</td>\n",
       "      <td>...</td>\n",
       "      <td>...</td>\n",
       "      <td>...</td>\n",
       "      <td>...</td>\n",
       "      <td>...</td>\n",
       "      <td>...</td>\n",
       "      <td>...</td>\n",
       "      <td>...</td>\n",
       "    </tr>\n",
       "    <tr>\n",
       "      <th>150404</th>\n",
       "      <td>Świeże Wiśnie i Sałata Magazyn</td>\n",
       "      <td>Pomidory koktajlowe</td>\n",
       "      <td>2023-12-25</td>\n",
       "      <td>0.850</td>\n",
       "      <td>73.900000</td>\n",
       "      <td>1.266</td>\n",
       "      <td>105.902888</td>\n",
       "      <td>3</td>\n",
       "      <td>4</td>\n",
       "      <td>4</td>\n",
       "      <td>34</td>\n",
       "      <td>344</td>\n",
       "      <td>11</td>\n",
       "    </tr>\n",
       "    <tr>\n",
       "      <th>150405</th>\n",
       "      <td>Świeże Wiśnie i Szpinak Firma</td>\n",
       "      <td>Ziemniaki</td>\n",
       "      <td>2023-12-25</td>\n",
       "      <td>0.905</td>\n",
       "      <td>74.280952</td>\n",
       "      <td>2.420</td>\n",
       "      <td>180.813557</td>\n",
       "      <td>3</td>\n",
       "      <td>4</td>\n",
       "      <td>5</td>\n",
       "      <td>34</td>\n",
       "      <td>345</td>\n",
       "      <td>12</td>\n",
       "    </tr>\n",
       "    <tr>\n",
       "      <th>150406</th>\n",
       "      <td>Świeże Wiśnie i Szpinak Sp. z o.o.</td>\n",
       "      <td>Cebula</td>\n",
       "      <td>2023-12-25</td>\n",
       "      <td>0.788</td>\n",
       "      <td>65.900000</td>\n",
       "      <td>1.930</td>\n",
       "      <td>135.701316</td>\n",
       "      <td>3</td>\n",
       "      <td>4</td>\n",
       "      <td>4</td>\n",
       "      <td>34</td>\n",
       "      <td>344</td>\n",
       "      <td>11</td>\n",
       "    </tr>\n",
       "    <tr>\n",
       "      <th>150407</th>\n",
       "      <td>Świeże Wiśnie i Warzywa Hurtownia</td>\n",
       "      <td>Jabłka</td>\n",
       "      <td>2023-12-25</td>\n",
       "      <td>0.994</td>\n",
       "      <td>51.528000</td>\n",
       "      <td>3.168</td>\n",
       "      <td>164.187641</td>\n",
       "      <td>5</td>\n",
       "      <td>5</td>\n",
       "      <td>5</td>\n",
       "      <td>55</td>\n",
       "      <td>555</td>\n",
       "      <td>15</td>\n",
       "    </tr>\n",
       "    <tr>\n",
       "      <th>150408</th>\n",
       "      <td>Świeże Wiśnie i Warzywa Hurtownia</td>\n",
       "      <td>Ziemniaki</td>\n",
       "      <td>2023-12-25</td>\n",
       "      <td>0.996</td>\n",
       "      <td>60.069231</td>\n",
       "      <td>4.855</td>\n",
       "      <td>292.648728</td>\n",
       "      <td>5</td>\n",
       "      <td>5</td>\n",
       "      <td>5</td>\n",
       "      <td>55</td>\n",
       "      <td>555</td>\n",
       "      <td>15</td>\n",
       "    </tr>\n",
       "  </tbody>\n",
       "</table>\n",
       "<p>2090 rows × 13 columns</p>\n",
       "</div>"
      ],
      "text/plain": [
       "                               Dystrybutor                Towar       Data  \\\n",
       "148319   Bio Ananasy i Brokuły Dystrybutor    Pomidory malinowe 2023-12-25   \n",
       "148320        Bio Ananasy i Cebule Magazyn               Jabłka 2023-12-25   \n",
       "148321     Bio Ananasy i Cebule Sp. z o.o.              Papryka 2023-12-25   \n",
       "148322           Bio Ananasy i Dynie Firma               Jabłka 2023-12-25   \n",
       "148323           Bio Ananasy i Dynie Firma            Ziemniaki 2023-12-25   \n",
       "...                                    ...                  ...        ...   \n",
       "150404      Świeże Wiśnie i Sałata Magazyn  Pomidory koktajlowe 2023-12-25   \n",
       "150405       Świeże Wiśnie i Szpinak Firma            Ziemniaki 2023-12-25   \n",
       "150406  Świeże Wiśnie i Szpinak Sp. z o.o.               Cebula 2023-12-25   \n",
       "150407   Świeże Wiśnie i Warzywa Hurtownia               Jabłka 2023-12-25   \n",
       "150408   Świeże Wiśnie i Warzywa Hurtownia            Ziemniaki 2023-12-25   \n",
       "\n",
       "        p_alive  monetary_value  Exp_Orders_3M      CLV_3M  R  F  M  \\\n",
       "148319    0.742       73.450000          1.092   81.424978  3  3  4   \n",
       "148320    0.001       61.533333          0.000    0.030946  1  1  1   \n",
       "148321    0.092       75.200000          0.032    2.740476  1  1  1   \n",
       "148322    0.064        8.800000          0.020    0.274237  1  1  1   \n",
       "148323    0.715       73.100000          1.051   77.694394  3  3  4   \n",
       "...         ...             ...            ...         ... .. .. ..   \n",
       "150404    0.850       73.900000          1.266  105.902888  3  4  4   \n",
       "150405    0.905       74.280952          2.420  180.813557  3  4  5   \n",
       "150406    0.788       65.900000          1.930  135.701316  3  4  4   \n",
       "150407    0.994       51.528000          3.168  164.187641  5  5  5   \n",
       "150408    0.996       60.069231          4.855  292.648728  5  5  5   \n",
       "\n",
       "       RF_Segment RFM_Segment  Score  \n",
       "148319         33         334     10  \n",
       "148320         11         111      3  \n",
       "148321         11         111      3  \n",
       "148322         11         111      3  \n",
       "148323         33         334     10  \n",
       "...           ...         ...    ...  \n",
       "150404         34         344     11  \n",
       "150405         34         345     12  \n",
       "150406         34         344     11  \n",
       "150407         55         555     15  \n",
       "150408         55         555     15  \n",
       "\n",
       "[2090 rows x 13 columns]"
      ]
     },
     "execution_count": 23,
     "metadata": {},
     "output_type": "execute_result"
    }
   ],
   "source": [
    "\n",
    "r_labels = range(1,6) # the lower recency, the better (higher p_alive, better)\n",
    "f_labels = range(1,6) # the higher frequency, the better\n",
    "m_labels = range(1,6) # the higher monetary, the better\n",
    "\n",
    "rfm = clv_warzywa[clv_warzywa[\"Data\"] == \"2023-12-25\"]\n",
    "\n",
    "r_quartiles = pd.qcut(rfm['p_alive'], q=5, labels = r_labels).astype(int)\n",
    "f_quartiles = pd.qcut(rfm['Exp_Orders_3M'],q=5, labels = f_labels).astype(int)\n",
    "m_quartiles = pd.qcut(rfm['CLV_3M'],q=5,labels = m_labels).astype(int)\n",
    "rfm = rfm.assign(R=r_quartiles,F=f_quartiles,M=m_quartiles)\n",
    "\n",
    "# Build RFM Segment and RFM Score\n",
    "rfm[\"RF_Segment\"] = rfm[\"R\"].astype('str') + rfm[\"F\"].astype('str')\n",
    "rfm[\"RFM_Segment\"] = rfm[\"R\"].astype('str') + rfm[\"F\"].astype('str') + rfm[\"M\"].astype('str')\n",
    "rfm['Score'] = rfm[['R','F','M']].sum(axis=1).astype('int')\n",
    "\n",
    "rfm"
   ]
  },
  {
   "cell_type": "code",
   "execution_count": 24,
   "id": "9b22f035",
   "metadata": {},
   "outputs": [],
   "source": [
    "rf_seg_map = {\n",
    "    r'[1-2][1-2]': 'Hibernating',\n",
    "    r'[1-2][3-4]': 'At Risk',\n",
    "    r'[1-2]5': 'Can\\'t Loose',\n",
    "    r'3[1-2]': 'About to Sleep',\n",
    "    r'33': 'Need Attention',\n",
    "    r'[3-4][4-5]': 'Loyal Customers',\n",
    "    r'41': 'Promising',\n",
    "    r'51': 'New Customers',\n",
    "    r'[4-5][2-3]': 'Potential Loyalists',\n",
    "    r'5[4-5]': 'Champions'\n",
    "}\n",
    "\n",
    "# https://documentation.bloomreach.com/engagement/docs/rfm-segmentation\n",
    "rfm_seg_map = {\n",
    "    r'111|112|121|131|141|151': 'Lost Customers',\n",
    "    # r'111|112|121|131|141|151': 'Losing But Engaged',\n",
    "    r'332|322|233|232|223|222|132|123|122|212|211': 'Hibernating',\n",
    "    r'255|254|245|244|253|252|243|242|235|234|225|224|153|152|145|143|142|135|134|133|125|124': 'At Risk',\n",
    "    r'155|154|144|214|215|115|114|113': 'Can\\'t Loose',\n",
    "    r'331|321|312|221|213|231|241|251': 'About to Sleep',\n",
    "    r'535|534|443|434|343|334|325|324': 'Need Attention',\n",
    "    r'543|444|435|355|354|345|344|335': 'Loyal Customers',\n",
    "    r'525|524|523|522|521|515|514|513|425|424|413|414|415|315|314|313': 'Promising',\n",
    "    r'512|511|422|421|412|411|311': 'New Customers',\n",
    "    r'553|551|552|541|542|533|532|531|452|451|442|441|431|453|433|432|423|353|352|351|342|341|333|323': 'Potential Loyalists',\n",
    "    r'555|554|544|545|454|455|445': 'Champions'\n",
    "}\n",
    "\n",
    "score_seg_map = {'Dead':0, 'Green':1, 'Bronze':2, 'Silver':3, 'Gold':4, 'Platinum':5}"
   ]
  },
  {
   "cell_type": "code",
   "execution_count": 25,
   "id": "2781860d",
   "metadata": {},
   "outputs": [
    {
     "data": {
      "text/html": [
       "<div>\n",
       "<style scoped>\n",
       "    .dataframe tbody tr th:only-of-type {\n",
       "        vertical-align: middle;\n",
       "    }\n",
       "\n",
       "    .dataframe tbody tr th {\n",
       "        vertical-align: top;\n",
       "    }\n",
       "\n",
       "    .dataframe thead th {\n",
       "        text-align: right;\n",
       "    }\n",
       "</style>\n",
       "<table border=\"1\" class=\"dataframe\">\n",
       "  <thead>\n",
       "    <tr style=\"text-align: right;\">\n",
       "      <th></th>\n",
       "      <th>Dystrybutor</th>\n",
       "      <th>Towar</th>\n",
       "      <th>Data</th>\n",
       "      <th>p_alive</th>\n",
       "      <th>monetary_value</th>\n",
       "      <th>Exp_Orders_3M</th>\n",
       "      <th>CLV_3M</th>\n",
       "      <th>R</th>\n",
       "      <th>F</th>\n",
       "      <th>M</th>\n",
       "      <th>RF_Segment</th>\n",
       "      <th>RFM_Segment</th>\n",
       "      <th>Score</th>\n",
       "      <th>RF_Seg</th>\n",
       "      <th>RFM_Seg</th>\n",
       "    </tr>\n",
       "  </thead>\n",
       "  <tbody>\n",
       "    <tr>\n",
       "      <th>148319</th>\n",
       "      <td>Bio Ananasy i Brokuły Dystrybutor</td>\n",
       "      <td>Pomidory malinowe</td>\n",
       "      <td>2023-12-25</td>\n",
       "      <td>0.742</td>\n",
       "      <td>73.450000</td>\n",
       "      <td>1.092</td>\n",
       "      <td>81.424978</td>\n",
       "      <td>3</td>\n",
       "      <td>3</td>\n",
       "      <td>4</td>\n",
       "      <td>33</td>\n",
       "      <td>334</td>\n",
       "      <td>10</td>\n",
       "      <td>Need Attention</td>\n",
       "      <td>Need Attention</td>\n",
       "    </tr>\n",
       "    <tr>\n",
       "      <th>148320</th>\n",
       "      <td>Bio Ananasy i Cebule Magazyn</td>\n",
       "      <td>Jabłka</td>\n",
       "      <td>2023-12-25</td>\n",
       "      <td>0.001</td>\n",
       "      <td>61.533333</td>\n",
       "      <td>0.000</td>\n",
       "      <td>0.030946</td>\n",
       "      <td>1</td>\n",
       "      <td>1</td>\n",
       "      <td>1</td>\n",
       "      <td>11</td>\n",
       "      <td>111</td>\n",
       "      <td>3</td>\n",
       "      <td>Hibernating</td>\n",
       "      <td>Lost Customers</td>\n",
       "    </tr>\n",
       "    <tr>\n",
       "      <th>148321</th>\n",
       "      <td>Bio Ananasy i Cebule Sp. z o.o.</td>\n",
       "      <td>Papryka</td>\n",
       "      <td>2023-12-25</td>\n",
       "      <td>0.092</td>\n",
       "      <td>75.200000</td>\n",
       "      <td>0.032</td>\n",
       "      <td>2.740476</td>\n",
       "      <td>1</td>\n",
       "      <td>1</td>\n",
       "      <td>1</td>\n",
       "      <td>11</td>\n",
       "      <td>111</td>\n",
       "      <td>3</td>\n",
       "      <td>Hibernating</td>\n",
       "      <td>Lost Customers</td>\n",
       "    </tr>\n",
       "    <tr>\n",
       "      <th>148322</th>\n",
       "      <td>Bio Ananasy i Dynie Firma</td>\n",
       "      <td>Jabłka</td>\n",
       "      <td>2023-12-25</td>\n",
       "      <td>0.064</td>\n",
       "      <td>8.800000</td>\n",
       "      <td>0.020</td>\n",
       "      <td>0.274237</td>\n",
       "      <td>1</td>\n",
       "      <td>1</td>\n",
       "      <td>1</td>\n",
       "      <td>11</td>\n",
       "      <td>111</td>\n",
       "      <td>3</td>\n",
       "      <td>Hibernating</td>\n",
       "      <td>Lost Customers</td>\n",
       "    </tr>\n",
       "    <tr>\n",
       "      <th>148323</th>\n",
       "      <td>Bio Ananasy i Dynie Firma</td>\n",
       "      <td>Ziemniaki</td>\n",
       "      <td>2023-12-25</td>\n",
       "      <td>0.715</td>\n",
       "      <td>73.100000</td>\n",
       "      <td>1.051</td>\n",
       "      <td>77.694394</td>\n",
       "      <td>3</td>\n",
       "      <td>3</td>\n",
       "      <td>4</td>\n",
       "      <td>33</td>\n",
       "      <td>334</td>\n",
       "      <td>10</td>\n",
       "      <td>Need Attention</td>\n",
       "      <td>Need Attention</td>\n",
       "    </tr>\n",
       "    <tr>\n",
       "      <th>...</th>\n",
       "      <td>...</td>\n",
       "      <td>...</td>\n",
       "      <td>...</td>\n",
       "      <td>...</td>\n",
       "      <td>...</td>\n",
       "      <td>...</td>\n",
       "      <td>...</td>\n",
       "      <td>...</td>\n",
       "      <td>...</td>\n",
       "      <td>...</td>\n",
       "      <td>...</td>\n",
       "      <td>...</td>\n",
       "      <td>...</td>\n",
       "      <td>...</td>\n",
       "      <td>...</td>\n",
       "    </tr>\n",
       "    <tr>\n",
       "      <th>150404</th>\n",
       "      <td>Świeże Wiśnie i Sałata Magazyn</td>\n",
       "      <td>Pomidory koktajlowe</td>\n",
       "      <td>2023-12-25</td>\n",
       "      <td>0.850</td>\n",
       "      <td>73.900000</td>\n",
       "      <td>1.266</td>\n",
       "      <td>105.902888</td>\n",
       "      <td>3</td>\n",
       "      <td>4</td>\n",
       "      <td>4</td>\n",
       "      <td>34</td>\n",
       "      <td>344</td>\n",
       "      <td>11</td>\n",
       "      <td>Loyal Customers</td>\n",
       "      <td>Loyal Customers</td>\n",
       "    </tr>\n",
       "    <tr>\n",
       "      <th>150405</th>\n",
       "      <td>Świeże Wiśnie i Szpinak Firma</td>\n",
       "      <td>Ziemniaki</td>\n",
       "      <td>2023-12-25</td>\n",
       "      <td>0.905</td>\n",
       "      <td>74.280952</td>\n",
       "      <td>2.420</td>\n",
       "      <td>180.813557</td>\n",
       "      <td>3</td>\n",
       "      <td>4</td>\n",
       "      <td>5</td>\n",
       "      <td>34</td>\n",
       "      <td>345</td>\n",
       "      <td>12</td>\n",
       "      <td>Loyal Customers</td>\n",
       "      <td>Loyal Customers</td>\n",
       "    </tr>\n",
       "    <tr>\n",
       "      <th>150406</th>\n",
       "      <td>Świeże Wiśnie i Szpinak Sp. z o.o.</td>\n",
       "      <td>Cebula</td>\n",
       "      <td>2023-12-25</td>\n",
       "      <td>0.788</td>\n",
       "      <td>65.900000</td>\n",
       "      <td>1.930</td>\n",
       "      <td>135.701316</td>\n",
       "      <td>3</td>\n",
       "      <td>4</td>\n",
       "      <td>4</td>\n",
       "      <td>34</td>\n",
       "      <td>344</td>\n",
       "      <td>11</td>\n",
       "      <td>Loyal Customers</td>\n",
       "      <td>Loyal Customers</td>\n",
       "    </tr>\n",
       "    <tr>\n",
       "      <th>150407</th>\n",
       "      <td>Świeże Wiśnie i Warzywa Hurtownia</td>\n",
       "      <td>Jabłka</td>\n",
       "      <td>2023-12-25</td>\n",
       "      <td>0.994</td>\n",
       "      <td>51.528000</td>\n",
       "      <td>3.168</td>\n",
       "      <td>164.187641</td>\n",
       "      <td>5</td>\n",
       "      <td>5</td>\n",
       "      <td>5</td>\n",
       "      <td>55</td>\n",
       "      <td>555</td>\n",
       "      <td>15</td>\n",
       "      <td>Champions</td>\n",
       "      <td>Champions</td>\n",
       "    </tr>\n",
       "    <tr>\n",
       "      <th>150408</th>\n",
       "      <td>Świeże Wiśnie i Warzywa Hurtownia</td>\n",
       "      <td>Ziemniaki</td>\n",
       "      <td>2023-12-25</td>\n",
       "      <td>0.996</td>\n",
       "      <td>60.069231</td>\n",
       "      <td>4.855</td>\n",
       "      <td>292.648728</td>\n",
       "      <td>5</td>\n",
       "      <td>5</td>\n",
       "      <td>5</td>\n",
       "      <td>55</td>\n",
       "      <td>555</td>\n",
       "      <td>15</td>\n",
       "      <td>Champions</td>\n",
       "      <td>Champions</td>\n",
       "    </tr>\n",
       "  </tbody>\n",
       "</table>\n",
       "<p>2090 rows × 15 columns</p>\n",
       "</div>"
      ],
      "text/plain": [
       "                               Dystrybutor                Towar       Data  \\\n",
       "148319   Bio Ananasy i Brokuły Dystrybutor    Pomidory malinowe 2023-12-25   \n",
       "148320        Bio Ananasy i Cebule Magazyn               Jabłka 2023-12-25   \n",
       "148321     Bio Ananasy i Cebule Sp. z o.o.              Papryka 2023-12-25   \n",
       "148322           Bio Ananasy i Dynie Firma               Jabłka 2023-12-25   \n",
       "148323           Bio Ananasy i Dynie Firma            Ziemniaki 2023-12-25   \n",
       "...                                    ...                  ...        ...   \n",
       "150404      Świeże Wiśnie i Sałata Magazyn  Pomidory koktajlowe 2023-12-25   \n",
       "150405       Świeże Wiśnie i Szpinak Firma            Ziemniaki 2023-12-25   \n",
       "150406  Świeże Wiśnie i Szpinak Sp. z o.o.               Cebula 2023-12-25   \n",
       "150407   Świeże Wiśnie i Warzywa Hurtownia               Jabłka 2023-12-25   \n",
       "150408   Świeże Wiśnie i Warzywa Hurtownia            Ziemniaki 2023-12-25   \n",
       "\n",
       "        p_alive  monetary_value  Exp_Orders_3M      CLV_3M  R  F  M  \\\n",
       "148319    0.742       73.450000          1.092   81.424978  3  3  4   \n",
       "148320    0.001       61.533333          0.000    0.030946  1  1  1   \n",
       "148321    0.092       75.200000          0.032    2.740476  1  1  1   \n",
       "148322    0.064        8.800000          0.020    0.274237  1  1  1   \n",
       "148323    0.715       73.100000          1.051   77.694394  3  3  4   \n",
       "...         ...             ...            ...         ... .. .. ..   \n",
       "150404    0.850       73.900000          1.266  105.902888  3  4  4   \n",
       "150405    0.905       74.280952          2.420  180.813557  3  4  5   \n",
       "150406    0.788       65.900000          1.930  135.701316  3  4  4   \n",
       "150407    0.994       51.528000          3.168  164.187641  5  5  5   \n",
       "150408    0.996       60.069231          4.855  292.648728  5  5  5   \n",
       "\n",
       "       RF_Segment RFM_Segment  Score           RF_Seg          RFM_Seg  \n",
       "148319         33         334     10   Need Attention   Need Attention  \n",
       "148320         11         111      3      Hibernating   Lost Customers  \n",
       "148321         11         111      3      Hibernating   Lost Customers  \n",
       "148322         11         111      3      Hibernating   Lost Customers  \n",
       "148323         33         334     10   Need Attention   Need Attention  \n",
       "...           ...         ...    ...              ...              ...  \n",
       "150404         34         344     11  Loyal Customers  Loyal Customers  \n",
       "150405         34         345     12  Loyal Customers  Loyal Customers  \n",
       "150406         34         344     11  Loyal Customers  Loyal Customers  \n",
       "150407         55         555     15        Champions        Champions  \n",
       "150408         55         555     15        Champions        Champions  \n",
       "\n",
       "[2090 rows x 15 columns]"
      ]
     },
     "execution_count": 25,
     "metadata": {},
     "output_type": "execute_result"
    }
   ],
   "source": [
    "rfm['RF_Seg'] = rfm['RF_Segment'].replace(rf_seg_map, regex=True)\n",
    "rfm['RFM_Seg'] = rfm['RFM_Segment'].replace(rfm_seg_map, regex=True)\n",
    "rfm"
   ]
  },
  {
   "cell_type": "code",
   "execution_count": 26,
   "id": "e015d02e",
   "metadata": {},
   "outputs": [],
   "source": [
    "rfm['RFM_Score'] = 'Green'\n",
    "rfm.loc[rfm['Score']>5,'RFM_Score'] = 'Bronze' \n",
    "rfm.loc[rfm['Score']>7,'RFM_Score'] = 'Silver' \n",
    "rfm.loc[rfm['Score']>9,'RFM_Score'] = 'Gold' \n",
    "rfm.loc[rfm['Score']>10,'RFM_Score'] = 'Platinum'\n",
    "rfm.drop(columns=['Score'], errors = 'ignore', inplace=True)\n",
    "        \n",
    "rfm['Score'] = rfm['RFM_Score'].replace(score_seg_map, regex=True)"
   ]
  },
  {
   "cell_type": "code",
   "execution_count": 27,
   "id": "ed8e0d06",
   "metadata": {},
   "outputs": [
    {
     "data": {
      "text/html": [
       "<div>\n",
       "<style scoped>\n",
       "    .dataframe tbody tr th:only-of-type {\n",
       "        vertical-align: middle;\n",
       "    }\n",
       "\n",
       "    .dataframe tbody tr th {\n",
       "        vertical-align: top;\n",
       "    }\n",
       "\n",
       "    .dataframe thead th {\n",
       "        text-align: right;\n",
       "    }\n",
       "</style>\n",
       "<table border=\"1\" class=\"dataframe\">\n",
       "  <thead>\n",
       "    <tr style=\"text-align: right;\">\n",
       "      <th></th>\n",
       "      <th>Dystrybutor</th>\n",
       "      <th>Towar</th>\n",
       "      <th>Data</th>\n",
       "      <th>p_alive</th>\n",
       "      <th>monetary_value</th>\n",
       "      <th>Exp_Orders_3M</th>\n",
       "      <th>CLV_3M</th>\n",
       "      <th>R</th>\n",
       "      <th>F</th>\n",
       "      <th>M</th>\n",
       "      <th>RF_Segment</th>\n",
       "      <th>RFM_Segment</th>\n",
       "      <th>RF_Seg</th>\n",
       "      <th>RFM_Seg</th>\n",
       "      <th>RFM_Score</th>\n",
       "      <th>Score</th>\n",
       "    </tr>\n",
       "  </thead>\n",
       "  <tbody>\n",
       "    <tr>\n",
       "      <th>148319</th>\n",
       "      <td>Bio Ananasy i Brokuły Dystrybutor</td>\n",
       "      <td>Pomidory malinowe</td>\n",
       "      <td>2023-12-25</td>\n",
       "      <td>0.742</td>\n",
       "      <td>73.450000</td>\n",
       "      <td>1.092</td>\n",
       "      <td>81.424978</td>\n",
       "      <td>3</td>\n",
       "      <td>3</td>\n",
       "      <td>4</td>\n",
       "      <td>33</td>\n",
       "      <td>334</td>\n",
       "      <td>Need Attention</td>\n",
       "      <td>Need Attention</td>\n",
       "      <td>Gold</td>\n",
       "      <td>4</td>\n",
       "    </tr>\n",
       "    <tr>\n",
       "      <th>148320</th>\n",
       "      <td>Bio Ananasy i Cebule Magazyn</td>\n",
       "      <td>Jabłka</td>\n",
       "      <td>2023-12-25</td>\n",
       "      <td>0.001</td>\n",
       "      <td>61.533333</td>\n",
       "      <td>0.000</td>\n",
       "      <td>0.030946</td>\n",
       "      <td>1</td>\n",
       "      <td>1</td>\n",
       "      <td>1</td>\n",
       "      <td>11</td>\n",
       "      <td>111</td>\n",
       "      <td>Hibernating</td>\n",
       "      <td>Lost Customers</td>\n",
       "      <td>Green</td>\n",
       "      <td>1</td>\n",
       "    </tr>\n",
       "    <tr>\n",
       "      <th>148321</th>\n",
       "      <td>Bio Ananasy i Cebule Sp. z o.o.</td>\n",
       "      <td>Papryka</td>\n",
       "      <td>2023-12-25</td>\n",
       "      <td>0.092</td>\n",
       "      <td>75.200000</td>\n",
       "      <td>0.032</td>\n",
       "      <td>2.740476</td>\n",
       "      <td>1</td>\n",
       "      <td>1</td>\n",
       "      <td>1</td>\n",
       "      <td>11</td>\n",
       "      <td>111</td>\n",
       "      <td>Hibernating</td>\n",
       "      <td>Lost Customers</td>\n",
       "      <td>Green</td>\n",
       "      <td>1</td>\n",
       "    </tr>\n",
       "    <tr>\n",
       "      <th>148322</th>\n",
       "      <td>Bio Ananasy i Dynie Firma</td>\n",
       "      <td>Jabłka</td>\n",
       "      <td>2023-12-25</td>\n",
       "      <td>0.064</td>\n",
       "      <td>8.800000</td>\n",
       "      <td>0.020</td>\n",
       "      <td>0.274237</td>\n",
       "      <td>1</td>\n",
       "      <td>1</td>\n",
       "      <td>1</td>\n",
       "      <td>11</td>\n",
       "      <td>111</td>\n",
       "      <td>Hibernating</td>\n",
       "      <td>Lost Customers</td>\n",
       "      <td>Green</td>\n",
       "      <td>1</td>\n",
       "    </tr>\n",
       "    <tr>\n",
       "      <th>148323</th>\n",
       "      <td>Bio Ananasy i Dynie Firma</td>\n",
       "      <td>Ziemniaki</td>\n",
       "      <td>2023-12-25</td>\n",
       "      <td>0.715</td>\n",
       "      <td>73.100000</td>\n",
       "      <td>1.051</td>\n",
       "      <td>77.694394</td>\n",
       "      <td>3</td>\n",
       "      <td>3</td>\n",
       "      <td>4</td>\n",
       "      <td>33</td>\n",
       "      <td>334</td>\n",
       "      <td>Need Attention</td>\n",
       "      <td>Need Attention</td>\n",
       "      <td>Gold</td>\n",
       "      <td>4</td>\n",
       "    </tr>\n",
       "    <tr>\n",
       "      <th>...</th>\n",
       "      <td>...</td>\n",
       "      <td>...</td>\n",
       "      <td>...</td>\n",
       "      <td>...</td>\n",
       "      <td>...</td>\n",
       "      <td>...</td>\n",
       "      <td>...</td>\n",
       "      <td>...</td>\n",
       "      <td>...</td>\n",
       "      <td>...</td>\n",
       "      <td>...</td>\n",
       "      <td>...</td>\n",
       "      <td>...</td>\n",
       "      <td>...</td>\n",
       "      <td>...</td>\n",
       "      <td>...</td>\n",
       "    </tr>\n",
       "    <tr>\n",
       "      <th>150404</th>\n",
       "      <td>Świeże Wiśnie i Sałata Magazyn</td>\n",
       "      <td>Pomidory koktajlowe</td>\n",
       "      <td>2023-12-25</td>\n",
       "      <td>0.850</td>\n",
       "      <td>73.900000</td>\n",
       "      <td>1.266</td>\n",
       "      <td>105.902888</td>\n",
       "      <td>3</td>\n",
       "      <td>4</td>\n",
       "      <td>4</td>\n",
       "      <td>34</td>\n",
       "      <td>344</td>\n",
       "      <td>Loyal Customers</td>\n",
       "      <td>Loyal Customers</td>\n",
       "      <td>Platinum</td>\n",
       "      <td>5</td>\n",
       "    </tr>\n",
       "    <tr>\n",
       "      <th>150405</th>\n",
       "      <td>Świeże Wiśnie i Szpinak Firma</td>\n",
       "      <td>Ziemniaki</td>\n",
       "      <td>2023-12-25</td>\n",
       "      <td>0.905</td>\n",
       "      <td>74.280952</td>\n",
       "      <td>2.420</td>\n",
       "      <td>180.813557</td>\n",
       "      <td>3</td>\n",
       "      <td>4</td>\n",
       "      <td>5</td>\n",
       "      <td>34</td>\n",
       "      <td>345</td>\n",
       "      <td>Loyal Customers</td>\n",
       "      <td>Loyal Customers</td>\n",
       "      <td>Platinum</td>\n",
       "      <td>5</td>\n",
       "    </tr>\n",
       "    <tr>\n",
       "      <th>150406</th>\n",
       "      <td>Świeże Wiśnie i Szpinak Sp. z o.o.</td>\n",
       "      <td>Cebula</td>\n",
       "      <td>2023-12-25</td>\n",
       "      <td>0.788</td>\n",
       "      <td>65.900000</td>\n",
       "      <td>1.930</td>\n",
       "      <td>135.701316</td>\n",
       "      <td>3</td>\n",
       "      <td>4</td>\n",
       "      <td>4</td>\n",
       "      <td>34</td>\n",
       "      <td>344</td>\n",
       "      <td>Loyal Customers</td>\n",
       "      <td>Loyal Customers</td>\n",
       "      <td>Platinum</td>\n",
       "      <td>5</td>\n",
       "    </tr>\n",
       "    <tr>\n",
       "      <th>150407</th>\n",
       "      <td>Świeże Wiśnie i Warzywa Hurtownia</td>\n",
       "      <td>Jabłka</td>\n",
       "      <td>2023-12-25</td>\n",
       "      <td>0.994</td>\n",
       "      <td>51.528000</td>\n",
       "      <td>3.168</td>\n",
       "      <td>164.187641</td>\n",
       "      <td>5</td>\n",
       "      <td>5</td>\n",
       "      <td>5</td>\n",
       "      <td>55</td>\n",
       "      <td>555</td>\n",
       "      <td>Champions</td>\n",
       "      <td>Champions</td>\n",
       "      <td>Platinum</td>\n",
       "      <td>5</td>\n",
       "    </tr>\n",
       "    <tr>\n",
       "      <th>150408</th>\n",
       "      <td>Świeże Wiśnie i Warzywa Hurtownia</td>\n",
       "      <td>Ziemniaki</td>\n",
       "      <td>2023-12-25</td>\n",
       "      <td>0.996</td>\n",
       "      <td>60.069231</td>\n",
       "      <td>4.855</td>\n",
       "      <td>292.648728</td>\n",
       "      <td>5</td>\n",
       "      <td>5</td>\n",
       "      <td>5</td>\n",
       "      <td>55</td>\n",
       "      <td>555</td>\n",
       "      <td>Champions</td>\n",
       "      <td>Champions</td>\n",
       "      <td>Platinum</td>\n",
       "      <td>5</td>\n",
       "    </tr>\n",
       "  </tbody>\n",
       "</table>\n",
       "<p>2090 rows × 16 columns</p>\n",
       "</div>"
      ],
      "text/plain": [
       "                               Dystrybutor                Towar       Data  \\\n",
       "148319   Bio Ananasy i Brokuły Dystrybutor    Pomidory malinowe 2023-12-25   \n",
       "148320        Bio Ananasy i Cebule Magazyn               Jabłka 2023-12-25   \n",
       "148321     Bio Ananasy i Cebule Sp. z o.o.              Papryka 2023-12-25   \n",
       "148322           Bio Ananasy i Dynie Firma               Jabłka 2023-12-25   \n",
       "148323           Bio Ananasy i Dynie Firma            Ziemniaki 2023-12-25   \n",
       "...                                    ...                  ...        ...   \n",
       "150404      Świeże Wiśnie i Sałata Magazyn  Pomidory koktajlowe 2023-12-25   \n",
       "150405       Świeże Wiśnie i Szpinak Firma            Ziemniaki 2023-12-25   \n",
       "150406  Świeże Wiśnie i Szpinak Sp. z o.o.               Cebula 2023-12-25   \n",
       "150407   Świeże Wiśnie i Warzywa Hurtownia               Jabłka 2023-12-25   \n",
       "150408   Świeże Wiśnie i Warzywa Hurtownia            Ziemniaki 2023-12-25   \n",
       "\n",
       "        p_alive  monetary_value  Exp_Orders_3M      CLV_3M  R  F  M  \\\n",
       "148319    0.742       73.450000          1.092   81.424978  3  3  4   \n",
       "148320    0.001       61.533333          0.000    0.030946  1  1  1   \n",
       "148321    0.092       75.200000          0.032    2.740476  1  1  1   \n",
       "148322    0.064        8.800000          0.020    0.274237  1  1  1   \n",
       "148323    0.715       73.100000          1.051   77.694394  3  3  4   \n",
       "...         ...             ...            ...         ... .. .. ..   \n",
       "150404    0.850       73.900000          1.266  105.902888  3  4  4   \n",
       "150405    0.905       74.280952          2.420  180.813557  3  4  5   \n",
       "150406    0.788       65.900000          1.930  135.701316  3  4  4   \n",
       "150407    0.994       51.528000          3.168  164.187641  5  5  5   \n",
       "150408    0.996       60.069231          4.855  292.648728  5  5  5   \n",
       "\n",
       "       RF_Segment RFM_Segment           RF_Seg          RFM_Seg RFM_Score  \\\n",
       "148319         33         334   Need Attention   Need Attention      Gold   \n",
       "148320         11         111      Hibernating   Lost Customers     Green   \n",
       "148321         11         111      Hibernating   Lost Customers     Green   \n",
       "148322         11         111      Hibernating   Lost Customers     Green   \n",
       "148323         33         334   Need Attention   Need Attention      Gold   \n",
       "...           ...         ...              ...              ...       ...   \n",
       "150404         34         344  Loyal Customers  Loyal Customers  Platinum   \n",
       "150405         34         345  Loyal Customers  Loyal Customers  Platinum   \n",
       "150406         34         344  Loyal Customers  Loyal Customers  Platinum   \n",
       "150407         55         555        Champions        Champions  Platinum   \n",
       "150408         55         555        Champions        Champions  Platinum   \n",
       "\n",
       "        Score  \n",
       "148319      4  \n",
       "148320      1  \n",
       "148321      1  \n",
       "148322      1  \n",
       "148323      4  \n",
       "...       ...  \n",
       "150404      5  \n",
       "150405      5  \n",
       "150406      5  \n",
       "150407      5  \n",
       "150408      5  \n",
       "\n",
       "[2090 rows x 16 columns]"
      ]
     },
     "execution_count": 27,
     "metadata": {},
     "output_type": "execute_result"
    }
   ],
   "source": [
    "rfm"
   ]
  },
  {
   "cell_type": "code",
   "execution_count": 29,
   "id": "f56b52e6",
   "metadata": {},
   "outputs": [
    {
     "name": "stdout",
     "output_type": "stream",
     "text": [
      "           p_alive  Exp_Orders_3M       CLV_3M\n",
      "count  2090.000000    2090.000000  2090.000000\n",
      "mean      0.651982       1.525999    98.025548\n",
      "std       0.372712       2.121470   189.703426\n",
      "min       0.000000       0.000000     0.000007\n",
      "25%       0.264500       0.175250     6.897348\n",
      "50%       0.851000       0.928000    40.326207\n",
      "75%       0.966000       2.013750   119.527469\n",
      "max       0.999000      30.407000  3102.614701\n"
     ]
    }
   ],
   "source": [
    "rfm_rfm = rfm[['p_alive','Exp_Orders_3M','CLV_3M']]\n",
    "print(rfm_rfm.describe())"
   ]
  },
  {
   "cell_type": "code",
   "execution_count": 34,
   "id": "7909b711",
   "metadata": {},
   "outputs": [
    {
     "name": "stderr",
     "output_type": "stream",
     "text": [
      "C:\\Users\\rados\\AppData\\Local\\Temp\\ipykernel_19556\\3370320224.py:6: MatplotlibDeprecationWarning:\n",
      "\n",
      "Auto-removal of overlapping axes is deprecated since 3.6 and will be removed two minor releases later; explicitly call ax.remove() as needed.\n",
      "\n"
     ]
    },
    {
     "data": {
      "image/png": "[encoded data removed]",
      "text/plain": [
       "<Figure size 1000x1200 with 3 Axes>"
      ]
     },
     "metadata": {},
     "output_type": "display_data"
    }
   ],
   "source": [
    "from matplotlib import pyplot as plt\n",
    "import seaborn as sns\n",
    "\n",
    "f, ax = plt.subplots(figsize=(10, 12))\n",
    "\n",
    "plt.subplot(3, 1, 1)\n",
    "sns.histplot(rfm.p_alive, label = 'p_alive', kde=True)\n",
    "\n",
    "plt.subplot(3, 1, 2)\n",
    "sns.histplot(rfm.Exp_Orders_3M, label = 'Exp_Orders_3M', kde=True)\n",
    "\n",
    "plt.subplot(3, 1, 3)\n",
    "sns.histplot(rfm.CLV_3M, label = 'CLV_3M', kde=True)\n",
    "\n",
    "plt.style.use('fivethirtyeight')\n",
    "plt.tight_layout()\n",
    "plt.show()"
   ]
  },
  {
   "cell_type": "code",
   "execution_count": 39,
   "id": "e904b199",
   "metadata": {},
   "outputs": [],
   "source": [
    "# Apply log transformation to address skewness\n",
    "\n",
    "# Apply log transformation to address skewness\n",
    "# rfm_log = rfm[['Recency', 'Frequency', 'Monetary']].apply(np.log, axis = 1).round(3)\n",
    "\n",
    "## Pytanie - czy usuwamy uśmiercionych konsumentów ??? (p_alive == 0)\n",
    "rfm_log = rfm[['Exp_Orders_3M','CLV_3M', 'p_alive']]\n"
   ]
  },
  {
   "cell_type": "markdown",
   "id": "d738c4d7",
   "metadata": {},
   "source": [
    "### K-mean clustering"
   ]
  },
  {
   "cell_type": "code",
   "execution_count": 40,
   "id": "a631aee8",
   "metadata": {},
   "outputs": [
    {
     "data": {
      "text/html": [
       "<div>\n",
       "<style scoped>\n",
       "    .dataframe tbody tr th:only-of-type {\n",
       "        vertical-align: middle;\n",
       "    }\n",
       "\n",
       "    .dataframe tbody tr th {\n",
       "        vertical-align: top;\n",
       "    }\n",
       "\n",
       "    .dataframe thead th {\n",
       "        text-align: right;\n",
       "    }\n",
       "</style>\n",
       "<table border=\"1\" class=\"dataframe\">\n",
       "  <thead>\n",
       "    <tr style=\"text-align: right;\">\n",
       "      <th></th>\n",
       "      <th>p_alive</th>\n",
       "      <th>Exp_Orders_3M</th>\n",
       "      <th>CLV_3M</th>\n",
       "    </tr>\n",
       "  </thead>\n",
       "  <tbody>\n",
       "    <tr>\n",
       "      <th>0</th>\n",
       "      <td>-0.204624</td>\n",
       "      <td>-0.087529</td>\n",
       "      <td>0.241579</td>\n",
       "    </tr>\n",
       "    <tr>\n",
       "      <th>1</th>\n",
       "      <td>-0.719484</td>\n",
       "      <td>-0.516691</td>\n",
       "      <td>-1.747028</td>\n",
       "    </tr>\n",
       "    <tr>\n",
       "      <th>2</th>\n",
       "      <td>-0.704397</td>\n",
       "      <td>-0.502405</td>\n",
       "      <td>-1.502813</td>\n",
       "    </tr>\n",
       "    <tr>\n",
       "      <th>3</th>\n",
       "      <td>-0.710055</td>\n",
       "      <td>-0.515408</td>\n",
       "      <td>-1.577956</td>\n",
       "    </tr>\n",
       "    <tr>\n",
       "      <th>4</th>\n",
       "      <td>-0.223955</td>\n",
       "      <td>-0.107199</td>\n",
       "      <td>0.169119</td>\n",
       "    </tr>\n",
       "    <tr>\n",
       "      <th>...</th>\n",
       "      <td>...</td>\n",
       "      <td>...</td>\n",
       "      <td>...</td>\n",
       "    </tr>\n",
       "    <tr>\n",
       "      <th>2085</th>\n",
       "      <td>-0.122585</td>\n",
       "      <td>0.041534</td>\n",
       "      <td>0.531416</td>\n",
       "    </tr>\n",
       "    <tr>\n",
       "      <th>2086</th>\n",
       "      <td>0.421507</td>\n",
       "      <td>0.436512</td>\n",
       "      <td>0.679019</td>\n",
       "    </tr>\n",
       "    <tr>\n",
       "      <th>2087</th>\n",
       "      <td>0.190480</td>\n",
       "      <td>0.198651</td>\n",
       "      <td>0.365028</td>\n",
       "    </tr>\n",
       "    <tr>\n",
       "      <th>2088</th>\n",
       "      <td>0.774177</td>\n",
       "      <td>0.348849</td>\n",
       "      <td>0.917866</td>\n",
       "    </tr>\n",
       "    <tr>\n",
       "      <th>2089</th>\n",
       "      <td>1.569571</td>\n",
       "      <td>1.026179</td>\n",
       "      <td>0.923233</td>\n",
       "    </tr>\n",
       "  </tbody>\n",
       "</table>\n",
       "<p>2090 rows × 3 columns</p>\n",
       "</div>"
      ],
      "text/plain": [
       "       p_alive  Exp_Orders_3M    CLV_3M\n",
       "0    -0.204624      -0.087529  0.241579\n",
       "1    -0.719484      -0.516691 -1.747028\n",
       "2    -0.704397      -0.502405 -1.502813\n",
       "3    -0.710055      -0.515408 -1.577956\n",
       "4    -0.223955      -0.107199  0.169119\n",
       "...        ...            ...       ...\n",
       "2085 -0.122585       0.041534  0.531416\n",
       "2086  0.421507       0.436512  0.679019\n",
       "2087  0.190480       0.198651  0.365028\n",
       "2088  0.774177       0.348849  0.917866\n",
       "2089  1.569571       1.026179  0.923233\n",
       "\n",
       "[2090 rows x 3 columns]"
      ]
     },
     "execution_count": 40,
     "metadata": {},
     "output_type": "execute_result"
    }
   ],
   "source": [
    "# Normalize the variables with StandardScaler\n",
    "from sklearn.preprocessing import StandardScaler\n",
    "scaler = StandardScaler()\n",
    "scaler.fit(rfm_log)\n",
    "\n",
    "# Store it separately for clustering\n",
    "rfm_normalized = scaler.transform(rfm_log)\n",
    "rfm_normalized = pd.DataFrame(rfm_normalized, columns = ['p_alive','Exp_Orders_3M','CLV_3M'])\n",
    "rfm_normalized"
   ]
  },
  {
   "cell_type": "code",
   "execution_count": 41,
   "id": "eefcf7e7",
   "metadata": {},
   "outputs": [
    {
     "data": {
      "image/png": "[encoded data removed]",
      "text/plain": [
       "<Figure size 800x400 with 1 Axes>"
      ]
     },
     "metadata": {},
     "output_type": "display_data"
    }
   ],
   "source": [
    "from sklearn.cluster import KMeans\n",
    "\n",
    "#First : Get the Best KMeans \n",
    "ks = range(1,8)\n",
    "inertias=[]\n",
    "for k in ks :\n",
    "    # Create a KMeans clusters\n",
    "    kc = KMeans(n_clusters=k, random_state=1)\n",
    "    kc.fit(rfm_normalized)\n",
    "    inertias.append(kc.inertia_)\n",
    "\n",
    "# Plot ks vs inertias\n",
    "f, ax = plt.subplots(figsize=(8, 4))\n",
    "plt.plot(ks, inertias, '-o')\n",
    "plt.xlabel('Number of clusters, k')\n",
    "plt.ylabel('Inertia')\n",
    "plt.xticks(ks)\n",
    "plt.title('What is the Best Number for KMeans')\n",
    "plt.show()"
   ]
  }
 ],
 "metadata": {
  "kernelspec": {
   "display_name": "Python 3 (ipykernel)",
   "language": "python",
   "name": "python3"
  },
  "language_info": {
   "codemirror_mode": {
    "name": "ipython",
    "version": 3
   },
   "file_extension": ".py",
   "mimetype": "text/x-python",
   "name": "python",
   "nbconvert_exporter": "python",
   "pygments_lexer": "ipython3",
   "version": "3.12.2"
  },
  "widgets": {
   "application/vnd.jupyter.widget-state+json": {
    "state": {},
    "version_major": 2,
    "version_minor": 0
   }
  }
 },
 "nbformat": 4,
 "nbformat_minor": 5
}
