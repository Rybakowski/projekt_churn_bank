{
 "cells": [
  {
   "cell_type": "code",
   "execution_count": null,
   "id": "b00c98f1-bbc8-44a2-ba53-e30f3a93a05b",
   "metadata": {},
   "outputs": [],
   "source": []
  }
 ],
 "metadata": {
  "kernelspec": {
   "display_name": "",
   "name": ""
  },
  "language_info": {
   "name": ""
  }
 },
 "nbformat": 4,
 "nbformat_minor": 5
}
